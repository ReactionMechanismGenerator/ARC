{
 "cells": [
  {
   "cell_type": "markdown",
   "id": "9bfc8aa6",
   "metadata": {},
   "source": [
    "# ARC Tools\n",
    "## TS Guesses\n",
    "Enter smiles of reactants and products. Write ``None`` if needed."
   ]
  },
  {
   "cell_type": "code",
   "execution_count": 1,
   "id": "c2be78fd",
   "metadata": {},
   "outputs": [],
   "source": [
    "r1_smiles = '[OH]'\n",
    "r2_smiles = 'CCC'\n",
    "\n",
    "p1_smiles = 'O'\n",
    "p2_smiles = '[CH2]CC'"
   ]
  },
  {
   "cell_type": "code",
   "execution_count": 2,
   "id": "1571f9b1",
   "metadata": {},
   "outputs": [],
   "source": [
    "# influences the number of guesses from heuristics and GCN\n",
    "dihedral_increment = 90"
   ]
  },
  {
   "cell_type": "code",
   "execution_count": 3,
   "id": "5bae17f3",
   "metadata": {},
   "outputs": [],
   "source": [
    "from arc.imports import settings\n",
    "from arc.job.adapters.common import all_families_ts_adapters, ts_adapters_by_rmg_family\n",
    "from arc.plotter import draw_structure\n",
    "from arc.reaction import ARCReaction\n",
    "from arc.rmgdb import make_rmg_database_object, load_families_only\n",
    "from arc.species import ARCSpecies\n",
    "from arc.species.converter import xyz_to_str\n",
    "from arc.scheduler import Scheduler\n",
    "\n",
    "%matplotlib inline"
   ]
  },
  {
   "cell_type": "code",
   "execution_count": 4,
   "id": "826ede9f",
   "metadata": {},
   "outputs": [],
   "source": [
    "rmgdb = make_rmg_database_object()\n",
    "load_families_only(rmgdb)"
   ]
  },
  {
   "cell_type": "code",
   "execution_count": 5,
   "id": "9a2a6dc9",
   "metadata": {},
   "outputs": [],
   "source": [
    "def generate_species_from_smiles(smiles):\n",
    "    return ARCSpecies(label=smiles, smiles=smiles)"
   ]
  },
  {
   "cell_type": "code",
   "execution_count": 6,
   "id": "348b3b0a",
   "metadata": {},
   "outputs": [
    {
     "name": "stdout",
     "output_type": "stream",
     "text": [
      "Considering the following reaction:\n",
      "\n",
      "[OH] + CCC <=> O + [CH2]CC\n",
      "\n",
      "Reaction family: H_Abstraction\n"
     ]
    }
   ],
   "source": [
    "r_species, p_species = list(), list()\n",
    "for r_smiles in [r1_smiles, r2_smiles]:\n",
    "    if r_smiles is not None:\n",
    "        r_species.append(generate_species_from_smiles(r_smiles))\n",
    "for p_smiles in [p1_smiles, p2_smiles]:\n",
    "    if p_smiles is not None:\n",
    "        p_species.append(generate_species_from_smiles(p_smiles))\n",
    "\n",
    "rxn = ARCReaction(r_species=r_species, p_species=p_species)\n",
    "rxn.ts_species = ARCSpecies(label='TS', is_ts=True)\n",
    "rxn.determine_family(rmg_database=rmgdb)\n",
    "\n",
    "print(f'Considering the following reaction:\\n\\n{rxn.label}\\n\\nReaction family: {rxn.family.label}')"
   ]
  },
  {
   "cell_type": "code",
   "execution_count": 7,
   "id": "2db720a0",
   "metadata": {
    "scrolled": false
   },
   "outputs": [],
   "source": [
    "sched = Scheduler(project='TS_search_1',\n",
    "                  species_list=rxn.r_species + rxn.p_species,\n",
    "                  rmg_database=rmgdb,\n",
    "                  conformer_level='wb97xd/Def2TZVP',\n",
    "                  opt_level='wb97xd/Def2TZVP',\n",
    "                  sp_level='wb97xd/Def2TZVP',\n",
    "                  freq_level='wb97xd/Def2TZVP',\n",
    "                  ess_settings=None,\n",
    "                  testing=True,\n",
    "                  project_directory='/home/alon/Dropbox (MIT)/runs/TS_search_1',\n",
    "                 )\n",
    "sched.job_dict = {'TS': {'tsg': {}}}"
   ]
  },
  {
   "cell_type": "code",
   "execution_count": 8,
   "id": "0ff84291",
   "metadata": {},
   "outputs": [
    {
     "name": "stdout",
     "output_type": "stream",
     "text": [
      "Considering the following TS Search methods: ['heuristics', 'autotst', 'gcn', 'kinbot']\n",
      "dihedral_increment: 90\n"
     ]
    },
    {
     "name": "stderr",
     "output_type": "stream",
     "text": [
      "/bin/bash: -c: line 0: syntax error near unexpected token `('\n",
      "/bin/bash: -c: line 0: `source ~/.bashrc; /home/alon/anaconda3/envs/tst_env/bin/python /mnt/Data/Code/ARC/arc/job/adapters/ts/scripts/autotst_script.py [OH]+CCC_O+[CH2]CC /home/alon/Dropbox (MIT)/runs/TS_search_1/calcs/TS_guesses/TS/tsg1/ts_results.yml'\n",
      "WARNING:arc:AutoTST subprocess did not give a successful return code for ARCReaction(label=\"[OH] + CCC <=> O + [CH2]CC\", rmg_reaction=\"[OH] + CCC <=> O + [CH2]CC\", multiplicity=2, charge=0) in the forward direction.\n",
      "Got return code: 1\n",
      "stdout: None\n",
      "stderr: None\n",
      "/bin/bash: -c: line 0: syntax error near unexpected token `('\n",
      "/bin/bash: -c: line 0: `source ~/.bashrc; /home/alon/anaconda3/envs/tst_env/bin/python /mnt/Data/Code/ARC/arc/job/adapters/ts/scripts/autotst_script.py O+[CH2]CC_[OH]+CCC /home/alon/Dropbox (MIT)/runs/TS_search_1/calcs/TS_guesses/TS/tsg1/ts_results.yml'\n",
      "WARNING:arc:AutoTST subprocess did not give a successful return code for ARCReaction(label=\"[OH] + CCC <=> O + [CH2]CC\", rmg_reaction=\"[OH] + CCC <=> O + [CH2]CC\", multiplicity=2, charge=0) in the reverse direction.\n",
      "Got return code: 1\n",
      "stdout: None\n",
      "stderr: None\n"
     ]
    },
    {
     "name": "stdout",
     "output_type": "stream",
     "text": [
      "Got 4 TS Guesses (before clustering).\n",
      "Got 4 TS Guesses (after clustering).\n"
     ]
    }
   ],
   "source": [
    "tsg_index = 0\n",
    "ts_adapters = settings['ts_adapters']\n",
    "ts_adapters = [a.lower() for a in ts_adapters]\n",
    "\n",
    "print(f'Considering the following TS Search methods: {ts_adapters}')\n",
    "\n",
    "for method in ts_adapters:\n",
    "    if method in all_families_ts_adapters or \\\n",
    "            (rxn.family is not None\n",
    "             and rxn.family.label in list(ts_adapters_by_rmg_family.keys())\n",
    "             and method in ts_adapters_by_rmg_family[rxn.family.label]):\n",
    "        sched.run_job(job_type='tsg',\n",
    "                      job_adapter=method,\n",
    "                      reactions=[rxn],\n",
    "                      tsg=tsg_index,\n",
    "                      dihedral_increment=dihedral_increment,\n",
    "                     )\n",
    "        tsg_index += 1\n",
    "\n",
    "print(f'Got {len(rxn.ts_species.ts_guesses)} TS Guesses (before clustering).')\n",
    "\n",
    "rxn.ts_species.cluster_tsgs()\n",
    "        \n",
    "print(f'Got {len(rxn.ts_species.ts_guesses)} TS Guesses (after clustering).')"
   ]
  },
  {
   "cell_type": "code",
   "execution_count": 9,
   "id": "91452d76",
   "metadata": {
    "scrolled": false
   },
   "outputs": [
    {
     "name": "stdout",
     "output_type": "stream",
     "text": [
      "heuristics 0 (success: True):\n",
      "coordinates:\n",
      "O       1.43737500    1.58112542    0.11736861\n",
      "H       1.91964767    0.94498355   -0.43190146\n",
      "C      -0.56973933    0.33273535    0.85620513\n",
      "C      -0.56973933   -1.07932962    0.29545433\n",
      "C      -0.56973933   -1.07932962   -1.22387717\n",
      "H       0.49495302    0.99495540    0.46428247\n",
      "H      -0.56974009    0.30632916    1.95037139\n",
      "H      -1.45698281    0.88458558    0.52960174\n",
      "H      -1.45215391   -1.61664362    0.66021023\n",
      "H       0.31267551   -1.61664346    0.66021017\n",
      "H       0.31750400   -0.57210949   -1.61622422\n",
      "H      -1.45698284   -0.57210981   -1.61622424\n",
      "H      -0.56973903   -2.10599218   -1.60316723\n"
     ]
    },
    {
     "data": {
      "application/3dmoljs_load.v0": "<div id=\"3dmolviewer_16580360278266184\"  style=\"position: relative; width: 400px; height: 400px\">\n        <p id=\"3dmolwarning_16580360278266184\" style=\"background-color:#ffcccc;color:black\">You appear to be running in JupyterLab (or JavaScript failed to load for some other reason).  You need to install the 3dmol extension: <br>\n        <tt>jupyter labextension install jupyterlab_3dmol</tt></p>\n        </div>\n<script>\n\nvar loadScriptAsync = function(uri){\n  return new Promise((resolve, reject) => {\n    var tag = document.createElement('script');\n    tag.src = uri;\n    tag.async = true;\n    tag.onload = () => {\n      resolve();\n    };\n  var firstScriptTag = document.getElementsByTagName('script')[0];\n  firstScriptTag.parentNode.insertBefore(tag, firstScriptTag);\n});\n};\n\nif(typeof $3Dmolpromise === 'undefined') {\n$3Dmolpromise = null;\n  $3Dmolpromise = loadScriptAsync('https://3dmol.org/build/3Dmol.js');\n}\n\nvar viewer_16580360278266184 = null;\nvar warn = document.getElementById(\"3dmolwarning_16580360278266184\");\nif(warn) {\n    warn.parentNode.removeChild(warn);\n}\n$3Dmolpromise.then(function() {\nviewer_16580360278266184 = $3Dmol.createViewer($(\"#3dmolviewer_16580360278266184\"),{backgroundColor:\"white\"});\nviewer_16580360278266184.zoomTo();\n\tviewer_16580360278266184.addModel(\"\\n     RDKit          3D\\n\\n 13 11  0  0  0  0  0  0  0  0999 V2000\\n    1.4374    1.5811    0.1174 O   0  0  0  0  0  0  0  0  0  0  0  0\\n    1.9196    0.9450   -0.4319 H   0  0  0  0  0  0  0  0  0  0  0  0\\n   -0.5697    0.3327    0.8562 C   0  0  0  0  0  3  0  0  0  0  0  0\\n   -0.5697   -1.0793    0.2955 C   0  0  0  0  0  0  0  0  0  0  0  0\\n   -0.5697   -1.0793   -1.2239 C   0  0  0  0  0  0  0  0  0  0  0  0\\n    0.4950    0.9950    0.4643 H   0  0  0  0  0  0  0  0  0  0  0  0\\n   -0.5697    0.3063    1.9504 H   0  0  0  0  0  0  0  0  0  0  0  0\\n   -1.4570    0.8846    0.5296 H   0  0  0  0  0  0  0  0  0  0  0  0\\n   -1.4522   -1.6166    0.6602 H   0  0  0  0  0  0  0  0  0  0  0  0\\n    0.3127   -1.6166    0.6602 H   0  0  0  0  0  0  0  0  0  0  0  0\\n    0.3175   -0.5721   -1.6162 H   0  0  0  0  0  0  0  0  0  0  0  0\\n   -1.4570   -0.5721   -1.6162 H   0  0  0  0  0  0  0  0  0  0  0  0\\n   -0.5697   -2.1060   -1.6032 H   0  0  0  0  0  0  0  0  0  0  0  0\\n  1  2  1  0\\n  1  6  1  0\\n  3  4  1  0\\n  3  7  1  0\\n  3  8  1  0\\n  4  5  1  0\\n  4  9  1  0\\n  4 10  1  0\\n  5 11  1  0\\n  5 12  1  0\\n  5 13  1  0\\nM  RAD  1   3   2\\nM  END\\n\",\"sdf\");\n\tviewer_16580360278266184.setStyle({\"stick\": {}});\n\tviewer_16580360278266184.zoomTo();\nviewer_16580360278266184.render();\n});\n</script>",
      "text/html": [
       "<div id=\"3dmolviewer_16580360278266184\"  style=\"position: relative; width: 400px; height: 400px\">\n",
       "        <p id=\"3dmolwarning_16580360278266184\" style=\"background-color:#ffcccc;color:black\">You appear to be running in JupyterLab (or JavaScript failed to load for some other reason).  You need to install the 3dmol extension: <br>\n",
       "        <tt>jupyter labextension install jupyterlab_3dmol</tt></p>\n",
       "        </div>\n",
       "<script>\n",
       "\n",
       "var loadScriptAsync = function(uri){\n",
       "  return new Promise((resolve, reject) => {\n",
       "    var tag = document.createElement('script');\n",
       "    tag.src = uri;\n",
       "    tag.async = true;\n",
       "    tag.onload = () => {\n",
       "      resolve();\n",
       "    };\n",
       "  var firstScriptTag = document.getElementsByTagName('script')[0];\n",
       "  firstScriptTag.parentNode.insertBefore(tag, firstScriptTag);\n",
       "});\n",
       "};\n",
       "\n",
       "if(typeof $3Dmolpromise === 'undefined') {\n",
       "$3Dmolpromise = null;\n",
       "  $3Dmolpromise = loadScriptAsync('https://3dmol.org/build/3Dmol.js');\n",
       "}\n",
       "\n",
       "var viewer_16580360278266184 = null;\n",
       "var warn = document.getElementById(\"3dmolwarning_16580360278266184\");\n",
       "if(warn) {\n",
       "    warn.parentNode.removeChild(warn);\n",
       "}\n",
       "$3Dmolpromise.then(function() {\n",
       "viewer_16580360278266184 = $3Dmol.createViewer($(\"#3dmolviewer_16580360278266184\"),{backgroundColor:\"white\"});\n",
       "viewer_16580360278266184.zoomTo();\n",
       "\tviewer_16580360278266184.addModel(\"\\n     RDKit          3D\\n\\n 13 11  0  0  0  0  0  0  0  0999 V2000\\n    1.4374    1.5811    0.1174 O   0  0  0  0  0  0  0  0  0  0  0  0\\n    1.9196    0.9450   -0.4319 H   0  0  0  0  0  0  0  0  0  0  0  0\\n   -0.5697    0.3327    0.8562 C   0  0  0  0  0  3  0  0  0  0  0  0\\n   -0.5697   -1.0793    0.2955 C   0  0  0  0  0  0  0  0  0  0  0  0\\n   -0.5697   -1.0793   -1.2239 C   0  0  0  0  0  0  0  0  0  0  0  0\\n    0.4950    0.9950    0.4643 H   0  0  0  0  0  0  0  0  0  0  0  0\\n   -0.5697    0.3063    1.9504 H   0  0  0  0  0  0  0  0  0  0  0  0\\n   -1.4570    0.8846    0.5296 H   0  0  0  0  0  0  0  0  0  0  0  0\\n   -1.4522   -1.6166    0.6602 H   0  0  0  0  0  0  0  0  0  0  0  0\\n    0.3127   -1.6166    0.6602 H   0  0  0  0  0  0  0  0  0  0  0  0\\n    0.3175   -0.5721   -1.6162 H   0  0  0  0  0  0  0  0  0  0  0  0\\n   -1.4570   -0.5721   -1.6162 H   0  0  0  0  0  0  0  0  0  0  0  0\\n   -0.5697   -2.1060   -1.6032 H   0  0  0  0  0  0  0  0  0  0  0  0\\n  1  2  1  0\\n  1  6  1  0\\n  3  4  1  0\\n  3  7  1  0\\n  3  8  1  0\\n  4  5  1  0\\n  4  9  1  0\\n  4 10  1  0\\n  5 11  1  0\\n  5 12  1  0\\n  5 13  1  0\\nM  RAD  1   3   2\\nM  END\\n\",\"sdf\");\n",
       "\tviewer_16580360278266184.setStyle({\"stick\": {}});\n",
       "\tviewer_16580360278266184.zoomTo();\n",
       "viewer_16580360278266184.render();\n",
       "});\n",
       "</script>"
      ]
     },
     "metadata": {},
     "output_type": "display_data"
    },
    {
     "name": "stdout",
     "output_type": "stream",
     "text": [
      "\n",
      "\n",
      "\n",
      "\n",
      "heuristics 1 (success: True):\n",
      "coordinates:\n",
      "O       1.44990567    1.56370672    0.12197742\n",
      "H       1.17292977    1.98298507   -0.70654599\n",
      "C      -0.55720866    0.31531664    0.86081394\n",
      "C      -0.55720866   -1.09674832    0.30006314\n",
      "C      -0.55720866   -1.09674832   -1.21926836\n",
      "H       0.50748369    0.97753670    0.46889128\n",
      "H      -0.55720941    0.28891046    1.95498020\n",
      "H      -1.44445213    0.86716687    0.53421055\n",
      "H      -1.43962324   -1.63406232    0.66481904\n",
      "H       0.32520618   -1.63406216    0.66481898\n",
      "H       0.33003468   -0.58952819   -1.61161541\n",
      "H      -1.44445217   -0.58952851   -1.61161543\n",
      "H      -0.55720836   -2.12341088   -1.59855842\n"
     ]
    },
    {
     "data": {
      "application/3dmoljs_load.v0": "<div id=\"3dmolviewer_16580360278298295\"  style=\"position: relative; width: 400px; height: 400px\">\n        <p id=\"3dmolwarning_16580360278298295\" style=\"background-color:#ffcccc;color:black\">You appear to be running in JupyterLab (or JavaScript failed to load for some other reason).  You need to install the 3dmol extension: <br>\n        <tt>jupyter labextension install jupyterlab_3dmol</tt></p>\n        </div>\n<script>\n\nvar loadScriptAsync = function(uri){\n  return new Promise((resolve, reject) => {\n    var tag = document.createElement('script');\n    tag.src = uri;\n    tag.async = true;\n    tag.onload = () => {\n      resolve();\n    };\n  var firstScriptTag = document.getElementsByTagName('script')[0];\n  firstScriptTag.parentNode.insertBefore(tag, firstScriptTag);\n});\n};\n\nif(typeof $3Dmolpromise === 'undefined') {\n$3Dmolpromise = null;\n  $3Dmolpromise = loadScriptAsync('https://3dmol.org/build/3Dmol.js');\n}\n\nvar viewer_16580360278298295 = null;\nvar warn = document.getElementById(\"3dmolwarning_16580360278298295\");\nif(warn) {\n    warn.parentNode.removeChild(warn);\n}\n$3Dmolpromise.then(function() {\nviewer_16580360278298295 = $3Dmol.createViewer($(\"#3dmolviewer_16580360278298295\"),{backgroundColor:\"white\"});\nviewer_16580360278298295.zoomTo();\n\tviewer_16580360278298295.addModel(\"\\n     RDKit          3D\\n\\n 13 11  0  0  0  0  0  0  0  0999 V2000\\n    1.4499    1.5637    0.1220 O   0  0  0  0  0  0  0  0  0  0  0  0\\n    1.1729    1.9830   -0.7065 H   0  0  0  0  0  0  0  0  0  0  0  0\\n   -0.5572    0.3153    0.8608 C   0  0  0  0  0  3  0  0  0  0  0  0\\n   -0.5572   -1.0967    0.3001 C   0  0  0  0  0  0  0  0  0  0  0  0\\n   -0.5572   -1.0967   -1.2193 C   0  0  0  0  0  0  0  0  0  0  0  0\\n    0.5075    0.9775    0.4689 H   0  0  0  0  0  0  0  0  0  0  0  0\\n   -0.5572    0.2889    1.9550 H   0  0  0  0  0  0  0  0  0  0  0  0\\n   -1.4445    0.8672    0.5342 H   0  0  0  0  0  0  0  0  0  0  0  0\\n   -1.4396   -1.6341    0.6648 H   0  0  0  0  0  0  0  0  0  0  0  0\\n    0.3252   -1.6341    0.6648 H   0  0  0  0  0  0  0  0  0  0  0  0\\n    0.3300   -0.5895   -1.6116 H   0  0  0  0  0  0  0  0  0  0  0  0\\n   -1.4445   -0.5895   -1.6116 H   0  0  0  0  0  0  0  0  0  0  0  0\\n   -0.5572   -2.1234   -1.5986 H   0  0  0  0  0  0  0  0  0  0  0  0\\n  1  2  1  0\\n  1  6  1  0\\n  3  4  1  0\\n  3  7  1  0\\n  3  8  1  0\\n  4  5  1  0\\n  4  9  1  0\\n  4 10  1  0\\n  5 11  1  0\\n  5 12  1  0\\n  5 13  1  0\\nM  RAD  1   3   2\\nM  END\\n\",\"sdf\");\n\tviewer_16580360278298295.setStyle({\"stick\": {}});\n\tviewer_16580360278298295.zoomTo();\nviewer_16580360278298295.render();\n});\n</script>",
      "text/html": [
       "<div id=\"3dmolviewer_16580360278298295\"  style=\"position: relative; width: 400px; height: 400px\">\n",
       "        <p id=\"3dmolwarning_16580360278298295\" style=\"background-color:#ffcccc;color:black\">You appear to be running in JupyterLab (or JavaScript failed to load for some other reason).  You need to install the 3dmol extension: <br>\n",
       "        <tt>jupyter labextension install jupyterlab_3dmol</tt></p>\n",
       "        </div>\n",
       "<script>\n",
       "\n",
       "var loadScriptAsync = function(uri){\n",
       "  return new Promise((resolve, reject) => {\n",
       "    var tag = document.createElement('script');\n",
       "    tag.src = uri;\n",
       "    tag.async = true;\n",
       "    tag.onload = () => {\n",
       "      resolve();\n",
       "    };\n",
       "  var firstScriptTag = document.getElementsByTagName('script')[0];\n",
       "  firstScriptTag.parentNode.insertBefore(tag, firstScriptTag);\n",
       "});\n",
       "};\n",
       "\n",
       "if(typeof $3Dmolpromise === 'undefined') {\n",
       "$3Dmolpromise = null;\n",
       "  $3Dmolpromise = loadScriptAsync('https://3dmol.org/build/3Dmol.js');\n",
       "}\n",
       "\n",
       "var viewer_16580360278298295 = null;\n",
       "var warn = document.getElementById(\"3dmolwarning_16580360278298295\");\n",
       "if(warn) {\n",
       "    warn.parentNode.removeChild(warn);\n",
       "}\n",
       "$3Dmolpromise.then(function() {\n",
       "viewer_16580360278298295 = $3Dmol.createViewer($(\"#3dmolviewer_16580360278298295\"),{backgroundColor:\"white\"});\n",
       "viewer_16580360278298295.zoomTo();\n",
       "\tviewer_16580360278298295.addModel(\"\\n     RDKit          3D\\n\\n 13 11  0  0  0  0  0  0  0  0999 V2000\\n    1.4499    1.5637    0.1220 O   0  0  0  0  0  0  0  0  0  0  0  0\\n    1.1729    1.9830   -0.7065 H   0  0  0  0  0  0  0  0  0  0  0  0\\n   -0.5572    0.3153    0.8608 C   0  0  0  0  0  3  0  0  0  0  0  0\\n   -0.5572   -1.0967    0.3001 C   0  0  0  0  0  0  0  0  0  0  0  0\\n   -0.5572   -1.0967   -1.2193 C   0  0  0  0  0  0  0  0  0  0  0  0\\n    0.5075    0.9775    0.4689 H   0  0  0  0  0  0  0  0  0  0  0  0\\n   -0.5572    0.2889    1.9550 H   0  0  0  0  0  0  0  0  0  0  0  0\\n   -1.4445    0.8672    0.5342 H   0  0  0  0  0  0  0  0  0  0  0  0\\n   -1.4396   -1.6341    0.6648 H   0  0  0  0  0  0  0  0  0  0  0  0\\n    0.3252   -1.6341    0.6648 H   0  0  0  0  0  0  0  0  0  0  0  0\\n    0.3300   -0.5895   -1.6116 H   0  0  0  0  0  0  0  0  0  0  0  0\\n   -1.4445   -0.5895   -1.6116 H   0  0  0  0  0  0  0  0  0  0  0  0\\n   -0.5572   -2.1234   -1.5986 H   0  0  0  0  0  0  0  0  0  0  0  0\\n  1  2  1  0\\n  1  6  1  0\\n  3  4  1  0\\n  3  7  1  0\\n  3  8  1  0\\n  4  5  1  0\\n  4  9  1  0\\n  4 10  1  0\\n  5 11  1  0\\n  5 12  1  0\\n  5 13  1  0\\nM  RAD  1   3   2\\nM  END\\n\",\"sdf\");\n",
       "\tviewer_16580360278298295.setStyle({\"stick\": {}});\n",
       "\tviewer_16580360278298295.zoomTo();\n",
       "viewer_16580360278298295.render();\n",
       "});\n",
       "</script>"
      ]
     },
     "metadata": {},
     "output_type": "display_data"
    },
    {
     "name": "stdout",
     "output_type": "stream",
     "text": [
      "\n",
      "\n",
      "\n",
      "\n",
      "heuristics 2 (success: True):\n",
      "coordinates:\n",
      "O       1.44703222    1.55623294    0.10154324\n",
      "H       1.34416191    2.42835646    0.51115195\n",
      "C      -0.56008211    0.30784287    0.84037976\n",
      "C      -0.56008211   -1.10422209    0.27962895\n",
      "C      -0.56008211   -1.10422209   -1.23970255\n",
      "H       0.50461024    0.97006292    0.44845710\n",
      "H      -0.56008286    0.28143668    1.93454601\n",
      "H      -1.44732558    0.85969310    0.51377636\n",
      "H      -1.44249668   -1.64153610    0.64438485\n",
      "H       0.32233273   -1.64153593    0.64438479\n",
      "H       0.32716123   -0.59700196   -1.63204960\n",
      "H      -1.44732561   -0.59700228   -1.63204962\n",
      "H      -0.56008181   -2.13088465   -1.61899260\n"
     ]
    },
    {
     "data": {
      "application/3dmoljs_load.v0": "<div id=\"3dmolviewer_16580360278336098\"  style=\"position: relative; width: 400px; height: 400px\">\n        <p id=\"3dmolwarning_16580360278336098\" style=\"background-color:#ffcccc;color:black\">You appear to be running in JupyterLab (or JavaScript failed to load for some other reason).  You need to install the 3dmol extension: <br>\n        <tt>jupyter labextension install jupyterlab_3dmol</tt></p>\n        </div>\n<script>\n\nvar loadScriptAsync = function(uri){\n  return new Promise((resolve, reject) => {\n    var tag = document.createElement('script');\n    tag.src = uri;\n    tag.async = true;\n    tag.onload = () => {\n      resolve();\n    };\n  var firstScriptTag = document.getElementsByTagName('script')[0];\n  firstScriptTag.parentNode.insertBefore(tag, firstScriptTag);\n});\n};\n\nif(typeof $3Dmolpromise === 'undefined') {\n$3Dmolpromise = null;\n  $3Dmolpromise = loadScriptAsync('https://3dmol.org/build/3Dmol.js');\n}\n\nvar viewer_16580360278336098 = null;\nvar warn = document.getElementById(\"3dmolwarning_16580360278336098\");\nif(warn) {\n    warn.parentNode.removeChild(warn);\n}\n$3Dmolpromise.then(function() {\nviewer_16580360278336098 = $3Dmol.createViewer($(\"#3dmolviewer_16580360278336098\"),{backgroundColor:\"white\"});\nviewer_16580360278336098.zoomTo();\n\tviewer_16580360278336098.addModel(\"\\n     RDKit          3D\\n\\n 13 11  0  0  0  0  0  0  0  0999 V2000\\n    1.4470    1.5562    0.1015 O   0  0  0  0  0  0  0  0  0  0  0  0\\n    1.3442    2.4284    0.5112 H   0  0  0  0  0  0  0  0  0  0  0  0\\n   -0.5601    0.3078    0.8404 C   0  0  0  0  0  3  0  0  0  0  0  0\\n   -0.5601   -1.1042    0.2796 C   0  0  0  0  0  0  0  0  0  0  0  0\\n   -0.5601   -1.1042   -1.2397 C   0  0  0  0  0  0  0  0  0  0  0  0\\n    0.5046    0.9701    0.4485 H   0  0  0  0  0  0  0  0  0  0  0  0\\n   -0.5601    0.2814    1.9345 H   0  0  0  0  0  0  0  0  0  0  0  0\\n   -1.4473    0.8597    0.5138 H   0  0  0  0  0  0  0  0  0  0  0  0\\n   -1.4425   -1.6415    0.6444 H   0  0  0  0  0  0  0  0  0  0  0  0\\n    0.3223   -1.6415    0.6444 H   0  0  0  0  0  0  0  0  0  0  0  0\\n    0.3272   -0.5970   -1.6320 H   0  0  0  0  0  0  0  0  0  0  0  0\\n   -1.4473   -0.5970   -1.6320 H   0  0  0  0  0  0  0  0  0  0  0  0\\n   -0.5601   -2.1309   -1.6190 H   0  0  0  0  0  0  0  0  0  0  0  0\\n  1  2  1  0\\n  1  6  1  0\\n  3  4  1  0\\n  3  7  1  0\\n  3  8  1  0\\n  4  5  1  0\\n  4  9  1  0\\n  4 10  1  0\\n  5 11  1  0\\n  5 12  1  0\\n  5 13  1  0\\nM  RAD  1   3   2\\nM  END\\n\",\"sdf\");\n\tviewer_16580360278336098.setStyle({\"stick\": {}});\n\tviewer_16580360278336098.zoomTo();\nviewer_16580360278336098.render();\n});\n</script>",
      "text/html": [
       "<div id=\"3dmolviewer_16580360278336098\"  style=\"position: relative; width: 400px; height: 400px\">\n",
       "        <p id=\"3dmolwarning_16580360278336098\" style=\"background-color:#ffcccc;color:black\">You appear to be running in JupyterLab (or JavaScript failed to load for some other reason).  You need to install the 3dmol extension: <br>\n",
       "        <tt>jupyter labextension install jupyterlab_3dmol</tt></p>\n",
       "        </div>\n",
       "<script>\n",
       "\n",
       "var loadScriptAsync = function(uri){\n",
       "  return new Promise((resolve, reject) => {\n",
       "    var tag = document.createElement('script');\n",
       "    tag.src = uri;\n",
       "    tag.async = true;\n",
       "    tag.onload = () => {\n",
       "      resolve();\n",
       "    };\n",
       "  var firstScriptTag = document.getElementsByTagName('script')[0];\n",
       "  firstScriptTag.parentNode.insertBefore(tag, firstScriptTag);\n",
       "});\n",
       "};\n",
       "\n",
       "if(typeof $3Dmolpromise === 'undefined') {\n",
       "$3Dmolpromise = null;\n",
       "  $3Dmolpromise = loadScriptAsync('https://3dmol.org/build/3Dmol.js');\n",
       "}\n",
       "\n",
       "var viewer_16580360278336098 = null;\n",
       "var warn = document.getElementById(\"3dmolwarning_16580360278336098\");\n",
       "if(warn) {\n",
       "    warn.parentNode.removeChild(warn);\n",
       "}\n",
       "$3Dmolpromise.then(function() {\n",
       "viewer_16580360278336098 = $3Dmol.createViewer($(\"#3dmolviewer_16580360278336098\"),{backgroundColor:\"white\"});\n",
       "viewer_16580360278336098.zoomTo();\n",
       "\tviewer_16580360278336098.addModel(\"\\n     RDKit          3D\\n\\n 13 11  0  0  0  0  0  0  0  0999 V2000\\n    1.4470    1.5562    0.1015 O   0  0  0  0  0  0  0  0  0  0  0  0\\n    1.3442    2.4284    0.5112 H   0  0  0  0  0  0  0  0  0  0  0  0\\n   -0.5601    0.3078    0.8404 C   0  0  0  0  0  3  0  0  0  0  0  0\\n   -0.5601   -1.1042    0.2796 C   0  0  0  0  0  0  0  0  0  0  0  0\\n   -0.5601   -1.1042   -1.2397 C   0  0  0  0  0  0  0  0  0  0  0  0\\n    0.5046    0.9701    0.4485 H   0  0  0  0  0  0  0  0  0  0  0  0\\n   -0.5601    0.2814    1.9345 H   0  0  0  0  0  0  0  0  0  0  0  0\\n   -1.4473    0.8597    0.5138 H   0  0  0  0  0  0  0  0  0  0  0  0\\n   -1.4425   -1.6415    0.6444 H   0  0  0  0  0  0  0  0  0  0  0  0\\n    0.3223   -1.6415    0.6444 H   0  0  0  0  0  0  0  0  0  0  0  0\\n    0.3272   -0.5970   -1.6320 H   0  0  0  0  0  0  0  0  0  0  0  0\\n   -1.4473   -0.5970   -1.6320 H   0  0  0  0  0  0  0  0  0  0  0  0\\n   -0.5601   -2.1309   -1.6190 H   0  0  0  0  0  0  0  0  0  0  0  0\\n  1  2  1  0\\n  1  6  1  0\\n  3  4  1  0\\n  3  7  1  0\\n  3  8  1  0\\n  4  5  1  0\\n  4  9  1  0\\n  4 10  1  0\\n  5 11  1  0\\n  5 12  1  0\\n  5 13  1  0\\nM  RAD  1   3   2\\nM  END\\n\",\"sdf\");\n",
       "\tviewer_16580360278336098.setStyle({\"stick\": {}});\n",
       "\tviewer_16580360278336098.zoomTo();\n",
       "viewer_16580360278336098.render();\n",
       "});\n",
       "</script>"
      ]
     },
     "metadata": {},
     "output_type": "display_data"
    },
    {
     "name": "stdout",
     "output_type": "stream",
     "text": [
      "\n",
      "\n",
      "\n",
      "\n",
      "heuristics 3 (success: True):\n",
      "coordinates:\n",
      "O       1.43450155    1.57365164    0.09693443\n",
      "H       2.09087982    1.39035494    0.78579648\n",
      "C      -0.57261278    0.32526157    0.83577095\n",
      "C      -0.57261278   -1.08680339    0.27502014\n",
      "C      -0.57261278   -1.08680339   -1.24431136\n",
      "H       0.49207957    0.98748162    0.44384829\n",
      "H      -0.57261353    0.29885538    1.92993720\n",
      "H      -1.45985625    0.87711180    0.50916755\n",
      "H      -1.45502736   -1.62411740    0.63977604\n",
      "H       0.30980206   -1.62411723    0.63977598\n",
      "H       0.31463056   -0.57958326   -1.63665841\n",
      "H      -1.45985628   -0.57958358   -1.63665843\n",
      "H      -0.57261248   -2.11346595   -1.62360141\n"
     ]
    },
    {
     "data": {
      "application/3dmoljs_load.v0": "<div id=\"3dmolviewer_16580360278368294\"  style=\"position: relative; width: 400px; height: 400px\">\n        <p id=\"3dmolwarning_16580360278368294\" style=\"background-color:#ffcccc;color:black\">You appear to be running in JupyterLab (or JavaScript failed to load for some other reason).  You need to install the 3dmol extension: <br>\n        <tt>jupyter labextension install jupyterlab_3dmol</tt></p>\n        </div>\n<script>\n\nvar loadScriptAsync = function(uri){\n  return new Promise((resolve, reject) => {\n    var tag = document.createElement('script');\n    tag.src = uri;\n    tag.async = true;\n    tag.onload = () => {\n      resolve();\n    };\n  var firstScriptTag = document.getElementsByTagName('script')[0];\n  firstScriptTag.parentNode.insertBefore(tag, firstScriptTag);\n});\n};\n\nif(typeof $3Dmolpromise === 'undefined') {\n$3Dmolpromise = null;\n  $3Dmolpromise = loadScriptAsync('https://3dmol.org/build/3Dmol.js');\n}\n\nvar viewer_16580360278368294 = null;\nvar warn = document.getElementById(\"3dmolwarning_16580360278368294\");\nif(warn) {\n    warn.parentNode.removeChild(warn);\n}\n$3Dmolpromise.then(function() {\nviewer_16580360278368294 = $3Dmol.createViewer($(\"#3dmolviewer_16580360278368294\"),{backgroundColor:\"white\"});\nviewer_16580360278368294.zoomTo();\n\tviewer_16580360278368294.addModel(\"\\n     RDKit          3D\\n\\n 13 11  0  0  0  0  0  0  0  0999 V2000\\n    1.4345    1.5737    0.0969 O   0  0  0  0  0  0  0  0  0  0  0  0\\n    2.0909    1.3904    0.7858 H   0  0  0  0  0  0  0  0  0  0  0  0\\n   -0.5726    0.3253    0.8358 C   0  0  0  0  0  3  0  0  0  0  0  0\\n   -0.5726   -1.0868    0.2750 C   0  0  0  0  0  0  0  0  0  0  0  0\\n   -0.5726   -1.0868   -1.2443 C   0  0  0  0  0  0  0  0  0  0  0  0\\n    0.4921    0.9875    0.4438 H   0  0  0  0  0  0  0  0  0  0  0  0\\n   -0.5726    0.2989    1.9299 H   0  0  0  0  0  0  0  0  0  0  0  0\\n   -1.4599    0.8771    0.5092 H   0  0  0  0  0  0  0  0  0  0  0  0\\n   -1.4550   -1.6241    0.6398 H   0  0  0  0  0  0  0  0  0  0  0  0\\n    0.3098   -1.6241    0.6398 H   0  0  0  0  0  0  0  0  0  0  0  0\\n    0.3146   -0.5796   -1.6367 H   0  0  0  0  0  0  0  0  0  0  0  0\\n   -1.4599   -0.5796   -1.6367 H   0  0  0  0  0  0  0  0  0  0  0  0\\n   -0.5726   -2.1135   -1.6236 H   0  0  0  0  0  0  0  0  0  0  0  0\\n  1  2  1  0\\n  1  6  1  0\\n  3  4  1  0\\n  3  7  1  0\\n  3  8  1  0\\n  4  5  1  0\\n  4  9  1  0\\n  4 10  1  0\\n  5 11  1  0\\n  5 12  1  0\\n  5 13  1  0\\nM  RAD  1   3   2\\nM  END\\n\",\"sdf\");\n\tviewer_16580360278368294.setStyle({\"stick\": {}});\n\tviewer_16580360278368294.zoomTo();\nviewer_16580360278368294.render();\n});\n</script>",
      "text/html": [
       "<div id=\"3dmolviewer_16580360278368294\"  style=\"position: relative; width: 400px; height: 400px\">\n",
       "        <p id=\"3dmolwarning_16580360278368294\" style=\"background-color:#ffcccc;color:black\">You appear to be running in JupyterLab (or JavaScript failed to load for some other reason).  You need to install the 3dmol extension: <br>\n",
       "        <tt>jupyter labextension install jupyterlab_3dmol</tt></p>\n",
       "        </div>\n",
       "<script>\n",
       "\n",
       "var loadScriptAsync = function(uri){\n",
       "  return new Promise((resolve, reject) => {\n",
       "    var tag = document.createElement('script');\n",
       "    tag.src = uri;\n",
       "    tag.async = true;\n",
       "    tag.onload = () => {\n",
       "      resolve();\n",
       "    };\n",
       "  var firstScriptTag = document.getElementsByTagName('script')[0];\n",
       "  firstScriptTag.parentNode.insertBefore(tag, firstScriptTag);\n",
       "});\n",
       "};\n",
       "\n",
       "if(typeof $3Dmolpromise === 'undefined') {\n",
       "$3Dmolpromise = null;\n",
       "  $3Dmolpromise = loadScriptAsync('https://3dmol.org/build/3Dmol.js');\n",
       "}\n",
       "\n",
       "var viewer_16580360278368294 = null;\n",
       "var warn = document.getElementById(\"3dmolwarning_16580360278368294\");\n",
       "if(warn) {\n",
       "    warn.parentNode.removeChild(warn);\n",
       "}\n",
       "$3Dmolpromise.then(function() {\n",
       "viewer_16580360278368294 = $3Dmol.createViewer($(\"#3dmolviewer_16580360278368294\"),{backgroundColor:\"white\"});\n",
       "viewer_16580360278368294.zoomTo();\n",
       "\tviewer_16580360278368294.addModel(\"\\n     RDKit          3D\\n\\n 13 11  0  0  0  0  0  0  0  0999 V2000\\n    1.4345    1.5737    0.0969 O   0  0  0  0  0  0  0  0  0  0  0  0\\n    2.0909    1.3904    0.7858 H   0  0  0  0  0  0  0  0  0  0  0  0\\n   -0.5726    0.3253    0.8358 C   0  0  0  0  0  3  0  0  0  0  0  0\\n   -0.5726   -1.0868    0.2750 C   0  0  0  0  0  0  0  0  0  0  0  0\\n   -0.5726   -1.0868   -1.2443 C   0  0  0  0  0  0  0  0  0  0  0  0\\n    0.4921    0.9875    0.4438 H   0  0  0  0  0  0  0  0  0  0  0  0\\n   -0.5726    0.2989    1.9299 H   0  0  0  0  0  0  0  0  0  0  0  0\\n   -1.4599    0.8771    0.5092 H   0  0  0  0  0  0  0  0  0  0  0  0\\n   -1.4550   -1.6241    0.6398 H   0  0  0  0  0  0  0  0  0  0  0  0\\n    0.3098   -1.6241    0.6398 H   0  0  0  0  0  0  0  0  0  0  0  0\\n    0.3146   -0.5796   -1.6367 H   0  0  0  0  0  0  0  0  0  0  0  0\\n   -1.4599   -0.5796   -1.6367 H   0  0  0  0  0  0  0  0  0  0  0  0\\n   -0.5726   -2.1135   -1.6236 H   0  0  0  0  0  0  0  0  0  0  0  0\\n  1  2  1  0\\n  1  6  1  0\\n  3  4  1  0\\n  3  7  1  0\\n  3  8  1  0\\n  4  5  1  0\\n  4  9  1  0\\n  4 10  1  0\\n  5 11  1  0\\n  5 12  1  0\\n  5 13  1  0\\nM  RAD  1   3   2\\nM  END\\n\",\"sdf\");\n",
       "\tviewer_16580360278368294.setStyle({\"stick\": {}});\n",
       "\tviewer_16580360278368294.zoomTo();\n",
       "viewer_16580360278368294.render();\n",
       "});\n",
       "</script>"
      ]
     },
     "metadata": {},
     "output_type": "display_data"
    },
    {
     "name": "stdout",
     "output_type": "stream",
     "text": [
      "\n",
      "\n",
      "\n",
      "\n"
     ]
    }
   ],
   "source": [
    "for tsg in rxn.ts_species.ts_guesses:\n",
    "    print(f'{tsg.method} {tsg.method_index} (success: {tsg.success}):')\n",
    "    print(f'coordinates:\\n{xyz_to_str(tsg.initial_xyz)}')\n",
    "    if tsg.initial_xyz is not None:\n",
    "        draw_structure(xyz=tsg.initial_xyz)\n",
    "    print('\\n\\n\\n')"
   ]
  },
  {
   "cell_type": "code",
   "execution_count": null,
   "id": "5f74e942",
   "metadata": {},
   "outputs": [],
   "source": []
  }
 ],
 "metadata": {
  "kernelspec": {
   "display_name": "Python 3 (ipykernel)",
   "language": "python",
   "name": "python3"
  },
  "language_info": {
   "codemirror_mode": {
    "name": "ipython",
    "version": 3
   },
   "file_extension": ".py",
   "mimetype": "text/x-python",
   "name": "python",
   "nbconvert_exporter": "python",
   "pygments_lexer": "ipython3",
   "version": "3.7.12"
  }
 },
 "nbformat": 4,
 "nbformat_minor": 5
}
