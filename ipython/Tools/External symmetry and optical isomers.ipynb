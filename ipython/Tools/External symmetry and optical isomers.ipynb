{
 "cells": [
  {
   "cell_type": "markdown",
   "metadata": {},
   "source": [
    "# ARC Tools\n",
    "## Determine external symmetry and optical isomers\n",
    "\n",
    "The external symmetry number (the number of different ways the molecule can be rotated into a configuration indistinguishable from the original) as well as the optical isomers parameter (a value of 1 if no chiral centers exist, and 2 if one or more exist), are determined in using the Brute Force Symmetry Analyzer program by S. Patchkovskii (https://github.com/alongd/symmetry)."
   ]
  },
  {
   "cell_type": "markdown",
   "metadata": {},
   "source": [
    "#### input parameters:"
   ]
  },
  {
   "cell_type": "code",
   "execution_count": 1,
   "metadata": {},
   "outputs": [
    {
     "name": "stderr",
     "output_type": "stream",
     "text": [
      "RDKit WARNING: [13:53:02] Enabling RDKit 2019.09.3 jupyter extensions\n"
     ]
    }
   ],
   "source": [
    "from arc.molecule import Molecule\n",
    "from arc.species import ARCSpecies\n",
    "from IPython.display import display\n",
    "from arc.plotter import show_sticks\n",
    "from arc.species.converter import molecules_from_xyz, check_xyz_dict"
   ]
  },
  {
   "cell_type": "code",
   "execution_count": 2,
   "metadata": {},
   "outputs": [],
   "source": [
    "smiles = None\n",
    "\n",
    "xyz = \"\"\"      O      -1.22342900    2.38786200   -0.31340100\n",
    "      O      -1.14796800   -0.19437300    2.39190700\n",
    "      O      -2.24577500   -0.46454800    3.03197900\n",
    "      N      -1.72243600   -1.42096800    0.48698800\n",
    "      C       3.47753100   -0.80934000   -0.06810600\n",
    "      C      -1.86810800   -1.59276400   -0.96294000\n",
    "      C      -1.39230800   -0.09642300    0.94091800\n",
    "      C       3.89911900   -1.06768700    1.38274400\n",
    "      C       3.27894300   -2.12633500   -0.82728500\n",
    "      C      -2.20758000   -3.05402900   -1.23146000\n",
    "      C      -2.89571900   -0.65177600   -1.60128300\n",
    "      C      -1.21122800    3.66638000   -0.91066600\n",
    "      C       2.24074700    0.06417800   -0.14065100\n",
    "      C      -0.11810500    0.42007500    0.33886100\n",
    "      C      -0.06550600    1.67718700   -0.27739500\n",
    "      C       1.02652200   -0.36079200    0.39594600\n",
    "      C       2.26868900    1.31370100   -0.74742700\n",
    "      C       1.13599300    2.11931500   -0.82239300\n",
    "      H       4.28903200   -0.26024100   -0.55941400\n",
    "      H      -0.88878200   -1.38197700   -1.40438300\n",
    "      H      -2.20006800    0.63531500    0.85293000\n",
    "      H       4.82365200   -1.65127500    1.41781300\n",
    "      H       4.06326300   -0.12940300    1.91823500\n",
    "      H       3.12899100   -1.62888000    1.92065200\n",
    "      H       3.00300900   -1.94297000   -1.86890400\n",
    "      H       4.19627600   -2.72198800   -0.81402300\n",
    "      H       2.48575200   -2.72606800   -0.37007700\n",
    "      H      -3.18254300   -3.31143700   -0.80230900\n",
    "      H      -2.25644400   -3.24730100   -2.30577700\n",
    "      H      -1.45561200   -3.71052900   -0.78942400\n",
    "      H      -2.62292800    0.39769200   -1.46237400\n",
    "      H      -3.88654900   -0.80909700   -1.16045800\n",
    "      H      -2.97073100   -0.83880300   -2.67618900\n",
    "      H      -2.22499000    4.05135400   -0.81508900\n",
    "      H      -0.51858200    4.34047300   -0.39522600\n",
    "      H      -0.94447000    3.60898200   -1.97184100\n",
    "      H      -2.57582800   -1.71179000    0.95540000\n",
    "      H       0.94414500   -1.33328700    0.87069400\n",
    "      H       1.20568100    3.08410000   -1.30705100\n",
    "      H       3.19634900    1.67768900   -1.17878000\"\"\""
   ]
  },
  {
   "cell_type": "code",
   "execution_count": 3,
   "metadata": {},
   "outputs": [
    {
     "name": "stderr",
     "output_type": "stream",
     "text": [
      "WARNING:pint.util:Could not resolve planks_constant: UndefinedUnitError()\n",
      "WARNING:pint.util:Could not resolve plank_constant: UndefinedUnitError()\n"
     ]
    },
    {
     "name": "stdout",
     "output_type": "stream",
     "text": [
      "SMILES:  [O]OC(c1cc(ccc1OC)C(C)C)NC(C)C\n",
      "External symmetry:  1\n",
      "Optical isomers:  2\n"
     ]
    },
    {
     "data": {
      "image/png": "[encoded data removed]",
      "text/plain": [
       "Molecule(smiles=\"[O]OC(c1cc(ccc1OC)C(C)C)NC(C)C\")"
      ]
     },
     "metadata": {},
     "output_type": "display_data"
    },
    {
     "data": {
      "application/3dmoljs_load.v0": "<div id=\"3dmolviewer_15931954791471632\"  style=\"position: relative; width: 400px; height: 400px\">\n        <p id=\"3dmolwarning_15931954791471632\" style=\"background-color:#ffcccc;color:black\">You appear to be running in JupyterLab (or JavaScript failed to load for some other reason).  You need to install the 3dmol extension: <br>\n        <tt>jupyter labextension install jupyterlab_3dmol</tt></p>\n        </div>\n<script>\n\nvar loadScriptAsync = function(uri){\n  return new Promise((resolve, reject) => {\n    var tag = document.createElement('script');\n    tag.src = uri;\n    tag.async = true;\n    tag.onload = () => {\n      resolve();\n    };\n  var firstScriptTag = document.getElementsByTagName('script')[0];\n  firstScriptTag.parentNode.insertBefore(tag, firstScriptTag);\n});\n};\n\nif(typeof $3Dmolpromise === 'undefined') {\n$3Dmolpromise = null;\n  $3Dmolpromise = loadScriptAsync('https://3dmol.csb.pitt.edu/build/3Dmol.js');\n}\n\nvar viewer_15931954791471632 = null;\nvar warn = document.getElementById(\"3dmolwarning_15931954791471632\");\nif(warn) {\n    warn.parentNode.removeChild(warn);\n}\n$3Dmolpromise.then(function() {\nviewer_15931954791471632 = $3Dmol.createViewer($(\"#3dmolviewer_15931954791471632\"),{backgroundColor:\"white\"});\n\tviewer_15931954791471632.addModel(\"\\n     RDKit          3D\\n\\n 40 40  0  0  0  0  0  0  0  0999 V2000\\n   -1.2234    2.3879   -0.3134 O   0  0  0  0  0  0  0  0  0  0  0  0\\n   -1.1480   -0.1944    2.3919 O   0  0  0  0  0  0  0  0  0  0  0  0\\n   -2.2458   -0.4645    3.0320 O   0  0  0  0  0  1  0  0  0  0  0  0\\n   -1.7224   -1.4210    0.4870 N   0  0  0  0  0  0  0  0  0  0  0  0\\n    3.4775   -0.8093   -0.0681 C   0  0  0  0  0  0  0  0  0  0  0  0\\n   -1.8681   -1.5928   -0.9629 C   0  0  0  0  0  0  0  0  0  0  0  0\\n   -1.3923   -0.0964    0.9409 C   0  0  0  0  0  0  0  0  0  0  0  0\\n    3.8991   -1.0677    1.3827 C   0  0  0  0  0  0  0  0  0  0  0  0\\n    3.2789   -2.1263   -0.8273 C   0  0  0  0  0  0  0  0  0  0  0  0\\n   -2.2076   -3.0540   -1.2315 C   0  0  0  0  0  0  0  0  0  0  0  0\\n   -2.8957   -0.6518   -1.6013 C   0  0  0  0  0  0  0  0  0  0  0  0\\n   -1.2112    3.6664   -0.9107 C   0  0  0  0  0  0  0  0  0  0  0  0\\n    2.2407    0.0642   -0.1407 C   0  0  0  0  0  0  0  0  0  0  0  0\\n   -0.1181    0.4201    0.3389 C   0  0  0  0  0  0  0  0  0  0  0  0\\n   -0.0655    1.6772   -0.2774 C   0  0  0  0  0  0  0  0  0  0  0  0\\n    1.0265   -0.3608    0.3959 C   0  0  0  0  0  0  0  0  0  0  0  0\\n    2.2687    1.3137   -0.7474 C   0  0  0  0  0  0  0  0  0  0  0  0\\n    1.1360    2.1193   -0.8224 C   0  0  0  0  0  0  0  0  0  0  0  0\\n    4.2890   -0.2602   -0.5594 H   0  0  0  0  0  0  0  0  0  0  0  0\\n   -0.8888   -1.3820   -1.4044 H   0  0  0  0  0  0  0  0  0  0  0  0\\n   -2.2001    0.6353    0.8529 H   0  0  0  0  0  0  0  0  0  0  0  0\\n    4.8237   -1.6513    1.4178 H   0  0  0  0  0  0  0  0  0  0  0  0\\n    4.0633   -0.1294    1.9182 H   0  0  0  0  0  0  0  0  0  0  0  0\\n    3.1290   -1.6289    1.9207 H   0  0  0  0  0  0  0  0  0  0  0  0\\n    3.0030   -1.9430   -1.8689 H   0  0  0  0  0  0  0  0  0  0  0  0\\n    4.1963   -2.7220   -0.8140 H   0  0  0  0  0  0  0  0  0  0  0  0\\n    2.4858   -2.7261   -0.3701 H   0  0  0  0  0  0  0  0  0  0  0  0\\n   -3.1825   -3.3114   -0.8023 H   0  0  0  0  0  0  0  0  0  0  0  0\\n   -2.2564   -3.2473   -2.3058 H   0  0  0  0  0  0  0  0  0  0  0  0\\n   -1.4556   -3.7105   -0.7894 H   0  0  0  0  0  0  0  0  0  0  0  0\\n   -2.6229    0.3977   -1.4624 H   0  0  0  0  0  0  0  0  0  0  0  0\\n   -3.8865   -0.8091   -1.1605 H   0  0  0  0  0  0  0  0  0  0  0  0\\n   -2.9707   -0.8388   -2.6762 H   0  0  0  0  0  0  0  0  0  0  0  0\\n   -2.2250    4.0514   -0.8151 H   0  0  0  0  0  0  0  0  0  0  0  0\\n   -0.5186    4.3405   -0.3952 H   0  0  0  0  0  0  0  0  0  0  0  0\\n   -0.9445    3.6090   -1.9718 H   0  0  0  0  0  0  0  0  0  0  0  0\\n   -2.5758   -1.7118    0.9554 H   0  0  0  0  0  0  0  0  0  0  0  0\\n    0.9441   -1.3333    0.8707 H   0  0  0  0  0  0  0  0  0  0  0  0\\n    1.2057    3.0841   -1.3071 H   0  0  0  0  0  0  0  0  0  0  0  0\\n    3.1963    1.6777   -1.1788 H   0  0  0  0  0  0  0  0  0  0  0  0\\n  1 12  1  0\\n  1 15  1  0\\n  2  7  1  0\\n  2  3  1  0\\n  4  6  1  0\\n  4  7  1  0\\n  4 37  1  0\\n  5  8  1  0\\n  5  9  1  0\\n  5 13  1  0\\n  5 19  1  0\\n  6 10  1  0\\n  6 11  1  0\\n  6 20  1  0\\n  7 14  1  0\\n  7 21  1  0\\n  8 22  1  0\\n  8 23  1  0\\n  8 24  1  0\\n  9 25  1  0\\n  9 26  1  0\\n  9 27  1  0\\n 10 28  1  0\\n 10 29  1  0\\n 10 30  1  0\\n 11 31  1  0\\n 11 32  1  0\\n 11 33  1  0\\n 12 34  1  0\\n 12 35  1  0\\n 12 36  1  0\\n 13 17  2  0\\n 13 16  1  0\\n 14 16  2  0\\n 14 15  1  0\\n 15 18  2  0\\n 16 38  1  0\\n 17 18  1  0\\n 17 40  1  0\\n 18 39  1  0\\nM  RAD  1   3   2\\nM  END\\n\",\"sdf\");\n\tviewer_15931954791471632.setStyle({\"stick\": {}});\n\tviewer_15931954791471632.zoomTo();\nviewer_15931954791471632.render();\n});\n</script>",
      "text/html": [
       "<div id=\"3dmolviewer_15931954791471632\"  style=\"position: relative; width: 400px; height: 400px\">\n",
       "        <p id=\"3dmolwarning_15931954791471632\" style=\"background-color:#ffcccc;color:black\">You appear to be running in JupyterLab (or JavaScript failed to load for some other reason).  You need to install the 3dmol extension: <br>\n",
       "        <tt>jupyter labextension install jupyterlab_3dmol</tt></p>\n",
       "        </div>\n",
       "<script>\n",
       "\n",
       "var loadScriptAsync = function(uri){\n",
       "  return new Promise((resolve, reject) => {\n",
       "    var tag = document.createElement('script');\n",
       "    tag.src = uri;\n",
       "    tag.async = true;\n",
       "    tag.onload = () => {\n",
       "      resolve();\n",
       "    };\n",
       "  var firstScriptTag = document.getElementsByTagName('script')[0];\n",
       "  firstScriptTag.parentNode.insertBefore(tag, firstScriptTag);\n",
       "});\n",
       "};\n",
       "\n",
       "if(typeof $3Dmolpromise === 'undefined') {\n",
       "$3Dmolpromise = null;\n",
       "  $3Dmolpromise = loadScriptAsync('https://3dmol.csb.pitt.edu/build/3Dmol.js');\n",
       "}\n",
       "\n",
       "var viewer_15931954791471632 = null;\n",
       "var warn = document.getElementById(\"3dmolwarning_15931954791471632\");\n",
       "if(warn) {\n",
       "    warn.parentNode.removeChild(warn);\n",
       "}\n",
       "$3Dmolpromise.then(function() {\n",
       "viewer_15931954791471632 = $3Dmol.createViewer($(\"#3dmolviewer_15931954791471632\"),{backgroundColor:\"white\"});\n",
       "\tviewer_15931954791471632.addModel(\"\\n     RDKit          3D\\n\\n 40 40  0  0  0  0  0  0  0  0999 V2000\\n   -1.2234    2.3879   -0.3134 O   0  0  0  0  0  0  0  0  0  0  0  0\\n   -1.1480   -0.1944    2.3919 O   0  0  0  0  0  0  0  0  0  0  0  0\\n   -2.2458   -0.4645    3.0320 O   0  0  0  0  0  1  0  0  0  0  0  0\\n   -1.7224   -1.4210    0.4870 N   0  0  0  0  0  0  0  0  0  0  0  0\\n    3.4775   -0.8093   -0.0681 C   0  0  0  0  0  0  0  0  0  0  0  0\\n   -1.8681   -1.5928   -0.9629 C   0  0  0  0  0  0  0  0  0  0  0  0\\n   -1.3923   -0.0964    0.9409 C   0  0  0  0  0  0  0  0  0  0  0  0\\n    3.8991   -1.0677    1.3827 C   0  0  0  0  0  0  0  0  0  0  0  0\\n    3.2789   -2.1263   -0.8273 C   0  0  0  0  0  0  0  0  0  0  0  0\\n   -2.2076   -3.0540   -1.2315 C   0  0  0  0  0  0  0  0  0  0  0  0\\n   -2.8957   -0.6518   -1.6013 C   0  0  0  0  0  0  0  0  0  0  0  0\\n   -1.2112    3.6664   -0.9107 C   0  0  0  0  0  0  0  0  0  0  0  0\\n    2.2407    0.0642   -0.1407 C   0  0  0  0  0  0  0  0  0  0  0  0\\n   -0.1181    0.4201    0.3389 C   0  0  0  0  0  0  0  0  0  0  0  0\\n   -0.0655    1.6772   -0.2774 C   0  0  0  0  0  0  0  0  0  0  0  0\\n    1.0265   -0.3608    0.3959 C   0  0  0  0  0  0  0  0  0  0  0  0\\n    2.2687    1.3137   -0.7474 C   0  0  0  0  0  0  0  0  0  0  0  0\\n    1.1360    2.1193   -0.8224 C   0  0  0  0  0  0  0  0  0  0  0  0\\n    4.2890   -0.2602   -0.5594 H   0  0  0  0  0  0  0  0  0  0  0  0\\n   -0.8888   -1.3820   -1.4044 H   0  0  0  0  0  0  0  0  0  0  0  0\\n   -2.2001    0.6353    0.8529 H   0  0  0  0  0  0  0  0  0  0  0  0\\n    4.8237   -1.6513    1.4178 H   0  0  0  0  0  0  0  0  0  0  0  0\\n    4.0633   -0.1294    1.9182 H   0  0  0  0  0  0  0  0  0  0  0  0\\n    3.1290   -1.6289    1.9207 H   0  0  0  0  0  0  0  0  0  0  0  0\\n    3.0030   -1.9430   -1.8689 H   0  0  0  0  0  0  0  0  0  0  0  0\\n    4.1963   -2.7220   -0.8140 H   0  0  0  0  0  0  0  0  0  0  0  0\\n    2.4858   -2.7261   -0.3701 H   0  0  0  0  0  0  0  0  0  0  0  0\\n   -3.1825   -3.3114   -0.8023 H   0  0  0  0  0  0  0  0  0  0  0  0\\n   -2.2564   -3.2473   -2.3058 H   0  0  0  0  0  0  0  0  0  0  0  0\\n   -1.4556   -3.7105   -0.7894 H   0  0  0  0  0  0  0  0  0  0  0  0\\n   -2.6229    0.3977   -1.4624 H   0  0  0  0  0  0  0  0  0  0  0  0\\n   -3.8865   -0.8091   -1.1605 H   0  0  0  0  0  0  0  0  0  0  0  0\\n   -2.9707   -0.8388   -2.6762 H   0  0  0  0  0  0  0  0  0  0  0  0\\n   -2.2250    4.0514   -0.8151 H   0  0  0  0  0  0  0  0  0  0  0  0\\n   -0.5186    4.3405   -0.3952 H   0  0  0  0  0  0  0  0  0  0  0  0\\n   -0.9445    3.6090   -1.9718 H   0  0  0  0  0  0  0  0  0  0  0  0\\n   -2.5758   -1.7118    0.9554 H   0  0  0  0  0  0  0  0  0  0  0  0\\n    0.9441   -1.3333    0.8707 H   0  0  0  0  0  0  0  0  0  0  0  0\\n    1.2057    3.0841   -1.3071 H   0  0  0  0  0  0  0  0  0  0  0  0\\n    3.1963    1.6777   -1.1788 H   0  0  0  0  0  0  0  0  0  0  0  0\\n  1 12  1  0\\n  1 15  1  0\\n  2  7  1  0\\n  2  3  1  0\\n  4  6  1  0\\n  4  7  1  0\\n  4 37  1  0\\n  5  8  1  0\\n  5  9  1  0\\n  5 13  1  0\\n  5 19  1  0\\n  6 10  1  0\\n  6 11  1  0\\n  6 20  1  0\\n  7 14  1  0\\n  7 21  1  0\\n  8 22  1  0\\n  8 23  1  0\\n  8 24  1  0\\n  9 25  1  0\\n  9 26  1  0\\n  9 27  1  0\\n 10 28  1  0\\n 10 29  1  0\\n 10 30  1  0\\n 11 31  1  0\\n 11 32  1  0\\n 11 33  1  0\\n 12 34  1  0\\n 12 35  1  0\\n 12 36  1  0\\n 13 17  2  0\\n 13 16  1  0\\n 14 16  2  0\\n 14 15  1  0\\n 15 18  2  0\\n 16 38  1  0\\n 17 18  1  0\\n 17 40  1  0\\n 18 39  1  0\\nM  RAD  1   3   2\\nM  END\\n\",\"sdf\");\n",
       "\tviewer_15931954791471632.setStyle({\"stick\": {}});\n",
       "\tviewer_15931954791471632.zoomTo();\n",
       "viewer_15931954791471632.render();\n",
       "});\n",
       "</script>"
      ]
     },
     "metadata": {},
     "output_type": "display_data"
    }
   ],
   "source": [
    "\n",
    "if smiles is None:\n",
    "    mol = molecules_from_xyz(check_xyz_dict(xyz))[1]\n",
    "    smiles = mol.to_smiles()\n",
    "\n",
    "rmg_mol = Molecule(smiles=smiles)\n",
    "arc_spc = ARCSpecies(label='test', smiles=smiles, xyz=xyz)\n",
    "arc_spc.determine_symmetry()\n",
    "\n",
    "print('SMILES: ', smiles)\n",
    "print('External symmetry: ', arc_spc.external_symmetry)\n",
    "print('Optical isomers: ', arc_spc.optical_isomers)\n",
    "\n",
    "display(rmg_mol)\n",
    "success = show_sticks(xyz=xyz)"
   ]
  },
  {
   "cell_type": "code",
   "execution_count": null,
   "metadata": {},
   "outputs": [],
   "source": []
  }
 ],
 "metadata": {
  "kernelspec": {
   "display_name": "Python 3",
   "language": "python",
   "name": "python3"
  },
  "language_info": {
   "codemirror_mode": {
    "name": "ipython",
    "version": 3
   },
   "file_extension": ".py",
   "mimetype": "text/x-python",
   "name": "python",
   "nbconvert_exporter": "python",
   "pygments_lexer": "ipython3",
   "version": "3.7.6"
  }
 },
 "nbformat": 4,
 "nbformat_minor": 2
}
