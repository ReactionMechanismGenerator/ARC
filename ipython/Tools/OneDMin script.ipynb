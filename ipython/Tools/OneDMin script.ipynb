{
 "cells": [
  {
   "cell_type": "markdown",
   "metadata": {},
   "source": [
    "# ARC Tools\n",
    "### Visuallize OneDMin r_min and r_max\n",
    "The r (min and max) distance is defined between the center of mass of the species and the center of ass of the bath gas."
   ]
  },
  {
   "cell_type": "code",
   "execution_count": null,
   "metadata": {},
   "outputs": [],
   "source": [
    "xyz = \"\"\"\n",
    "C       0.01110400    0.73099100    0.00000000\n",
    "H       0.27332400    1.21632500    0.93134200\n",
    "H       0.27332400    1.21632500   -0.93134200\n",
    "N       0.01045700   -0.65996900   -0.00000000\n",
    "H      -0.34564700   -1.09923900    0.83510100\n",
    "H      -0.34564700   -1.09923900   -0.83510100\n",
    "\"\"\"\n",
    "\n",
    "bath_gas = 'N2'  # allowed values are 'He', 'Ne', 'Ar', 'Kr', 'H2', 'N2', or 'O2'\n",
    "\n",
    "# set the values below to bypass ARC's determination and visuallize your own values\n",
    "r_min = 3\n",
    "r_max = 6"
   ]
  },
  {
   "cell_type": "code",
   "execution_count": null,
   "metadata": {},
   "outputs": [],
   "source": [
    "from arc.species import ARCSpecies\n",
    "from arc.common import get_atom_radius, get_center_of_mass\n",
    "from arc.plotter import draw_3d\n",
    "\n",
    "def plot_collider(r):\n",
    "    \"\"\"\n",
    "    Plot a species and its collider.\n",
    "    \"\"\"\n",
    "    conf_xyz = spc.conformers[0] if len(spc.conformers) else None\n",
    "    xyz = spc.initial_xyz or spc.final_xyz or conf_xyz\n",
    "    cm = get_center_of_mass(xyz)\n",
    "    \n",
    "    if '2' in bath_gas:\n",
    "        symbol = bath_gas[0]\n",
    "        bath_gas_bond_length = {'H2': 0.743, 'N2': 1.1, 'O2': 1.208}  # Angstrom\n",
    "        xyz = add_bath_gas_to_xyz(xyz, symbol, cm, r - 0.5 * bath_gas_bond_length[bath_gas])\n",
    "        xyz = add_bath_gas_to_xyz(xyz, symbol, cm, r + 0.5 * bath_gas_bond_length[bath_gas])\n",
    "    else:\n",
    "        xyz = add_bath_gas_to_xyz(xyz, bath_gas, cm, r)\n",
    "    draw_3d(xyz=xyz, species=spc)\n",
    "\n",
    "def add_bath_gas_to_xyz(xyz, symbol, cm, r):\n",
    "    \"\"\"\n",
    "    Add an atom (bath gas) at distance r from the center of mass to xyz and return xyz\n",
    "    \"\"\"\n",
    "    xyz += '\\n{s} {x:.6f} {y:.6f} {z:.6f}'.format(s=symbol, x=cm[0] + r, y=cm[1], z=cm[2])\n",
    "    xyz += '\\n{s} {x:.6f} {y:.6f} {z:.6f}'.format(s=symbol, x=cm[0], y=cm[1] + r, z=cm[2])\n",
    "    xyz += '\\n{s} {x:.6f} {y:.6f} {z:.6f}'.format(s=symbol, x=cm[0], y=cm[1], z=cm[2] + r)\n",
    "    xyz += '\\n{s} {x:.6f} {y:.6f} {z:.6f}'.format(s=symbol, x=cm[0] - r, y=cm[1], z=cm[2])\n",
    "    xyz += '\\n{s} {x:.6f} {y:.6f} {z:.6f}'.format(s=symbol, x=cm[0], y=cm[1] - r, z=cm[2])\n",
    "    xyz += '\\n{s} {x:.6f} {y:.6f} {z:.6f}'.format(s=symbol, x=cm[0], y=cm[1], z=cm[2] - r)\n",
    "    return xyz\n",
    "\n",
    "spc = ARCSpecies(label='1dmin', xyz=xyz, r_min=r_min, r_max=r_max)\n",
    "spc.final_xyz = xyz\n",
    "\n",
    "print('Species: {0}'.format(spc.label))\n",
    "spc_r = spc.determine_radius()\n",
    "print('Species radius: {0:.2} A'.format(spc_r))\n",
    "\n",
    "spc.determine_onedmin_radii(bath_gas)\n",
    "\n",
    "print('r min: {0}, r max: {1}'.format(spc.r_min, spc.r_max))\n",
    "\n",
    "print('\\n\\n r_min: {0}'.format(spc.r_min))\n",
    "plot_collider(spc.r_min)\n",
    "print('\\n\\n r_max: {0}'.format(spc.r_max))\n",
    "plot_collider(spc.r_max)"
   ]
  },
  {
   "cell_type": "code",
   "execution_count": null,
   "metadata": {},
   "outputs": [],
   "source": []
  }
 ],
 "metadata": {
  "kernelspec": {
   "display_name": "Python 2",
   "language": "python",
   "name": "python2"
  },
  "language_info": {
   "codemirror_mode": {
    "name": "ipython",
    "version": 2
   },
   "file_extension": ".py",
   "mimetype": "text/x-python",
   "name": "python",
   "nbconvert_exporter": "python",
   "pygments_lexer": "ipython2",
   "version": "2.7.16"
  }
 },
 "nbformat": 4,
 "nbformat_minor": 2
}
