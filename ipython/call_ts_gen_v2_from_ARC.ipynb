{
 "cells": [
  {
   "cell_type": "code",
   "execution_count": 1,
   "metadata": {},
   "outputs": [
    {
     "data": {
      "text/plain": [
       "'\\nA TS adapter for using a GNN to predict TS guesses for isomerization reactions.\\nCitation: Pattanaik, L.; Ingraham, J.; Grambow, C.; Green, W. H. 2020.\\nOriginal published GNN used TensorFlow 1.4 and Python 2.7\\nThis adapter uses the same architecture translated into PyTorch and Python 3.7\\n'"
      ]
     },
     "execution_count": 1,
     "metadata": {},
     "output_type": "execute_result"
    }
   ],
   "source": [
    "\"\"\"\n",
    "A TS adapter for using a GNN to predict TS guesses for isomerization reactions.\n",
    "Citation: Pattanaik, L.; Ingraham, J.; Grambow, C.; Green, W. H. 2020.\n",
    "Original published GNN used TensorFlow 1.4 and Python 2.7\n",
    "This adapter uses the same architecture translated into PyTorch and Python 3.7\n",
    "\"\"\""
   ]
  },
  {
   "cell_type": "code",
   "execution_count": 2,
   "metadata": {},
   "outputs": [],
   "source": [
    "from arc.species.species import ARCSpecies, enumerate_bonds\n",
    "from arc.reaction import ARCReaction\n",
    "from arc.plotter import draw_structure, plot_3d_mol_as_scatter\n",
    "\n",
    "from rdkit import Chem\n",
    "from rdkit.Chem.rdchem import ChiralType\n",
    "from rdkit.Chem import AllChem"
   ]
  },
  {
   "cell_type": "code",
   "execution_count": 5,
   "metadata": {},
   "outputs": [],
   "source": [
    "# We normally don't define species using xyz (ARC will determine it),\n",
    "# but here we'd like to make sure that atom ordering is the same.\n",
    "# ARC will preserve the xyz atom order as well as the RMG Molecule object created from it.\n",
    "# I also defined SMILES, but it's not necessary (used for isomorphism check with the preceived connectivity)\n",
    "# The created RMG Molecule object (stored in spc.mol) is created with the same atom order as in the given xyz.\n",
    "\n",
    "xyz1 = \"\"\"\n",
    "C       2.48681185    0.74219788    0.29129615\n",
    "C       1.29524181    0.18715038   -0.40777838\n",
    "C       1.46444739   -0.47980720   -1.73736780\n",
    "C       0.16705606   -0.55907814   -2.54092821\n",
    "C      -0.36446443    0.80716478   -2.95523113\n",
    "O      -1.52380810    0.62255823   -3.75896487\n",
    "H       2.16965544    1.37829949    1.12297519\n",
    "H       3.09112758    1.35063778   -0.38769069\n",
    "H       3.10507890   -0.06601540    0.69197818\n",
    "H      -1.84750558    1.50817592   -3.99677266\n",
    "H       0.40069838   -0.01072042    0.17544185\n",
    "H       2.22318045    0.04927747   -2.32572179\n",
    "H       1.83755199   -1.49649681   -1.56779399\n",
    "H      -0.60479748   -1.09591403   -1.97441015\n",
    "H       0.34025028   -1.16121577   -3.44207305\n",
    "H       0.37976603    1.35391729   -3.54296385\n",
    "H      -0.64345729    1.40814259   -2.08442448\"\"\"\n",
    "\n",
    "xyz2 = \"\"\"C      -2.46980163   -0.12577955    0.55549609\n",
    "C      -1.31178104    0.17111718   -0.38385509\n",
    "C      -1.31218791    1.63372953   -0.82856447\n",
    "C      -0.14249660    1.92946952   -1.77612989\n",
    "C      -0.14107412    3.41360663   -2.22873160\n",
    "O       0.89700906    3.56663441   -3.03638466\n",
    "H      -3.43036007    0.06844820    0.06770664\n",
    "H      -2.41124229    0.49137146    1.45773236\n",
    "H      -2.45027007   -1.17661693    0.86089972\n",
    "H      -0.36855204   -0.06395850    0.12282599\n",
    "H      -1.38205507   -0.48455267   -1.25954086\n",
    "H      -2.25951647    1.86383944   -1.33106784\n",
    "H      -1.24569851    2.28455893    0.05171502\n",
    "H      -0.21648654    1.26397688   -2.64824672\n",
    "H       0.79894922    1.68536973   -1.26325779\n",
    "H      -0.16879119    4.00888836   -1.30213259\n",
    "H      -1.14694094    3.60296809   -2.63627032\"\"\"\n",
    "\n",
    "spc1 = ARCSpecies(label='4-pentynol', smiles='C[CH]CCCO', xyz=xyz1)\n",
    "spc2 = ARCSpecies(label='pentane_1ox', smiles='CCCCC[O]', xyz=xyz2)"
   ]
  },
  {
   "cell_type": "code",
   "execution_count": 6,
   "metadata": {},
   "outputs": [
    {
     "data": {
      "application/3dmoljs_load.v0": "<div id=\"3dmolviewer_1606181129735314\"  style=\"position: relative; width: 400px; height: 400px\">\n        <p id=\"3dmolwarning_1606181129735314\" style=\"background-color:#ffcccc;color:black\">You appear to be running in JupyterLab (or JavaScript failed to load for some other reason).  You need to install the 3dmol extension: <br>\n        <tt>jupyter labextension install jupyterlab_3dmol</tt></p>\n        </div>\n<script>\n\nvar loadScriptAsync = function(uri){\n  return new Promise((resolve, reject) => {\n    var tag = document.createElement('script');\n    tag.src = uri;\n    tag.async = true;\n    tag.onload = () => {\n      resolve();\n    };\n  var firstScriptTag = document.getElementsByTagName('script')[0];\n  firstScriptTag.parentNode.insertBefore(tag, firstScriptTag);\n});\n};\n\nif(typeof $3Dmolpromise === 'undefined') {\n$3Dmolpromise = null;\n  $3Dmolpromise = loadScriptAsync('https://3dmol.csb.pitt.edu/build/3Dmol.js');\n}\n\nvar viewer_1606181129735314 = null;\nvar warn = document.getElementById(\"3dmolwarning_1606181129735314\");\nif(warn) {\n    warn.parentNode.removeChild(warn);\n}\n$3Dmolpromise.then(function() {\nviewer_1606181129735314 = $3Dmol.createViewer($(\"#3dmolviewer_1606181129735314\"),{backgroundColor:\"white\"});\n\tviewer_1606181129735314.addModel(\"\\n     RDKit          3D\\n\\n 17 16  0  0  0  0  0  0  0  0999 V2000\\n    2.4868    0.7422    0.2913 C   0  0  0  0  0  0  0  0  0  0  0  0\\n    1.2952    0.1872   -0.4078 C   0  0  0  0  0  3  0  0  0  0  0  0\\n    1.4644   -0.4798   -1.7374 C   0  0  0  0  0  0  0  0  0  0  0  0\\n    0.1671   -0.5591   -2.5409 C   0  0  0  0  0  0  0  0  0  0  0  0\\n   -0.3645    0.8072   -2.9552 C   0  0  0  0  0  0  0  0  0  0  0  0\\n   -1.5238    0.6226   -3.7590 O   0  0  0  0  0  0  0  0  0  0  0  0\\n    2.1697    1.3783    1.1230 H   0  0  0  0  0  0  0  0  0  0  0  0\\n    3.0911    1.3506   -0.3877 H   0  0  0  0  0  0  0  0  0  0  0  0\\n    3.1051   -0.0660    0.6920 H   0  0  0  0  0  0  0  0  0  0  0  0\\n   -1.8475    1.5082   -3.9968 H   0  0  0  0  0  0  0  0  0  0  0  0\\n    0.4007   -0.0107    0.1754 H   0  0  0  0  0  0  0  0  0  0  0  0\\n    2.2232    0.0493   -2.3257 H   0  0  0  0  0  0  0  0  0  0  0  0\\n    1.8376   -1.4965   -1.5678 H   0  0  0  0  0  0  0  0  0  0  0  0\\n   -0.6048   -1.0959   -1.9744 H   0  0  0  0  0  0  0  0  0  0  0  0\\n    0.3403   -1.1612   -3.4421 H   0  0  0  0  0  0  0  0  0  0  0  0\\n    0.3798    1.3539   -3.5430 H   0  0  0  0  0  0  0  0  0  0  0  0\\n   -0.6435    1.4081   -2.0844 H   0  0  0  0  0  0  0  0  0  0  0  0\\n  1  2  1  0\\n  1  7  1  0\\n  1  8  1  0\\n  1  9  1  0\\n  2  3  1  0\\n  2 11  1  0\\n  3  4  1  0\\n  3 12  1  0\\n  3 13  1  0\\n  4  5  1  0\\n  4 14  1  0\\n  4 15  1  0\\n  5  6  1  0\\n  5 16  1  0\\n  5 17  1  0\\n  6 10  1  0\\nM  RAD  1   2   2\\nM  END\\n\",\"sdf\");\n\tviewer_1606181129735314.setStyle({\"stick\": {}});\n\tviewer_1606181129735314.zoomTo();\nviewer_1606181129735314.render();\n});\n</script>",
      "text/html": [
       "<div id=\"3dmolviewer_1606181129735314\"  style=\"position: relative; width: 400px; height: 400px\">\n",
       "        <p id=\"3dmolwarning_1606181129735314\" style=\"background-color:#ffcccc;color:black\">You appear to be running in JupyterLab (or JavaScript failed to load for some other reason).  You need to install the 3dmol extension: <br>\n",
       "        <tt>jupyter labextension install jupyterlab_3dmol</tt></p>\n",
       "        </div>\n",
       "<script>\n",
       "\n",
       "var loadScriptAsync = function(uri){\n",
       "  return new Promise((resolve, reject) => {\n",
       "    var tag = document.createElement('script');\n",
       "    tag.src = uri;\n",
       "    tag.async = true;\n",
       "    tag.onload = () => {\n",
       "      resolve();\n",
       "    };\n",
       "  var firstScriptTag = document.getElementsByTagName('script')[0];\n",
       "  firstScriptTag.parentNode.insertBefore(tag, firstScriptTag);\n",
       "});\n",
       "};\n",
       "\n",
       "if(typeof $3Dmolpromise === 'undefined') {\n",
       "$3Dmolpromise = null;\n",
       "  $3Dmolpromise = loadScriptAsync('https://3dmol.csb.pitt.edu/build/3Dmol.js');\n",
       "}\n",
       "\n",
       "var viewer_1606181129735314 = null;\n",
       "var warn = document.getElementById(\"3dmolwarning_1606181129735314\");\n",
       "if(warn) {\n",
       "    warn.parentNode.removeChild(warn);\n",
       "}\n",
       "$3Dmolpromise.then(function() {\n",
       "viewer_1606181129735314 = $3Dmol.createViewer($(\"#3dmolviewer_1606181129735314\"),{backgroundColor:\"white\"});\n",
       "\tviewer_1606181129735314.addModel(\"\\n     RDKit          3D\\n\\n 17 16  0  0  0  0  0  0  0  0999 V2000\\n    2.4868    0.7422    0.2913 C   0  0  0  0  0  0  0  0  0  0  0  0\\n    1.2952    0.1872   -0.4078 C   0  0  0  0  0  3  0  0  0  0  0  0\\n    1.4644   -0.4798   -1.7374 C   0  0  0  0  0  0  0  0  0  0  0  0\\n    0.1671   -0.5591   -2.5409 C   0  0  0  0  0  0  0  0  0  0  0  0\\n   -0.3645    0.8072   -2.9552 C   0  0  0  0  0  0  0  0  0  0  0  0\\n   -1.5238    0.6226   -3.7590 O   0  0  0  0  0  0  0  0  0  0  0  0\\n    2.1697    1.3783    1.1230 H   0  0  0  0  0  0  0  0  0  0  0  0\\n    3.0911    1.3506   -0.3877 H   0  0  0  0  0  0  0  0  0  0  0  0\\n    3.1051   -0.0660    0.6920 H   0  0  0  0  0  0  0  0  0  0  0  0\\n   -1.8475    1.5082   -3.9968 H   0  0  0  0  0  0  0  0  0  0  0  0\\n    0.4007   -0.0107    0.1754 H   0  0  0  0  0  0  0  0  0  0  0  0\\n    2.2232    0.0493   -2.3257 H   0  0  0  0  0  0  0  0  0  0  0  0\\n    1.8376   -1.4965   -1.5678 H   0  0  0  0  0  0  0  0  0  0  0  0\\n   -0.6048   -1.0959   -1.9744 H   0  0  0  0  0  0  0  0  0  0  0  0\\n    0.3403   -1.1612   -3.4421 H   0  0  0  0  0  0  0  0  0  0  0  0\\n    0.3798    1.3539   -3.5430 H   0  0  0  0  0  0  0  0  0  0  0  0\\n   -0.6435    1.4081   -2.0844 H   0  0  0  0  0  0  0  0  0  0  0  0\\n  1  2  1  0\\n  1  7  1  0\\n  1  8  1  0\\n  1  9  1  0\\n  2  3  1  0\\n  2 11  1  0\\n  3  4  1  0\\n  3 12  1  0\\n  3 13  1  0\\n  4  5  1  0\\n  4 14  1  0\\n  4 15  1  0\\n  5  6  1  0\\n  5 16  1  0\\n  5 17  1  0\\n  6 10  1  0\\nM  RAD  1   2   2\\nM  END\\n\",\"sdf\");\n",
       "\tviewer_1606181129735314.setStyle({\"stick\": {}});\n",
       "\tviewer_1606181129735314.zoomTo();\n",
       "viewer_1606181129735314.render();\n",
       "});\n",
       "</script>"
      ]
     },
     "metadata": {},
     "output_type": "display_data"
    }
   ],
   "source": [
    "draw_structure(spc1.get_xyz())"
   ]
  },
  {
   "cell_type": "code",
   "execution_count": 7,
   "metadata": {},
   "outputs": [
    {
     "data": {
      "application/3dmoljs_load.v0": "<div id=\"3dmolviewer_1606181129746061\"  style=\"position: relative; width: 400px; height: 400px\">\n        <p id=\"3dmolwarning_1606181129746061\" style=\"background-color:#ffcccc;color:black\">You appear to be running in JupyterLab (or JavaScript failed to load for some other reason).  You need to install the 3dmol extension: <br>\n        <tt>jupyter labextension install jupyterlab_3dmol</tt></p>\n        </div>\n<script>\n\nvar loadScriptAsync = function(uri){\n  return new Promise((resolve, reject) => {\n    var tag = document.createElement('script');\n    tag.src = uri;\n    tag.async = true;\n    tag.onload = () => {\n      resolve();\n    };\n  var firstScriptTag = document.getElementsByTagName('script')[0];\n  firstScriptTag.parentNode.insertBefore(tag, firstScriptTag);\n});\n};\n\nif(typeof $3Dmolpromise === 'undefined') {\n$3Dmolpromise = null;\n  $3Dmolpromise = loadScriptAsync('https://3dmol.csb.pitt.edu/build/3Dmol.js');\n}\n\nvar viewer_1606181129746061 = null;\nvar warn = document.getElementById(\"3dmolwarning_1606181129746061\");\nif(warn) {\n    warn.parentNode.removeChild(warn);\n}\n$3Dmolpromise.then(function() {\nviewer_1606181129746061 = $3Dmol.createViewer($(\"#3dmolviewer_1606181129746061\"),{backgroundColor:\"white\"});\n\tviewer_1606181129746061.addModel(\"\\n     RDKit          3D\\n\\n 17 16  0  0  0  0  0  0  0  0999 V2000\\n   -2.4698   -0.1258    0.5555 C   0  0  0  0  0  0  0  0  0  0  0  0\\n   -1.3118    0.1711   -0.3839 C   0  0  0  0  0  0  0  0  0  0  0  0\\n   -1.3122    1.6337   -0.8286 C   0  0  0  0  0  0  0  0  0  0  0  0\\n   -0.1425    1.9295   -1.7761 C   0  0  0  0  0  0  0  0  0  0  0  0\\n   -0.1411    3.4136   -2.2287 C   0  0  0  0  0  0  0  0  0  0  0  0\\n    0.8970    3.5666   -3.0364 O   0  0  0  0  0  1  0  0  0  0  0  0\\n   -3.4304    0.0684    0.0677 H   0  0  0  0  0  0  0  0  0  0  0  0\\n   -2.4112    0.4914    1.4577 H   0  0  0  0  0  0  0  0  0  0  0  0\\n   -2.4503   -1.1766    0.8609 H   0  0  0  0  0  0  0  0  0  0  0  0\\n   -0.3686   -0.0640    0.1228 H   0  0  0  0  0  0  0  0  0  0  0  0\\n   -1.3821   -0.4846   -1.2595 H   0  0  0  0  0  0  0  0  0  0  0  0\\n   -2.2595    1.8638   -1.3311 H   0  0  0  0  0  0  0  0  0  0  0  0\\n   -1.2457    2.2846    0.0517 H   0  0  0  0  0  0  0  0  0  0  0  0\\n   -0.2165    1.2640   -2.6482 H   0  0  0  0  0  0  0  0  0  0  0  0\\n    0.7989    1.6854   -1.2633 H   0  0  0  0  0  0  0  0  0  0  0  0\\n   -0.1688    4.0089   -1.3021 H   0  0  0  0  0  0  0  0  0  0  0  0\\n   -1.1469    3.6030   -2.6363 H   0  0  0  0  0  0  0  0  0  0  0  0\\n  1  2  1  0\\n  1  7  1  0\\n  1  8  1  0\\n  1  9  1  0\\n  2  3  1  0\\n  2 10  1  0\\n  2 11  1  0\\n  3  4  1  0\\n  3 12  1  0\\n  3 13  1  0\\n  4  5  1  0\\n  4 14  1  0\\n  4 15  1  0\\n  5  6  1  0\\n  5 16  1  0\\n  5 17  1  0\\nM  RAD  1   6   2\\nM  END\\n\",\"sdf\");\n\tviewer_1606181129746061.setStyle({\"stick\": {}});\n\tviewer_1606181129746061.zoomTo();\nviewer_1606181129746061.render();\n});\n</script>",
      "text/html": [
       "<div id=\"3dmolviewer_1606181129746061\"  style=\"position: relative; width: 400px; height: 400px\">\n",
       "        <p id=\"3dmolwarning_1606181129746061\" style=\"background-color:#ffcccc;color:black\">You appear to be running in JupyterLab (or JavaScript failed to load for some other reason).  You need to install the 3dmol extension: <br>\n",
       "        <tt>jupyter labextension install jupyterlab_3dmol</tt></p>\n",
       "        </div>\n",
       "<script>\n",
       "\n",
       "var loadScriptAsync = function(uri){\n",
       "  return new Promise((resolve, reject) => {\n",
       "    var tag = document.createElement('script');\n",
       "    tag.src = uri;\n",
       "    tag.async = true;\n",
       "    tag.onload = () => {\n",
       "      resolve();\n",
       "    };\n",
       "  var firstScriptTag = document.getElementsByTagName('script')[0];\n",
       "  firstScriptTag.parentNode.insertBefore(tag, firstScriptTag);\n",
       "});\n",
       "};\n",
       "\n",
       "if(typeof $3Dmolpromise === 'undefined') {\n",
       "$3Dmolpromise = null;\n",
       "  $3Dmolpromise = loadScriptAsync('https://3dmol.csb.pitt.edu/build/3Dmol.js');\n",
       "}\n",
       "\n",
       "var viewer_1606181129746061 = null;\n",
       "var warn = document.getElementById(\"3dmolwarning_1606181129746061\");\n",
       "if(warn) {\n",
       "    warn.parentNode.removeChild(warn);\n",
       "}\n",
       "$3Dmolpromise.then(function() {\n",
       "viewer_1606181129746061 = $3Dmol.createViewer($(\"#3dmolviewer_1606181129746061\"),{backgroundColor:\"white\"});\n",
       "\tviewer_1606181129746061.addModel(\"\\n     RDKit          3D\\n\\n 17 16  0  0  0  0  0  0  0  0999 V2000\\n   -2.4698   -0.1258    0.5555 C   0  0  0  0  0  0  0  0  0  0  0  0\\n   -1.3118    0.1711   -0.3839 C   0  0  0  0  0  0  0  0  0  0  0  0\\n   -1.3122    1.6337   -0.8286 C   0  0  0  0  0  0  0  0  0  0  0  0\\n   -0.1425    1.9295   -1.7761 C   0  0  0  0  0  0  0  0  0  0  0  0\\n   -0.1411    3.4136   -2.2287 C   0  0  0  0  0  0  0  0  0  0  0  0\\n    0.8970    3.5666   -3.0364 O   0  0  0  0  0  1  0  0  0  0  0  0\\n   -3.4304    0.0684    0.0677 H   0  0  0  0  0  0  0  0  0  0  0  0\\n   -2.4112    0.4914    1.4577 H   0  0  0  0  0  0  0  0  0  0  0  0\\n   -2.4503   -1.1766    0.8609 H   0  0  0  0  0  0  0  0  0  0  0  0\\n   -0.3686   -0.0640    0.1228 H   0  0  0  0  0  0  0  0  0  0  0  0\\n   -1.3821   -0.4846   -1.2595 H   0  0  0  0  0  0  0  0  0  0  0  0\\n   -2.2595    1.8638   -1.3311 H   0  0  0  0  0  0  0  0  0  0  0  0\\n   -1.2457    2.2846    0.0517 H   0  0  0  0  0  0  0  0  0  0  0  0\\n   -0.2165    1.2640   -2.6482 H   0  0  0  0  0  0  0  0  0  0  0  0\\n    0.7989    1.6854   -1.2633 H   0  0  0  0  0  0  0  0  0  0  0  0\\n   -0.1688    4.0089   -1.3021 H   0  0  0  0  0  0  0  0  0  0  0  0\\n   -1.1469    3.6030   -2.6363 H   0  0  0  0  0  0  0  0  0  0  0  0\\n  1  2  1  0\\n  1  7  1  0\\n  1  8  1  0\\n  1  9  1  0\\n  2  3  1  0\\n  2 10  1  0\\n  2 11  1  0\\n  3  4  1  0\\n  3 12  1  0\\n  3 13  1  0\\n  4  5  1  0\\n  4 14  1  0\\n  4 15  1  0\\n  5  6  1  0\\n  5 16  1  0\\n  5 17  1  0\\nM  RAD  1   6   2\\nM  END\\n\",\"sdf\");\n",
       "\tviewer_1606181129746061.setStyle({\"stick\": {}});\n",
       "\tviewer_1606181129746061.zoomTo();\n",
       "viewer_1606181129746061.render();\n",
       "});\n",
       "</script>"
      ]
     },
     "metadata": {},
     "output_type": "display_data"
    }
   ],
   "source": [
    "draw_structure(spc2.get_xyz())"
   ]
  },
  {
   "cell_type": "code",
   "execution_count": 8,
   "metadata": {},
   "outputs": [
    {
     "name": "stdout",
     "output_type": "stream",
     "text": [
      "symbol order between mol1 and mol2 is correct\n",
      "symbol order between mol1 and xyz2 is correct\n"
     ]
    }
   ],
   "source": [
    "# check symbol order (doesn't guarantee that all C's and all H's are ordered correctly)\n",
    "for atom1, atom2 in zip(spc1.mol.atoms, spc2.mol.atoms):\n",
    "    if atom1.element.symbol != atom2.element.symbol:\n",
    "        print('order is incorrect')\n",
    "        break\n",
    "else:\n",
    "    print('symbol order between mol1 and mol2 is correct')\n",
    "\n",
    "for atom1, symbol2 in zip(spc1.mol.atoms, spc2.get_xyz()['symbols']):\n",
    "    if atom1.element.symbol != symbol2:\n",
    "        print('order is incorrect')\n",
    "        break\n",
    "else:\n",
    "    print('symbol order between mol1 and xyz2 is correct')  "
   ]
  },
  {
   "cell_type": "code",
   "execution_count": null,
   "metadata": {},
   "outputs": [],
   "source": []
  },
  {
   "cell_type": "code",
   "execution_count": null,
   "metadata": {},
   "outputs": [],
   "source": []
  },
  {
   "cell_type": "code",
   "execution_count": 9,
   "metadata": {
    "scrolled": true
   },
   "outputs": [],
   "source": [
    "# We normally don't define species using xyz (ARC will determine it),\n",
    "# but here we'd like to make sure that atom ordering is the same.\n",
    "# ARC will preserve the xyz atom order as well as the RMG Molecule object created from it.\n",
    "# I also defined SMILES, but it's not necessary (used for isomorphism check with the preceived connectivity)\n",
    "# The created RMG Molecule object (stored in spc.mol) is created with the same atom order as in the given xyz.\n",
    "\n",
    "xyz1 = \"\"\"C      -1.3087    0.0068    0.0318\n",
    "C       0.1715   -0.0344    0.0210\n",
    "N       0.9054   -0.9001    0.6395\n",
    "O       2.1683   -0.5483    0.3437\n",
    "N       2.1499    0.5449   -0.4631\n",
    "N       0.9613    0.8655   -0.6660\n",
    "H      -1.6558    0.9505    0.4530\n",
    "H      -1.6934   -0.0680   -0.9854\n",
    "H      -1.6986   -0.8169    0.6255\"\"\"\n",
    "\n",
    "xyz2 = \"\"\"C -1.0108   -0.0114   -0.0610\n",
    "C       0.4780    0.0191    0.0139\n",
    "N       1.2974   -0.9930    0.4693\n",
    "O       0.6928   -1.9845    0.8337\n",
    "N       1.7456    1.9701   -0.6976\n",
    "N       1.1642    1.0763   -0.3716\n",
    "H      -1.4020    0.9134   -0.4821\n",
    "H      -1.3327   -0.8499   -0.6803\n",
    "H      -1.4329   -0.1554    0.9349\"\"\"\n",
    "\n",
    "# spc1 = ARCSpecies(label='r1', smiles='[C:1]([c:2]1[n:3][o:4][n:5][n:6]1)([H:7])([H:8])[H:9]', xyz=xyz1)\n",
    "r1 = ARCSpecies(label='r1', smiles='[H]C([H])([H])c1nnon1', xyz=xyz1)\n",
    "p1 = ARCSpecies(label='p1', smiles='[C:1]([C:2]([N:3]=[O:4])=[N+:6]=[N-:5])([H:7])([H:8])[H:9]', xyz=xyz2)"
   ]
  },
  {
   "cell_type": "code",
   "execution_count": 10,
   "metadata": {},
   "outputs": [
    {
     "data": {
      "text/plain": [
       "'[H]C([H])([H])c1nnon1'"
      ]
     },
     "execution_count": 10,
     "metadata": {},
     "output_type": "execute_result"
    }
   ],
   "source": [
    "# ARC cannot determine the multiplicity when using the atom-mapped SMILES so convert it\n",
    "mol = Chem.MolFromSmiles(\"[C:1]([c:2]1[n:3][o:4][n:5][n:6]1)([H:7])([H:8])[H:9]\")\n",
    "mol = Chem.AddHs(mol)\n",
    "[a.SetAtomMapNum(0) for a in mol.GetAtoms()]\n",
    "smiles = Chem.MolToSmiles(mol)\n",
    "smiles"
   ]
  },
  {
   "cell_type": "code",
   "execution_count": 11,
   "metadata": {},
   "outputs": [
    {
     "name": "stdout",
     "output_type": "stream",
     "text": [
      "symbol order between mol1 and mol2 is correct\n",
      "symbol order between mol1 and xyz2 is correct\n"
     ]
    }
   ],
   "source": [
    "# check symbol order (doesn't guarantee that the atoms are ordered correctly)\n",
    "# this is a necessary, but not sufficient condition\n",
    "for atom1, atom2 in zip(spc1.mol.atoms, spc2.mol.atoms):\n",
    "    if atom1.element.symbol != atom2.element.symbol:\n",
    "        print('order is incorrect')\n",
    "        break\n",
    "else:\n",
    "    print('symbol order between mol1 and mol2 is correct')\n",
    "\n",
    "for atom1, symbol2 in zip(spc1.mol.atoms, spc2.get_xyz()['symbols']):\n",
    "    if atom1.element.symbol != symbol2:\n",
    "        print('order is incorrect')\n",
    "        break\n",
    "else:\n",
    "    print('symbol order between mol1 and xyz2 is correct')  "
   ]
  },
  {
   "cell_type": "code",
   "execution_count": 12,
   "metadata": {},
   "outputs": [
    {
     "data": {
      "application/3dmoljs_load.v0": "<div id=\"3dmolviewer_1606181129854501\"  style=\"position: relative; width: 400px; height: 400px\">\n        <p id=\"3dmolwarning_1606181129854501\" style=\"background-color:#ffcccc;color:black\">You appear to be running in JupyterLab (or JavaScript failed to load for some other reason).  You need to install the 3dmol extension: <br>\n        <tt>jupyter labextension install jupyterlab_3dmol</tt></p>\n        </div>\n<script>\n\nvar loadScriptAsync = function(uri){\n  return new Promise((resolve, reject) => {\n    var tag = document.createElement('script');\n    tag.src = uri;\n    tag.async = true;\n    tag.onload = () => {\n      resolve();\n    };\n  var firstScriptTag = document.getElementsByTagName('script')[0];\n  firstScriptTag.parentNode.insertBefore(tag, firstScriptTag);\n});\n};\n\nif(typeof $3Dmolpromise === 'undefined') {\n$3Dmolpromise = null;\n  $3Dmolpromise = loadScriptAsync('https://3dmol.csb.pitt.edu/build/3Dmol.js');\n}\n\nvar viewer_1606181129854501 = null;\nvar warn = document.getElementById(\"3dmolwarning_1606181129854501\");\nif(warn) {\n    warn.parentNode.removeChild(warn);\n}\n$3Dmolpromise.then(function() {\nviewer_1606181129854501 = $3Dmol.createViewer($(\"#3dmolviewer_1606181129854501\"),{backgroundColor:\"white\"});\n\tviewer_1606181129854501.addModel(\"\\n     RDKit          3D\\n\\n  9  9  0  0  0  0  0  0  0  0999 V2000\\n   -1.3087    0.0068    0.0318 C   0  0  0  0  0  0  0  0  0  0  0  0\\n    0.1715   -0.0344    0.0210 C   0  0  0  0  0  0  0  0  0  0  0  0\\n    0.9054   -0.9001    0.6395 N   0  0  0  0  0  0  0  0  0  0  0  0\\n    2.1683   -0.5483    0.3437 O   0  0  0  0  0  0  0  0  0  0  0  0\\n    2.1499    0.5449   -0.4631 N   0  0  0  0  0  0  0  0  0  0  0  0\\n    0.9613    0.8655   -0.6660 N   0  0  0  0  0  0  0  0  0  0  0  0\\n   -1.6558    0.9505    0.4530 H   0  0  0  0  0  0  0  0  0  0  0  0\\n   -1.6934   -0.0680   -0.9854 H   0  0  0  0  0  0  0  0  0  0  0  0\\n   -1.6986   -0.8169    0.6255 H   0  0  0  0  0  0  0  0  0  0  0  0\\n  1  2  1  0\\n  1  7  1  0\\n  1  8  1  0\\n  1  9  1  0\\n  2  6  1  0\\n  2  3  2  0\\n  3  4  1  0\\n  4  5  1  0\\n  5  6  2  0\\nM  END\\n\",\"sdf\");\n\tviewer_1606181129854501.setStyle({\"stick\": {}});\n\tviewer_1606181129854501.zoomTo();\nviewer_1606181129854501.render();\n});\n</script>",
      "text/html": [
       "<div id=\"3dmolviewer_1606181129854501\"  style=\"position: relative; width: 400px; height: 400px\">\n",
       "        <p id=\"3dmolwarning_1606181129854501\" style=\"background-color:#ffcccc;color:black\">You appear to be running in JupyterLab (or JavaScript failed to load for some other reason).  You need to install the 3dmol extension: <br>\n",
       "        <tt>jupyter labextension install jupyterlab_3dmol</tt></p>\n",
       "        </div>\n",
       "<script>\n",
       "\n",
       "var loadScriptAsync = function(uri){\n",
       "  return new Promise((resolve, reject) => {\n",
       "    var tag = document.createElement('script');\n",
       "    tag.src = uri;\n",
       "    tag.async = true;\n",
       "    tag.onload = () => {\n",
       "      resolve();\n",
       "    };\n",
       "  var firstScriptTag = document.getElementsByTagName('script')[0];\n",
       "  firstScriptTag.parentNode.insertBefore(tag, firstScriptTag);\n",
       "});\n",
       "};\n",
       "\n",
       "if(typeof $3Dmolpromise === 'undefined') {\n",
       "$3Dmolpromise = null;\n",
       "  $3Dmolpromise = loadScriptAsync('https://3dmol.csb.pitt.edu/build/3Dmol.js');\n",
       "}\n",
       "\n",
       "var viewer_1606181129854501 = null;\n",
       "var warn = document.getElementById(\"3dmolwarning_1606181129854501\");\n",
       "if(warn) {\n",
       "    warn.parentNode.removeChild(warn);\n",
       "}\n",
       "$3Dmolpromise.then(function() {\n",
       "viewer_1606181129854501 = $3Dmol.createViewer($(\"#3dmolviewer_1606181129854501\"),{backgroundColor:\"white\"});\n",
       "\tviewer_1606181129854501.addModel(\"\\n     RDKit          3D\\n\\n  9  9  0  0  0  0  0  0  0  0999 V2000\\n   -1.3087    0.0068    0.0318 C   0  0  0  0  0  0  0  0  0  0  0  0\\n    0.1715   -0.0344    0.0210 C   0  0  0  0  0  0  0  0  0  0  0  0\\n    0.9054   -0.9001    0.6395 N   0  0  0  0  0  0  0  0  0  0  0  0\\n    2.1683   -0.5483    0.3437 O   0  0  0  0  0  0  0  0  0  0  0  0\\n    2.1499    0.5449   -0.4631 N   0  0  0  0  0  0  0  0  0  0  0  0\\n    0.9613    0.8655   -0.6660 N   0  0  0  0  0  0  0  0  0  0  0  0\\n   -1.6558    0.9505    0.4530 H   0  0  0  0  0  0  0  0  0  0  0  0\\n   -1.6934   -0.0680   -0.9854 H   0  0  0  0  0  0  0  0  0  0  0  0\\n   -1.6986   -0.8169    0.6255 H   0  0  0  0  0  0  0  0  0  0  0  0\\n  1  2  1  0\\n  1  7  1  0\\n  1  8  1  0\\n  1  9  1  0\\n  2  6  1  0\\n  2  3  2  0\\n  3  4  1  0\\n  4  5  1  0\\n  5  6  2  0\\nM  END\\n\",\"sdf\");\n",
       "\tviewer_1606181129854501.setStyle({\"stick\": {}});\n",
       "\tviewer_1606181129854501.zoomTo();\n",
       "viewer_1606181129854501.render();\n",
       "});\n",
       "</script>"
      ]
     },
     "metadata": {},
     "output_type": "display_data"
    }
   ],
   "source": [
    "draw_structure(r1.get_xyz())"
   ]
  },
  {
   "cell_type": "code",
   "execution_count": 13,
   "metadata": {},
   "outputs": [
    {
     "data": {
      "application/3dmoljs_load.v0": "<div id=\"3dmolviewer_160618112987631\"  style=\"position: relative; width: 400px; height: 400px\">\n        <p id=\"3dmolwarning_160618112987631\" style=\"background-color:#ffcccc;color:black\">You appear to be running in JupyterLab (or JavaScript failed to load for some other reason).  You need to install the 3dmol extension: <br>\n        <tt>jupyter labextension install jupyterlab_3dmol</tt></p>\n        </div>\n<script>\n\nvar loadScriptAsync = function(uri){\n  return new Promise((resolve, reject) => {\n    var tag = document.createElement('script');\n    tag.src = uri;\n    tag.async = true;\n    tag.onload = () => {\n      resolve();\n    };\n  var firstScriptTag = document.getElementsByTagName('script')[0];\n  firstScriptTag.parentNode.insertBefore(tag, firstScriptTag);\n});\n};\n\nif(typeof $3Dmolpromise === 'undefined') {\n$3Dmolpromise = null;\n  $3Dmolpromise = loadScriptAsync('https://3dmol.csb.pitt.edu/build/3Dmol.js');\n}\n\nvar viewer_160618112987631 = null;\nvar warn = document.getElementById(\"3dmolwarning_160618112987631\");\nif(warn) {\n    warn.parentNode.removeChild(warn);\n}\n$3Dmolpromise.then(function() {\nviewer_160618112987631 = $3Dmol.createViewer($(\"#3dmolviewer_160618112987631\"),{backgroundColor:\"white\"});\n\tviewer_160618112987631.addModel(\"\\n     RDKit          3D\\n\\n  9  8  0  0  0  0  0  0  0  0999 V2000\\n   -1.0108   -0.0114   -0.0610 C   0  0  0  0  0  0  0  0  0  0  0  0\\n    0.4780    0.0191    0.0139 C   0  0  0  0  0  0  0  0  0  0  0  0\\n    1.2974   -0.9930    0.4693 N   0  0  0  0  0  0  0  0  0  0  0  0\\n    0.6928   -1.9845    0.8337 O   0  0  0  0  0  0  0  0  0  0  0  0\\n    1.7456    1.9701   -0.6976 N   0  0  0  0  0  0  0  0  0  0  0  0\\n    1.1642    1.0763   -0.3716 N   0  0  0  0  0  0  0  0  0  0  0  0\\n   -1.4020    0.9134   -0.4821 H   0  0  0  0  0  0  0  0  0  0  0  0\\n   -1.3327   -0.8499   -0.6803 H   0  0  0  0  0  0  0  0  0  0  0  0\\n   -1.4329   -0.1554    0.9349 H   0  0  0  0  0  0  0  0  0  0  0  0\\n  1  2  1  0\\n  1  7  1  0\\n  1  8  1  0\\n  1  9  1  0\\n  2  6  2  0\\n  2  3  1  0\\n  3  4  2  0\\n  5  6  2  0\\nM  CHG  2   5  -1   6   1\\nM  END\\n\",\"sdf\");\n\tviewer_160618112987631.setStyle({\"stick\": {}});\n\tviewer_160618112987631.zoomTo();\nviewer_160618112987631.render();\n});\n</script>",
      "text/html": [
       "<div id=\"3dmolviewer_160618112987631\"  style=\"position: relative; width: 400px; height: 400px\">\n",
       "        <p id=\"3dmolwarning_160618112987631\" style=\"background-color:#ffcccc;color:black\">You appear to be running in JupyterLab (or JavaScript failed to load for some other reason).  You need to install the 3dmol extension: <br>\n",
       "        <tt>jupyter labextension install jupyterlab_3dmol</tt></p>\n",
       "        </div>\n",
       "<script>\n",
       "\n",
       "var loadScriptAsync = function(uri){\n",
       "  return new Promise((resolve, reject) => {\n",
       "    var tag = document.createElement('script');\n",
       "    tag.src = uri;\n",
       "    tag.async = true;\n",
       "    tag.onload = () => {\n",
       "      resolve();\n",
       "    };\n",
       "  var firstScriptTag = document.getElementsByTagName('script')[0];\n",
       "  firstScriptTag.parentNode.insertBefore(tag, firstScriptTag);\n",
       "});\n",
       "};\n",
       "\n",
       "if(typeof $3Dmolpromise === 'undefined') {\n",
       "$3Dmolpromise = null;\n",
       "  $3Dmolpromise = loadScriptAsync('https://3dmol.csb.pitt.edu/build/3Dmol.js');\n",
       "}\n",
       "\n",
       "var viewer_160618112987631 = null;\n",
       "var warn = document.getElementById(\"3dmolwarning_160618112987631\");\n",
       "if(warn) {\n",
       "    warn.parentNode.removeChild(warn);\n",
       "}\n",
       "$3Dmolpromise.then(function() {\n",
       "viewer_160618112987631 = $3Dmol.createViewer($(\"#3dmolviewer_160618112987631\"),{backgroundColor:\"white\"});\n",
       "\tviewer_160618112987631.addModel(\"\\n     RDKit          3D\\n\\n  9  8  0  0  0  0  0  0  0  0999 V2000\\n   -1.0108   -0.0114   -0.0610 C   0  0  0  0  0  0  0  0  0  0  0  0\\n    0.4780    0.0191    0.0139 C   0  0  0  0  0  0  0  0  0  0  0  0\\n    1.2974   -0.9930    0.4693 N   0  0  0  0  0  0  0  0  0  0  0  0\\n    0.6928   -1.9845    0.8337 O   0  0  0  0  0  0  0  0  0  0  0  0\\n    1.7456    1.9701   -0.6976 N   0  0  0  0  0  0  0  0  0  0  0  0\\n    1.1642    1.0763   -0.3716 N   0  0  0  0  0  0  0  0  0  0  0  0\\n   -1.4020    0.9134   -0.4821 H   0  0  0  0  0  0  0  0  0  0  0  0\\n   -1.3327   -0.8499   -0.6803 H   0  0  0  0  0  0  0  0  0  0  0  0\\n   -1.4329   -0.1554    0.9349 H   0  0  0  0  0  0  0  0  0  0  0  0\\n  1  2  1  0\\n  1  7  1  0\\n  1  8  1  0\\n  1  9  1  0\\n  2  6  2  0\\n  2  3  1  0\\n  3  4  2  0\\n  5  6  2  0\\nM  CHG  2   5  -1   6   1\\nM  END\\n\",\"sdf\");\n",
       "\tviewer_160618112987631.setStyle({\"stick\": {}});\n",
       "\tviewer_160618112987631.zoomTo();\n",
       "viewer_160618112987631.render();\n",
       "});\n",
       "</script>"
      ]
     },
     "metadata": {},
     "output_type": "display_data"
    }
   ],
   "source": [
    "draw_structure(p1.get_xyz())"
   ]
  },
  {
   "cell_type": "markdown",
   "metadata": {},
   "source": [
    "ARC is instantiated with a list of ARCReaction objects\n",
    "\n",
    "```\n",
    "species = list()\n",
    "reactions = list()\n",
    "\n",
    "species.append(ARCSpecies(label='ethanol', yml_path='yml/ethanol.yml'))\n",
    "species.append(ARCSpecies(label='OH', yml_path='yml/OH.yml'))\n",
    "species.append(ARCSpecies(label='o_ethanol_rad', yml_path='yml/o_ethanol_rad.yml'))\n",
    "species.append(ARCSpecies(label='H2O', yml_path='yml/H2O.yml'))\n",
    "\n",
    "species.append(ARCSpecies(label='TS', is_ts=True, yml_path='yml/ethanol + OH = o_ethanol_rad + H2O.yml'))\n",
    "\n",
    "reactions.append(ARCReaction(label='ethanol + OH <=> o_ethanol_rad + H2O', ts_label='TS', ts_methods=[]))\n",
    "\n",
    "\n",
    "job_types = {'conformers': True, 'opt': True, 'fine_grid': False, 'freq': True, 'bde': False,\n",
    "             'sp': True, 'rotors': False, 'irc': False}\n",
    "\n",
    "arc = arc.ARC(project='rxn_tst',\n",
    "               species=species,\n",
    "               reactions=reactions,\n",
    "               job_types=job_types,\n",
    "              )\n",
    "arc.execute()\n",
    "```"
   ]
  },
  {
   "cell_type": "code",
   "execution_count": 14,
   "metadata": {},
   "outputs": [],
   "source": [
    "# ARC is instatiated with \n",
    "reactions = list()\n",
    "rxn = ARCReaction(label='r1 <=> p1', ts_methods=['gcn_isomerizaton'])\n",
    "rxn.r_species = [r1]\n",
    "rxn.p_species = [p1]\n",
    "reactions.append(rxn)\n"
   ]
  },
  {
   "cell_type": "code",
   "execution_count": 15,
   "metadata": {},
   "outputs": [
    {
     "data": {
      "text/plain": [
       "{'symbols': ('C', 'C', 'N', 'O', 'N', 'N', 'H', 'H', 'H'),\n",
       " 'isotopes': (12, 12, 14, 16, 14, 14, 1, 1, 1),\n",
       " 'coords': ((-1.3087, 0.0068, 0.0318),\n",
       "  (0.1715, -0.0344, 0.021),\n",
       "  (0.9054, -0.9001, 0.6395),\n",
       "  (2.1683, -0.5483, 0.3437),\n",
       "  (2.1499, 0.5449, -0.4631),\n",
       "  (0.9613, 0.8655, -0.666),\n",
       "  (-1.6558, 0.9505, 0.453),\n",
       "  (-1.6934, -0.068, -0.9854),\n",
       "  (-1.6986, -0.8169, 0.6255))}"
      ]
     },
     "execution_count": 15,
     "metadata": {},
     "output_type": "execute_result"
    }
   ],
   "source": [
    "r1.get_xyz()"
   ]
  },
  {
   "cell_type": "code",
   "execution_count": 16,
   "metadata": {},
   "outputs": [
    {
     "data": {
      "image/png": "[encoded data removed]",
      "text/plain": [
       "Molecule(smiles=\"Cc1nonn1\")"
      ]
     },
     "execution_count": 16,
     "metadata": {},
     "output_type": "execute_result"
    }
   ],
   "source": [
    "r1.mol"
   ]
  },
  {
   "cell_type": "code",
   "execution_count": 22,
   "metadata": {},
   "outputs": [],
   "source": [
    "import sys\n",
    "sys.path.append(\"/Users/kevin/Documents/Green_Lab/RMG/ts_gen_v2/\")"
   ]
  },
  {
   "cell_type": "code",
   "execution_count": 23,
   "metadata": {},
   "outputs": [],
   "source": [
    "from model.G2C import G2C"
   ]
  },
  {
   "cell_type": "markdown",
   "metadata": {},
   "source": [
    "**Force the user to clone `ts_gen_v2` into the same directory level as ARC**"
   ]
  },
  {
   "cell_type": "code",
   "execution_count": 37,
   "metadata": {},
   "outputs": [],
   "source": [
    "import torch\n",
    "from torch_geometric.data import DataLoader\n",
    "import yaml\n",
    "import os\n",
    "import copy\n",
    "\n",
    "from ts_gen_v2_arc.arc_featurization import featurization\n",
    "from model.common import ts_gen_v2_path"
   ]
  },
  {
   "cell_type": "code",
   "execution_count": 40,
   "metadata": {},
   "outputs": [],
   "source": [
    "# create torch data loader\n",
    "data_list = list()\n",
    "ts_xyz_dict_list = list()\n",
    "for reaction in reactions:\n",
    "    data = featurization(reaction)\n",
    "    data_list.append(data)\n",
    "    \n",
    "    # copy the reactant xyz dictionary since the atom symbols and isotopes will be identical in the TS\n",
    "    # the YS xyz coordinates will be updated updated with those output by the GCN\n",
    "    ts_xyz_dict = copy.deepcopy(reaction.r_species[0].get_xyz())\n",
    "    ts_xyz_dict_list.append(ts_xyz_dict)\n",
    "\n",
    "loader = DataLoader(data_list, batch_size=16)"
   ]
  },
  {
   "cell_type": "code",
   "execution_count": 53,
   "metadata": {},
   "outputs": [
    {
     "data": {
      "text/plain": [
       "'r1 <=> p1'"
      ]
     },
     "execution_count": 53,
     "metadata": {},
     "output_type": "execute_result"
    }
   ],
   "source": [
    "reaction.label"
   ]
  },
  {
   "cell_type": "code",
   "execution_count": 39,
   "metadata": {},
   "outputs": [
    {
     "data": {
      "text/plain": [
       "[{'symbols': ('C', 'C', 'N', 'O', 'N', 'N', 'H', 'H', 'H'),\n",
       "  'isotopes': (12, 12, 14, 16, 14, 14, 1, 1, 1),\n",
       "  'coords': ((-1.3087, 0.0068, 0.0318),\n",
       "   (0.1715, -0.0344, 0.021),\n",
       "   (0.9054, -0.9001, 0.6395),\n",
       "   (2.1683, -0.5483, 0.3437),\n",
       "   (2.1499, 0.5449, -0.4631),\n",
       "   (0.9613, 0.8655, -0.666),\n",
       "   (-1.6558, 0.9505, 0.453),\n",
       "   (-1.6934, -0.068, -0.9854),\n",
       "   (-1.6986, -0.8169, 0.6255))}]"
      ]
     },
     "execution_count": 39,
     "metadata": {},
     "output_type": "execute_result"
    }
   ],
   "source": [
    "ts_xyz_dict_list"
   ]
  },
  {
   "cell_type": "code",
   "execution_count": 41,
   "metadata": {},
   "outputs": [
    {
     "name": "stdout",
     "output_type": "stream",
     "text": [
      "\n"
     ]
    }
   ],
   "source": [
    "# set device\n",
    "device = torch.device('cuda' if torch.cuda.is_available() else 'cpu')\n",
    "# define paths to model parameters and state dictionary\n",
    "yaml_file_name = os.path.join(ts_gen_v2_path, 'best_model', 'model_paramaters.yml')\n",
    "state_dict = os.path.join(ts_gen_v2_path, 'best_model', 'epoch_95_state_dict')\n",
    "\n",
    "# create the network with the best architecture from hyperopt and load the corresponding best weights\n",
    "with open(yaml_file_name, 'r') as f:\n",
    "    content = yaml.load(stream=f, Loader=yaml.FullLoader)\n",
    "model = G2C(**content).to(device)\n",
    "model.load_state_dict(torch.load(state_dict, map_location=device))\n",
    "model.eval()\n",
    "print()"
   ]
  },
  {
   "cell_type": "code",
   "execution_count": 51,
   "metadata": {},
   "outputs": [
    {
     "ename": "AttributeError",
     "evalue": "'Batch' object has no attribute 'mols'",
     "output_type": "error",
     "traceback": [
      "\u001b[0;31m---------------------------------------------------------------------------\u001b[0m",
      "\u001b[0;31mAttributeError\u001b[0m                            Traceback (most recent call last)",
      "\u001b[0;32m<ipython-input-51-2f76bdec1368>\u001b[0m in \u001b[0;36m<module>\u001b[0;34m\u001b[0m\n\u001b[0;32m----> 1\u001b[0;31m \u001b[0mdata\u001b[0m\u001b[0;34m.\u001b[0m\u001b[0mmols\u001b[0m\u001b[0;34m\u001b[0m\u001b[0;34m\u001b[0m\u001b[0m\n\u001b[0m",
      "\u001b[0;31mAttributeError\u001b[0m: 'Batch' object has no attribute 'mols'"
     ]
    }
   ],
   "source": [
    "data.mols"
   ]
  },
  {
   "cell_type": "code",
   "execution_count": 49,
   "metadata": {},
   "outputs": [
    {
     "name": "stdout",
     "output_type": "stream",
     "text": [
      "Batch(batch=[9], edge_attr=[72, 2], edge_index=[2, 72], x=[9, 7])\n",
      "Batch(batch=[9], edge_attr=[72, 2], edge_index=[2, 72], x=[9, 7])\n",
      "Batch(batch=[9], coords=[1, 9, 3], edge_attr=[72, 2], edge_index=[2, 72], x=[9, 7])\n"
     ]
    },
    {
     "data": {
      "text/plain": [
       "[{'symbols': ('C', 'C', 'N', 'O', 'N', 'N', 'H', 'H', 'H'),\n",
       "  'isotopes': (12, 12, 14, 16, 14, 14, 1, 1, 1),\n",
       "  'coords': ((1.137328028678894, -0.21724112331867218, -0.06502946466207504),\n",
       "   (-0.36193403601646423, 0.13385573029518127, 0.1266731470823288),\n",
       "   (-1.2777485847473145, -0.738975465297699, 0.6415482759475708),\n",
       "   (-1.8167273998260498, -1.20418119430542, -0.20070095360279083),\n",
       "   (-1.9931057691574097, 1.0558290481567383, -0.7061572670936584),\n",
       "   (-1.061540126800537, 0.9158233404159546, -0.5742824077606201),\n",
       "   (1.5789681673049927, 0.7405375242233276, -0.12110333889722824),\n",
       "   (1.3693119287490845, -0.7896703481674194, -0.8954232931137085),\n",
       "   (1.3829143047332764, -0.786466121673584, 0.7622897028923035))}]"
      ]
     },
     "execution_count": 49,
     "metadata": {},
     "output_type": "execute_result"
    }
   ],
   "source": [
    "coords_list = list()\n",
    "for i, data in enumerate(loader):\n",
    "    print(data)\n",
    "    data = data.to(device)\n",
    "    print(data)\n",
    "    out, mask = model(data)  # out is distance matrix. mask is matrix of 1s with 0s along diagonal\n",
    "    print(data)\n",
    "    # extract xyz coordinates\n",
    "    # shape of data.coords is (batch_size, n_atoms, 3). Each batch entry holds 1 TS guess\n",
    "    for batch in data.coords:\n",
    "        coords = batch.double().cpu().detach().numpy().tolist()\n",
    "        ts_guess_coords = tuple()\n",
    "        for atom in coords:  # range(coords.shape[0]):\n",
    "            # unpack values and convert to immutable tuple\n",
    "            x, y, z = atom\n",
    "            coord = (x, y, z)\n",
    "            ts_guess_coords += (coord,)\n",
    "        ts_xyz_dict_list[i]['coords'] = ts_guess_coords\n",
    "ts_xyz_dict_list"
   ]
  },
  {
   "cell_type": "code",
   "execution_count": 48,
   "metadata": {},
   "outputs": [
    {
     "data": {
      "text/plain": [
       "tensor([[[0., 1., 1., 1., 1., 1., 1., 1., 1.],\n",
       "         [1., 0., 1., 1., 1., 1., 1., 1., 1.],\n",
       "         [1., 1., 0., 1., 1., 1., 1., 1., 1.],\n",
       "         [1., 1., 1., 0., 1., 1., 1., 1., 1.],\n",
       "         [1., 1., 1., 1., 0., 1., 1., 1., 1.],\n",
       "         [1., 1., 1., 1., 1., 0., 1., 1., 1.],\n",
       "         [1., 1., 1., 1., 1., 1., 0., 1., 1.],\n",
       "         [1., 1., 1., 1., 1., 1., 1., 0., 1.],\n",
       "         [1., 1., 1., 1., 1., 1., 1., 1., 0.]]])"
      ]
     },
     "execution_count": 48,
     "metadata": {},
     "output_type": "execute_result"
    }
   ],
   "source": [
    "mask"
   ]
  },
  {
   "cell_type": "code",
   "execution_count": 45,
   "metadata": {},
   "outputs": [
    {
     "data": {
      "text/plain": [
       "{'symbols': ('C', 'C', 'N', 'O', 'N', 'N', 'H', 'H', 'H'),\n",
       " 'isotopes': (12, 12, 14, 16, 14, 14, 1, 1, 1),\n",
       " 'coords': ((-1.3087, 0.0068, 0.0318),\n",
       "  (0.1715, -0.0344, 0.021),\n",
       "  (0.9054, -0.9001, 0.6395),\n",
       "  (2.1683, -0.5483, 0.3437),\n",
       "  (2.1499, 0.5449, -0.4631),\n",
       "  (0.9613, 0.8655, -0.666),\n",
       "  (-1.6558, 0.9505, 0.453),\n",
       "  (-1.6934, -0.068, -0.9854),\n",
       "  (-1.6986, -0.8169, 0.6255))}"
      ]
     },
     "execution_count": 45,
     "metadata": {},
     "output_type": "execute_result"
    }
   ],
   "source": [
    "r1.get_xyz()"
   ]
  },
  {
   "cell_type": "code",
   "execution_count": 46,
   "metadata": {},
   "outputs": [
    {
     "data": {
      "text/plain": [
       "{'symbols': ('C', 'C', 'N', 'O', 'N', 'N', 'H', 'H', 'H'),\n",
       " 'isotopes': (12, 12, 14, 16, 14, 14, 1, 1, 1),\n",
       " 'coords': ((-1.0108, -0.0114, -0.061),\n",
       "  (0.478, 0.0191, 0.0139),\n",
       "  (1.2974, -0.993, 0.4693),\n",
       "  (0.6928, -1.9845, 0.8337),\n",
       "  (1.7456, 1.9701, -0.6976),\n",
       "  (1.1642, 1.0763, -0.3716),\n",
       "  (-1.402, 0.9134, -0.4821),\n",
       "  (-1.3327, -0.8499, -0.6803),\n",
       "  (-1.4329, -0.1554, 0.9349))}"
      ]
     },
     "execution_count": 46,
     "metadata": {},
     "output_type": "execute_result"
    }
   ],
   "source": [
    "p1.get_xyz()"
   ]
  },
  {
   "cell_type": "code",
   "execution_count": null,
   "metadata": {},
   "outputs": [],
   "source": []
  }
 ],
 "metadata": {
  "kernelspec": {
   "display_name": "Python 3",
   "language": "python",
   "name": "python3"
  },
  "language_info": {
   "codemirror_mode": {
    "name": "ipython",
    "version": 3
   },
   "file_extension": ".py",
   "mimetype": "text/x-python",
   "name": "python",
   "nbconvert_exporter": "python",
   "pygments_lexer": "ipython3",
   "version": "3.7.7"
  }
 },
 "nbformat": 4,
 "nbformat_minor": 4
}
