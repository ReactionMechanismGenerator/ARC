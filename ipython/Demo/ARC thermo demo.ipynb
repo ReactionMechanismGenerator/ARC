{
 "cells": [
  {
   "cell_type": "markdown",
   "metadata": {},
   "source": [
    "# ARC thermo demo"
   ]
  },
  {
   "cell_type": "markdown",
   "metadata": {},
   "source": [
    "Here we calculate thermodynamic data for several species.\n",
    "\n",
    "This demo shows different methods to define an ARCSpecies object: (1) from an RMG `Species` object, (2) using xyz (we also give SMILES for the 2D graph bond orders used for BAC), (3) from SMILES, (4) from an RMG `Molecule` object, (5) from an RMG adjacency list."
   ]
  },
  {
   "cell_type": "markdown",
   "metadata": {},
   "source": [
    "### imports"
   ]
  },
  {
   "cell_type": "code",
   "execution_count": 1,
   "metadata": {},
   "outputs": [
    {
     "name": "stderr",
     "output_type": "stream",
     "text": [
      "/home/kfir4444/psi4conda/envs/arc_env/lib/python3.7/site-packages/paramiko/transport.py:219: CryptographyDeprecationWarning: Blowfish has been deprecated\n",
      "  \"class\": algorithms.Blowfish,\n"
     ]
    }
   ],
   "source": [
    "from rmgpy.molecule.molecule import *\n",
    "from rmgpy.species import Species\n",
    "from arc.species import ARCSpecies\n",
    "from IPython.display import display\n",
    "import arc\n",
    "import matplotlib.pyplot as plt\n",
    "%matplotlib notebook\n",
    "%matplotlib inline"
   ]
  },
  {
   "cell_type": "markdown",
   "metadata": {},
   "source": [
    "### Below are different methods to define species in ARC"
   ]
  },
  {
   "cell_type": "code",
   "execution_count": 2,
   "metadata": {},
   "outputs": [],
   "source": [
    "# Method 1: RMG `Species` object (here by SMILES)\n",
    "spc1 = Species(smiles='C=C[O]')\n",
    "spc1.label = 'vinoxy'\n",
    "\n",
    "# Method 2: ARCSpecies object by XYZ\n",
    "oh_xyz = \"\"\"O       0.00000000    0.00000000   -0.12002167\n",
    "H       0.00000000    0.00000000    0.85098324\"\"\"\n",
    "spc2 = ARCSpecies(label='OH', xyz=oh_xyz)\n",
    "\n",
    "# Method 3: ARCSpecies object by SMILES\n",
    "spc3 = ARCSpecies(label='methylamine', smiles='CN')\n",
    "\n",
    "# Method 4: ARCSpecies object by RMG Molecule object\n",
    "mol4 = Molecule().from_smiles(\"C=CC\")\n",
    "spc4 = ARCSpecies(label='propene', mol=mol4)\n",
    "\n",
    "# Method 5: ARCSpecies by AdjacencyList (to generate AdjLists, see https://rmg.mit.edu/molecule_search)\n",
    "hydrazine_adj = \"\"\"1 N u0 p1 c0 {2,S} {3,S} {4,S}\n",
    "2 N u0 p1 c0 {1,S} {5,S} {6,S}\n",
    "3 H u0 p0 c0 {1,S}\n",
    "4 H u0 p0 c0 {1,S}\n",
    "5 H u0 p0 c0 {2,S}\n",
    "6 H u0 p0 c0 {2,S}\"\"\"\n",
    "spc5 = ARCSpecies(label='hydrazine', adjlist=hydrazine_adj)\n",
    "\n",
    "# Last, collect all RMG Species objects and ARCSpecies objects in a list:\n",
    "species = [spc1, spc2, spc3, spc4, spc5]"
   ]
  },
  {
   "cell_type": "markdown",
   "metadata": {},
   "source": [
    "### Run ARC:"
   ]
  },
  {
   "cell_type": "code",
   "execution_count": 4,
   "metadata": {
    "scrolled": false
   },
   "outputs": [
    {
     "name": "stdout",
     "output_type": "stream",
     "text": [
      "\n",
      "Considering the following job types: ['conformers', 'opt', 'freq', 'sp', 'rotors', 'fine']\n",
      "\n",
      "ARC execution initiated on Wed Aug 31 14:14:10 2022\n",
      "\n",
      "###############################################################\n",
      "#                                                             #\n",
      "#                 Automatic Rate Calculator                   #\n",
      "#                            ARC                              #\n",
      "#                                                             #\n",
      "#   Version: 1.1.0                                            #\n",
      "#                                                             #\n",
      "###############################################################\n",
      "\n",
      "The current git HEAD for ARC is:\n",
      "    abacd939be49f1be30bc4fd43c5b36a7ef318c11\n",
      "    Mon Aug 29 20:35:51 2022 +0300\n",
      "    (running on the psi4_dev_new branch)\n",
      "\n",
      "The current git HEAD for RMG-Py is:\n",
      "    680268ed2d5cf1efbc2a262c90244e381fe70408\n",
      "    Wed Jun 8 16:41:45 2022 -0400\n",
      "\n",
      "\n",
      "The current git HEAD for RMG-database is:\n",
      "    432c6759bc94dc4c9fe0b83dcd259a14b288da3e\n",
      "    Fri Aug 5 12:48:22 2022 -0400\n",
      "\n",
      "\n",
      "Starting project ArcThermoDemo\n",
      "\n",
      "\n",
      "\n",
      "Using the following ESS settings:\n",
      "{'psi4': ['local']}\n",
      "\n",
      "\n",
      "\n",
      "Using the following levels of theory:\n",
      "\n",
      "Conformers: (default) wb97xd/def2svp, software: gaussian (dft)\n",
      "Geometry optimization: (default) wb97xd/def2tzvp, software: gaussian (dft)\n",
      "Frequencies: (user-defined opt) wb97xd/def2tzvp, software: gaussian (dft)\n",
      "Energy: (default) ccsd(t)-f12/cc-pvtz-f12, software: molpro (wavefunction)\n",
      "Rotor scans: (user-defined opt) wb97xd/def2tzvp, software: gaussian (dft)\n",
      "Warning: Not running IRC computations, since it was not requested by the user.\n",
      "\n",
      "\n",
      "Considering species: OH\n"
     ]
    },
    {
     "data": {
      "image/png": "[encoded data removed]",
      "text/plain": [
       "Molecule(smiles=\"[OH]\")"
      ]
     },
     "metadata": {},
     "output_type": "display_data"
    },
    {
     "name": "stdout",
     "output_type": "stream",
     "text": [
      "Considering species: methylamine\n"
     ]
    },
    {
     "data": {
      "image/png": "[encoded data removed]",
      "text/plain": [
       "Molecule(smiles=\"CN\")"
      ]
     },
     "metadata": {},
     "output_type": "display_data"
    },
    {
     "name": "stdout",
     "output_type": "stream",
     "text": [
      "Considering species: propene\n"
     ]
    },
    {
     "data": {
      "image/png": "[encoded data removed]",
      "text/plain": [
       "Molecule(smiles=\"C=CC\")"
      ]
     },
     "metadata": {},
     "output_type": "display_data"
    },
    {
     "name": "stdout",
     "output_type": "stream",
     "text": [
      "Considering species: hydrazine\n"
     ]
    },
    {
     "data": {
      "image/png": "[encoded data removed]",
      "text/plain": [
       "Molecule(smiles=\"NN\")"
      ]
     },
     "metadata": {},
     "output_type": "display_data"
    },
    {
     "name": "stdout",
     "output_type": "stream",
     "text": [
      "Considering species: vinoxy\n"
     ]
    },
    {
     "data": {
      "image/png": "[encoded data removed]",
      "text/plain": [
       "Molecule(smiles=\"C=C[O]\")"
      ]
     },
     "metadata": {},
     "output_type": "display_data"
    },
    {
     "name": "stdout",
     "output_type": "stream",
     "text": [
      "\n",
      "\n",
      "\n",
      "Starting (non-TS) species conformational analysis...\n",
      "\n"
     ]
    },
    {
     "ename": "KeyError",
     "evalue": "None",
     "output_type": "error",
     "traceback": [
      "\u001b[0;31m---------------------------------------------------------------------------\u001b[0m",
      "\u001b[0;31mKeyError\u001b[0m                                  Traceback (most recent call last)",
      "\u001b[0;32m/tmp/ipykernel_21601/3187178041.py\u001b[0m in \u001b[0;36m<module>\u001b[0;34m\u001b[0m\n\u001b[1;32m     30\u001b[0m               )\n\u001b[1;32m     31\u001b[0m \u001b[0;34m\u001b[0m\u001b[0m\n\u001b[0;32m---> 32\u001b[0;31m \u001b[0marc0\u001b[0m\u001b[0;34m.\u001b[0m\u001b[0mexecute\u001b[0m\u001b[0;34m(\u001b[0m\u001b[0;34m)\u001b[0m\u001b[0;34m\u001b[0m\u001b[0;34m\u001b[0m\u001b[0m\n\u001b[0m",
      "\u001b[0;32m~/code/ARC/arc/main.py\u001b[0m in \u001b[0;36mexecute\u001b[0;34m(self)\u001b[0m\n\u001b[1;32m    581\u001b[0m                                    \u001b[0mdont_gen_confs\u001b[0m\u001b[0;34m=\u001b[0m\u001b[0mself\u001b[0m\u001b[0;34m.\u001b[0m\u001b[0mdont_gen_confs\u001b[0m\u001b[0;34m,\u001b[0m\u001b[0;34m\u001b[0m\u001b[0;34m\u001b[0m\u001b[0m\n\u001b[1;32m    582\u001b[0m                                    \u001b[0mtrsh_ess_jobs\u001b[0m\u001b[0;34m=\u001b[0m\u001b[0mself\u001b[0m\u001b[0;34m.\u001b[0m\u001b[0mtrsh_ess_jobs\u001b[0m\u001b[0;34m,\u001b[0m\u001b[0;34m\u001b[0m\u001b[0;34m\u001b[0m\u001b[0m\n\u001b[0;32m--> 583\u001b[0;31m                                    \u001b[0mfine_only\u001b[0m\u001b[0;34m=\u001b[0m\u001b[0mself\u001b[0m\u001b[0;34m.\u001b[0m\u001b[0mfine_only\u001b[0m\u001b[0;34m,\u001b[0m\u001b[0;34m\u001b[0m\u001b[0;34m\u001b[0m\u001b[0m\n\u001b[0m\u001b[1;32m    584\u001b[0m                                    )\n\u001b[1;32m    585\u001b[0m \u001b[0;34m\u001b[0m\u001b[0m\n",
      "\u001b[0;32m~/code/ARC/arc/scheduler.py\u001b[0m in \u001b[0;36m__init__\u001b[0;34m(self, project, ess_settings, species_list, project_directory, composite_method, conformer_level, opt_level, freq_level, sp_level, scan_level, ts_guess_level, irc_level, orbitals_level, adaptive_levels, rmg_database, job_types, rxn_list, bath_gas, restart_dict, max_job_time, allow_nonisomorphic_2d, memory, testing, dont_gen_confs, n_confs, e_confs, fine_only, trsh_ess_jobs, kinetics_adapter, freq_scale_factor)\u001b[0m\n\u001b[1;32m    479\u001b[0m         \u001b[0mself\u001b[0m\u001b[0;34m.\u001b[0m\u001b[0mtimer\u001b[0m \u001b[0;34m=\u001b[0m \u001b[0;32mTrue\u001b[0m\u001b[0;34m\u001b[0m\u001b[0;34m\u001b[0m\u001b[0m\n\u001b[1;32m    480\u001b[0m         \u001b[0;32mif\u001b[0m \u001b[0;32mnot\u001b[0m \u001b[0mself\u001b[0m\u001b[0;34m.\u001b[0m\u001b[0mtesting\u001b[0m\u001b[0;34m:\u001b[0m\u001b[0;34m\u001b[0m\u001b[0;34m\u001b[0m\u001b[0m\n\u001b[0;32m--> 481\u001b[0;31m             \u001b[0mself\u001b[0m\u001b[0;34m.\u001b[0m\u001b[0mschedule_jobs\u001b[0m\u001b[0;34m(\u001b[0m\u001b[0;34m)\u001b[0m\u001b[0;34m\u001b[0m\u001b[0;34m\u001b[0m\u001b[0m\n\u001b[0m\u001b[1;32m    482\u001b[0m \u001b[0;34m\u001b[0m\u001b[0m\n\u001b[1;32m    483\u001b[0m     \u001b[0;32mdef\u001b[0m \u001b[0mschedule_jobs\u001b[0m\u001b[0;34m(\u001b[0m\u001b[0mself\u001b[0m\u001b[0;34m)\u001b[0m\u001b[0;34m:\u001b[0m\u001b[0;34m\u001b[0m\u001b[0;34m\u001b[0m\u001b[0m\n",
      "\u001b[0;32m~/code/ARC/arc/scheduler.py\u001b[0m in \u001b[0;36mschedule_jobs\u001b[0;34m(self)\u001b[0m\n\u001b[1;32m    495\u001b[0m                     \u001b[0;32melse\u001b[0m\u001b[0;34m:\u001b[0m\u001b[0;34m\u001b[0m\u001b[0;34m\u001b[0m\u001b[0m\n\u001b[1;32m    496\u001b[0m                         \u001b[0mself\u001b[0m\u001b[0;34m.\u001b[0m\u001b[0mrun_opt_job\u001b[0m\u001b[0;34m(\u001b[0m\u001b[0mspecies\u001b[0m\u001b[0;34m.\u001b[0m\u001b[0mlabel\u001b[0m\u001b[0;34m,\u001b[0m \u001b[0mfine\u001b[0m\u001b[0;34m=\u001b[0m\u001b[0mself\u001b[0m\u001b[0;34m.\u001b[0m\u001b[0mfine_only\u001b[0m\u001b[0;34m)\u001b[0m\u001b[0;34m\u001b[0m\u001b[0;34m\u001b[0m\u001b[0m\n\u001b[0;32m--> 497\u001b[0;31m         \u001b[0mself\u001b[0m\u001b[0;34m.\u001b[0m\u001b[0mrun_conformer_jobs\u001b[0m\u001b[0;34m(\u001b[0m\u001b[0;34m)\u001b[0m\u001b[0;34m\u001b[0m\u001b[0;34m\u001b[0m\u001b[0m\n\u001b[0m\u001b[1;32m    498\u001b[0m         \u001b[0mself\u001b[0m\u001b[0;34m.\u001b[0m\u001b[0mspawn_ts_jobs\u001b[0m\u001b[0;34m(\u001b[0m\u001b[0;34m)\u001b[0m  \u001b[0;31m# If all reactants/products are already known (Arkane yml or restart), spawn TS searches.\u001b[0m\u001b[0;34m\u001b[0m\u001b[0;34m\u001b[0m\u001b[0m\n\u001b[1;32m    499\u001b[0m         \u001b[0;32mwhile\u001b[0m \u001b[0mself\u001b[0m\u001b[0;34m.\u001b[0m\u001b[0mrunning_jobs\u001b[0m \u001b[0;34m!=\u001b[0m \u001b[0;34m{\u001b[0m\u001b[0;34m}\u001b[0m\u001b[0;34m:\u001b[0m\u001b[0;34m\u001b[0m\u001b[0;34m\u001b[0m\u001b[0m\n",
      "\u001b[0;32m~/code/ARC/arc/scheduler.py\u001b[0m in \u001b[0;36mrun_conformer_jobs\u001b[0;34m(self, labels)\u001b[0m\n\u001b[1;32m   1007\u001b[0m                         plot_path=os.path.join(self.project_directory, 'output', 'Species',\n\u001b[1;32m   1008\u001b[0m                                                label, 'geometry', 'conformers'))\n\u001b[0;32m-> 1009\u001b[0;31m                 \u001b[0mself\u001b[0m\u001b[0;34m.\u001b[0m\u001b[0mprocess_conformers\u001b[0m\u001b[0;34m(\u001b[0m\u001b[0mlabel\u001b[0m\u001b[0;34m)\u001b[0m\u001b[0;34m\u001b[0m\u001b[0;34m\u001b[0m\u001b[0m\n\u001b[0m\u001b[1;32m   1010\u001b[0m             \u001b[0;31m# TSs:\u001b[0m\u001b[0;34m\u001b[0m\u001b[0;34m\u001b[0m\u001b[0;34m\u001b[0m\u001b[0m\n\u001b[1;32m   1011\u001b[0m             \u001b[0;32melif\u001b[0m \u001b[0mself\u001b[0m\u001b[0;34m.\u001b[0m\u001b[0mspecies_dict\u001b[0m\u001b[0;34m[\u001b[0m\u001b[0mlabel\u001b[0m\u001b[0;34m]\u001b[0m\u001b[0;34m.\u001b[0m\u001b[0mis_ts\u001b[0m\u001b[0;31m \u001b[0m\u001b[0;31m\\\u001b[0m\u001b[0;34m\u001b[0m\u001b[0;34m\u001b[0m\u001b[0m\n",
      "\u001b[0;32m~/code/ARC/arc/scheduler.py\u001b[0m in \u001b[0;36mprocess_conformers\u001b[0;34m(self, label)\u001b[0m\n\u001b[1;32m   1723\u001b[0m                                  \u001b[0mlevel_of_theory\u001b[0m\u001b[0;34m=\u001b[0m\u001b[0mself\u001b[0m\u001b[0;34m.\u001b[0m\u001b[0mconformer_level\u001b[0m\u001b[0;34m,\u001b[0m\u001b[0;34m\u001b[0m\u001b[0;34m\u001b[0m\u001b[0m\n\u001b[1;32m   1724\u001b[0m                                  \u001b[0mjob_type\u001b[0m\u001b[0;34m=\u001b[0m\u001b[0;34m'conformers'\u001b[0m\u001b[0;34m,\u001b[0m\u001b[0;34m\u001b[0m\u001b[0;34m\u001b[0m\u001b[0m\n\u001b[0;32m-> 1725\u001b[0;31m                                  \u001b[0mconformer\u001b[0m\u001b[0;34m=\u001b[0m\u001b[0mi\u001b[0m\u001b[0;34m,\u001b[0m\u001b[0;34m\u001b[0m\u001b[0;34m\u001b[0m\u001b[0m\n\u001b[0m\u001b[1;32m   1726\u001b[0m                                  )\n\u001b[1;32m   1727\u001b[0m             \u001b[0;32melif\u001b[0m \u001b[0mlen\u001b[0m\u001b[0;34m(\u001b[0m\u001b[0mself\u001b[0m\u001b[0;34m.\u001b[0m\u001b[0mspecies_dict\u001b[0m\u001b[0;34m[\u001b[0m\u001b[0mlabel\u001b[0m\u001b[0;34m]\u001b[0m\u001b[0;34m.\u001b[0m\u001b[0mconformers\u001b[0m\u001b[0;34m)\u001b[0m \u001b[0;34m==\u001b[0m \u001b[0;36m1\u001b[0m\u001b[0;34m:\u001b[0m\u001b[0;34m\u001b[0m\u001b[0;34m\u001b[0m\u001b[0m\n",
      "\u001b[0;32m~/code/ARC/arc/scheduler.py\u001b[0m in \u001b[0;36mrun_job\u001b[0;34m(self, job_type, conformer, cpu_cores, dihedral_increment, dihedrals, directed_scan_type, ess_trsh_methods, fine, irc_direction, job_adapter, label, level_of_theory, memory, max_job_time, rotor_index, reactions, scan_trsh, shift, trsh, torsions, times_rerun, tsg, xyz)\u001b[0m\n\u001b[1;32m    794\u001b[0m                           \u001b[0mtorsions\u001b[0m\u001b[0;34m=\u001b[0m\u001b[0mtorsions\u001b[0m\u001b[0;34m,\u001b[0m\u001b[0;34m\u001b[0m\u001b[0;34m\u001b[0m\u001b[0m\n\u001b[1;32m    795\u001b[0m                           \u001b[0mtsg\u001b[0m\u001b[0;34m=\u001b[0m\u001b[0mtsg\u001b[0m\u001b[0;34m,\u001b[0m\u001b[0;34m\u001b[0m\u001b[0;34m\u001b[0m\u001b[0m\n\u001b[0;32m--> 796\u001b[0;31m                           \u001b[0mxyz\u001b[0m\u001b[0;34m=\u001b[0m\u001b[0mxyz\u001b[0m\u001b[0;34m,\u001b[0m\u001b[0;34m\u001b[0m\u001b[0;34m\u001b[0m\u001b[0m\n\u001b[0m\u001b[1;32m    797\u001b[0m                           )\n\u001b[1;32m    798\u001b[0m         \u001b[0mlabel\u001b[0m \u001b[0;34m=\u001b[0m \u001b[0mlabel\u001b[0m \u001b[0;32mor\u001b[0m \u001b[0mreactions\u001b[0m\u001b[0;34m[\u001b[0m\u001b[0;36m0\u001b[0m\u001b[0;34m]\u001b[0m\u001b[0;34m.\u001b[0m\u001b[0mts_species\u001b[0m\u001b[0;34m.\u001b[0m\u001b[0mlabel\u001b[0m\u001b[0;34m\u001b[0m\u001b[0;34m\u001b[0m\u001b[0m\n",
      "\u001b[0;32m~/code/ARC/arc/job/factory.py\u001b[0m in \u001b[0;36mjob_factory\u001b[0;34m(job_adapter, project, project_directory, job_type, args, bath_gas, checkfile, conformer, constraints, cpu_cores, dihedral_increment, dihedrals, directed_scan_type, ess_settings, ess_trsh_methods, execution_type, fine, initial_time, irc_direction, job_id, job_memory_gb, job_name, job_num, job_server_name, job_status, level, max_job_time, reactions, rotor_index, server, server_nodes, species, testing, times_rerun, torsions, tsg, xyz)\u001b[0m\n\u001b[1;32m    207\u001b[0m                                                               \u001b[0mtorsions\u001b[0m\u001b[0;34m=\u001b[0m\u001b[0mtorsions\u001b[0m\u001b[0;34m,\u001b[0m\u001b[0;34m\u001b[0m\u001b[0;34m\u001b[0m\u001b[0m\n\u001b[1;32m    208\u001b[0m                                                               \u001b[0mtsg\u001b[0m\u001b[0;34m=\u001b[0m\u001b[0mtsg\u001b[0m\u001b[0;34m,\u001b[0m\u001b[0;34m\u001b[0m\u001b[0;34m\u001b[0m\u001b[0m\n\u001b[0;32m--> 209\u001b[0;31m                                                               \u001b[0mxyz\u001b[0m\u001b[0;34m=\u001b[0m\u001b[0mxyz\u001b[0m\u001b[0;34m,\u001b[0m\u001b[0;34m\u001b[0m\u001b[0;34m\u001b[0m\u001b[0m\n\u001b[0m\u001b[1;32m    210\u001b[0m                                                               )\n\u001b[1;32m    211\u001b[0m     \u001b[0;32mreturn\u001b[0m \u001b[0mjob_adapter_class\u001b[0m\u001b[0;34m\u001b[0m\u001b[0;34m\u001b[0m\u001b[0m\n",
      "\u001b[0;32m~/code/ARC/arc/job/adapters/gaussian.py\u001b[0m in \u001b[0;36m__init__\u001b[0;34m(self, project, project_directory, job_type, args, bath_gas, checkfile, conformer, constraints, cpu_cores, dihedral_increment, dihedrals, directed_scan_type, ess_settings, ess_trsh_methods, execution_type, fine, initial_time, irc_direction, job_id, job_memory_gb, job_name, job_num, job_server_name, job_status, level, max_job_time, reactions, rotor_index, server, server_nodes, species, testing, times_rerun, torsions, tsg, xyz)\u001b[0m\n\u001b[1;32m    192\u001b[0m                             \u001b[0mtorsions\u001b[0m\u001b[0;34m=\u001b[0m\u001b[0mtorsions\u001b[0m\u001b[0;34m,\u001b[0m\u001b[0;34m\u001b[0m\u001b[0;34m\u001b[0m\u001b[0m\n\u001b[1;32m    193\u001b[0m                             \u001b[0mtsg\u001b[0m\u001b[0;34m=\u001b[0m\u001b[0mtsg\u001b[0m\u001b[0;34m,\u001b[0m\u001b[0;34m\u001b[0m\u001b[0;34m\u001b[0m\u001b[0m\n\u001b[0;32m--> 194\u001b[0;31m                             \u001b[0mxyz\u001b[0m\u001b[0;34m=\u001b[0m\u001b[0mxyz\u001b[0m\u001b[0;34m,\u001b[0m\u001b[0;34m\u001b[0m\u001b[0;34m\u001b[0m\u001b[0m\n\u001b[0m\u001b[1;32m    195\u001b[0m                             )\n\u001b[1;32m    196\u001b[0m \u001b[0;34m\u001b[0m\u001b[0m\n",
      "\u001b[0;32m~/code/ARC/arc/job/adapters/common.py\u001b[0m in \u001b[0;36m_initialize_adapter\u001b[0;34m(obj, is_ts, project, project_directory, job_type, args, bath_gas, checkfile, conformer, constraints, cpu_cores, dihedral_increment, dihedrals, directed_scan_type, ess_settings, ess_trsh_methods, fine, initial_time, irc_direction, job_id, job_memory_gb, job_name, job_num, job_server_name, job_status, level, max_job_time, reactions, rotor_index, server, server_nodes, species, testing, times_rerun, torsions, tsg, xyz)\u001b[0m\n\u001b[1;32m    224\u001b[0m         \u001b[0;32mif\u001b[0m \u001b[0mobj\u001b[0m\u001b[0;34m.\u001b[0m\u001b[0margs\u001b[0m \u001b[0;32mand\u001b[0m \u001b[0;34m'trsh'\u001b[0m \u001b[0;32min\u001b[0m \u001b[0mobj\u001b[0m\u001b[0;34m.\u001b[0m\u001b[0margs\u001b[0m\u001b[0;34m.\u001b[0m\u001b[0mkeys\u001b[0m\u001b[0;34m(\u001b[0m\u001b[0;34m)\u001b[0m \u001b[0;32mand\u001b[0m \u001b[0;34m'scan_res'\u001b[0m \u001b[0;32min\u001b[0m \u001b[0mobj\u001b[0m\u001b[0;34m.\u001b[0m\u001b[0margs\u001b[0m\u001b[0;34m[\u001b[0m\u001b[0;34m'trsh'\u001b[0m\u001b[0;34m]\u001b[0m\u001b[0;34m.\u001b[0m\u001b[0mkeys\u001b[0m\u001b[0;34m(\u001b[0m\u001b[0;34m)\u001b[0m \u001b[0;32melse\u001b[0m \u001b[0mrotor_scan_resolution\u001b[0m\u001b[0;34m\u001b[0m\u001b[0;34m\u001b[0m\u001b[0m\n\u001b[1;32m    225\u001b[0m \u001b[0;34m\u001b[0m\u001b[0m\n\u001b[0;32m--> 226\u001b[0;31m     \u001b[0mobj\u001b[0m\u001b[0;34m.\u001b[0m\u001b[0mset_files\u001b[0m\u001b[0;34m(\u001b[0m\u001b[0;34m)\u001b[0m\u001b[0;34m\u001b[0m\u001b[0;34m\u001b[0m\u001b[0m\n\u001b[0m\u001b[1;32m    227\u001b[0m     \u001b[0mcheck_argument_consistency\u001b[0m\u001b[0;34m(\u001b[0m\u001b[0mobj\u001b[0m\u001b[0;34m)\u001b[0m\u001b[0;34m\u001b[0m\u001b[0;34m\u001b[0m\u001b[0m\n\u001b[1;32m    228\u001b[0m \u001b[0;34m\u001b[0m\u001b[0m\n",
      "\u001b[0;32m~/code/ARC/arc/job/adapters/gaussian.py\u001b[0m in \u001b[0;36mset_files\u001b[0;34m(self)\u001b[0m\n\u001b[1;32m    345\u001b[0m             \u001b[0mself\u001b[0m\u001b[0;34m.\u001b[0m\u001b[0mwrite_submit_script\u001b[0m\u001b[0;34m(\u001b[0m\u001b[0;34m)\u001b[0m\u001b[0;34m\u001b[0m\u001b[0;34m\u001b[0m\u001b[0m\n\u001b[1;32m    346\u001b[0m             self.files_to_upload.append(self.get_file_property_dictionary(\n\u001b[0;32m--> 347\u001b[0;31m                 file_name=submit_filenames[servers[self.server]['cluster_soft']]))\n\u001b[0m\u001b[1;32m    348\u001b[0m         \u001b[0;31m# 1.2. input file\u001b[0m\u001b[0;34m\u001b[0m\u001b[0;34m\u001b[0m\u001b[0;34m\u001b[0m\u001b[0m\n\u001b[1;32m    349\u001b[0m         \u001b[0;32mif\u001b[0m \u001b[0;32mnot\u001b[0m \u001b[0mself\u001b[0m\u001b[0;34m.\u001b[0m\u001b[0miterate_by\u001b[0m\u001b[0;34m:\u001b[0m\u001b[0;34m\u001b[0m\u001b[0;34m\u001b[0m\u001b[0m\n",
      "\u001b[0;31mKeyError\u001b[0m: None"
     ]
    }
   ],
   "source": [
    "ess_settings = {'psi4': 'local'}\n",
    "\n",
    "job_types = {'conformers': True, 'opt': True, 'fine_grid': True, 'freq': True, 'bde': False,\n",
    "             'sp': True, 'rotors': True, 'irc': False}\n",
    "\n",
    "\n",
    "sp_level: {'method': 'm06-hf',\n",
    "           'basis': 'cc-pVTZ-F12',\n",
    "           'software': 'psi4',\n",
    "           }\n",
    "    \n",
    "opt_level: {'method': 'm06-hf',\n",
    "           'basis': 'cc-pVTZ-F12',\n",
    "           'software': 'psi4',\n",
    "           }\n",
    "\n",
    "freq_level: {'method': 'm06-hf',\n",
    "       'basis': 'cc-pVTZ-F12',\n",
    "       'software': 'psi4',\n",
    "       }\n",
    "\n",
    "\n",
    "arc0 = arc.ARC(project='ArcThermoDemo',\n",
    "               species=species,\n",
    "               ess_settings=ess_settings,\n",
    "               job_types=job_types,\n",
    "               freq_scale_factor=1.0,\n",
    "               bac_type=None,\n",
    "               arkane_level_of_theory ='B3LYP/6-31G(d,p)',\n",
    "              )\n",
    "\n",
    "arc0.execute()"
   ]
  },
  {
   "cell_type": "code",
   "execution_count": null,
   "metadata": {},
   "outputs": [],
   "source": []
  }
 ],
 "metadata": {
  "kernelspec": {
   "display_name": "Python 3 (ipykernel)",
   "language": "python",
   "name": "python3"
  },
  "language_info": {
   "codemirror_mode": {
    "name": "ipython",
    "version": 3
   },
   "file_extension": ".py",
   "mimetype": "text/x-python",
   "name": "python",
   "nbconvert_exporter": "python",
   "pygments_lexer": "ipython3",
   "version": "3.7.13"
  },
  "pycharm": {
   "stem_cell": {
    "cell_type": "raw",
    "metadata": {
     "collapsed": false
    },
    "source": []
   }
  }
 },
 "nbformat": 4,
 "nbformat_minor": 2
}
