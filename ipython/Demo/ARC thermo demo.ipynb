{
 "cells": [
  {
   "cell_type": "markdown",
   "metadata": {},
   "source": [
    "# ARC thermo demo"
   ]
  },
  {
   "cell_type": "markdown",
   "metadata": {},
   "source": [
    "Here we calculate thermodynamic data for several species.\n",
    "\n",
    "This demo shows different methods to define an ARCSpecies object: (1) from an RMG `Species` object, (2) using xyz (we also give SMILES for the 2D graph bond orders used for BAC), (3) from SMILES, (4) from an RMG `Molecule` object, (5) from an RMG adjacency list."
   ]
  },
  {
   "cell_type": "markdown",
   "metadata": {},
   "source": [
    "### imports"
   ]
  },
  {
   "cell_type": "code",
   "execution_count": 1,
   "metadata": {},
   "outputs": [
    {
     "name": "stderr",
     "output_type": "stream",
     "text": [
      "/home/kfir4444/psi4conda/envs/arc_env/lib//python3.7/site-packages/paramiko/transport.py:219: CryptographyDeprecationWarning: Blowfish has been deprecated\n",
      "  \"class\": algorithms.Blowfish,\n"
     ]
    }
   ],
   "source": [
    "from rmgpy.molecule.molecule import *\n",
    "from rmgpy.species import Species\n",
    "from arc.species import ARCSpecies\n",
    "from IPython.display import display\n",
    "import arc\n",
    "import matplotlib.pyplot as plt\n",
    "%matplotlib notebook\n",
    "%matplotlib inline"
   ]
  },
  {
   "cell_type": "markdown",
   "metadata": {},
   "source": [
    "### Below are different methods to define species in ARC"
   ]
  },
  {
   "cell_type": "code",
   "execution_count": 2,
   "metadata": {},
   "outputs": [],
   "source": [
    "# Method 1: RMG `Species` object (here by SMILES)\n",
    "spc1 = Species(smiles='C=C[O]')\n",
    "spc1.label = 'vinoxy'\n",
    "\n",
    "# Method 2: ARCSpecies object by XYZ\n",
    "oh_xyz = \"\"\"O       0.00000000    0.00000000   -0.12002167\n",
    "H       0.00000000    0.00000000    0.85098324\"\"\"\n",
    "spc2 = ARCSpecies(label='OH', xyz=oh_xyz)\n",
    "\n",
    "# Method 3: ARCSpecies object by SMILES\n",
    "spc3 = ARCSpecies(label='methylamine', smiles='CN')\n",
    "\n",
    "# Method 4: ARCSpecies object by RMG Molecule object\n",
    "mol4 = Molecule().from_smiles(\"C=CC\")\n",
    "spc4 = ARCSpecies(label='propene', mol=mol4)\n",
    "\n",
    "# Method 5: ARCSpecies by AdjacencyList (to generate AdjLists, see https://rmg.mit.edu/molecule_search)\n",
    "hydrazine_adj = \"\"\"1 N u0 p1 c0 {2,S} {3,S} {4,S}\n",
    "2 N u0 p1 c0 {1,S} {5,S} {6,S}\n",
    "3 H u0 p0 c0 {1,S}\n",
    "4 H u0 p0 c0 {1,S}\n",
    "5 H u0 p0 c0 {2,S}\n",
    "6 H u0 p0 c0 {2,S}\"\"\"\n",
    "spc5 = ARCSpecies(label='hydrazine', adjlist=hydrazine_adj)\n",
    "\n",
    "# Last, collect all RMG Species objects and ARCSpecies objects in a list:\n",
    "species = [spc1, spc2, spc3, spc4, spc5]"
   ]
  },
  {
   "cell_type": "markdown",
   "metadata": {},
   "source": [
    "### Run ARC:"
   ]
  },
  {
   "cell_type": "code",
   "execution_count": 3,
   "metadata": {
    "scrolled": false
   },
   "outputs": [
    {
     "name": "stdout",
     "output_type": "stream",
     "text": [
      "ARC execution initiated on Sun Sep  4 11:55:41 2022\n",
      "\n",
      "###############################################################\n",
      "#                                                             #\n",
      "#                 Automatic Rate Calculator                   #\n",
      "#                            ARC                              #\n",
      "#                                                             #\n",
      "#   Version: 1.1.0                                            #\n",
      "#                                                             #\n",
      "###############################################################\n",
      "\n",
      "The current git HEAD for ARC is:\n",
      "    8d2cec004100f17aaa81bbd6157758039e9641c7\n",
      "    Thu Sep 1 12:10:33 2022 +0300\n",
      "    (running on the psi4_dev_new branch)\n",
      "\n",
      "The current git HEAD for RMG-Py is:\n",
      "    680268ed2d5cf1efbc2a262c90244e381fe70408\n",
      "    Wed Jun 8 16:41:45 2022 -0400\n",
      "\n",
      "\n",
      "The current git HEAD for RMG-database is:\n",
      "    432c6759bc94dc4c9fe0b83dcd259a14b288da3e\n",
      "    Fri Aug 5 12:48:22 2022 -0400\n",
      "\n",
      "\n",
      "Starting project ArcThermoDemo\n",
      "\n",
      "\n",
      "\n",
      "Using the following ESS settings:\n",
      "{'psi4': ['local']}\n",
      "\n",
      "\n",
      "\n",
      "Using the following levels of theory:\n",
      "\n",
      "Conformers: b3lyp/cc-pvtz, software: psi4 (dft)\n",
      "Geometry optimization: b3lyp/cc-pvtz, software: psi4 (dft)\n",
      "Frequencies: b3lyp/cc-pvtz, software: psi4 (dft)\n",
      "Energy: b3lyp/cc-pvtz, software: psi4 (dft)\n",
      "Warning: Not performing rotor scans, since it was not requested by the user. This might compromise finding the best conformer, as dihedral angles won't be corrected. Also, the calculated thermodynamic properties and rate coefficients will be less accurate.\n",
      "Warning: Not running IRC computations, since it was not requested by the user.\n",
      "\n",
      "\n",
      "Warning: Not using a fine DFT grid for geometry optimization jobs\n",
      "\n",
      "\n",
      "\n",
      "\n",
      "Considering species: OH\n"
     ]
    },
    {
     "data": {
      "image/png": "[encoded data removed]",
      "text/plain": [
       "Molecule(smiles=\"[OH]\")"
      ]
     },
     "metadata": {},
     "output_type": "display_data"
    },
    {
     "name": "stdout",
     "output_type": "stream",
     "text": [
      "Considering species: methylamine\n"
     ]
    },
    {
     "data": {
      "image/png": "[encoded data removed]",
      "text/plain": [
       "Molecule(smiles=\"CN\")"
      ]
     },
     "metadata": {},
     "output_type": "display_data"
    },
    {
     "name": "stdout",
     "output_type": "stream",
     "text": [
      "Considering species: propene\n"
     ]
    },
    {
     "data": {
      "image/png": "[encoded data removed]",
      "text/plain": [
       "Molecule(smiles=\"C=CC\")"
      ]
     },
     "metadata": {},
     "output_type": "display_data"
    },
    {
     "name": "stdout",
     "output_type": "stream",
     "text": [
      "Considering species: hydrazine\n"
     ]
    },
    {
     "data": {
      "image/png": "[encoded data removed]",
      "text/plain": [
       "Molecule(smiles=\"NN\")"
      ]
     },
     "metadata": {},
     "output_type": "display_data"
    },
    {
     "name": "stdout",
     "output_type": "stream",
     "text": [
      "Considering species: vinoxy\n"
     ]
    },
    {
     "data": {
      "image/png": "[encoded data removed]",
      "text/plain": [
       "Molecule(smiles=\"C=C[O]\")"
      ]
     },
     "metadata": {},
     "output_type": "display_data"
    },
    {
     "name": "stdout",
     "output_type": "stream",
     "text": [
      "\n",
      "\n",
      "\n",
      "Starting (non-TS) species conformational analysis...\n",
      "\n",
      "Running incore job conformer0 (a447) using psi4 for OH\n",
      "Running incore job conformer1 (a448) using psi4 for OH\n",
      "Generating conformers for methylamine\n",
      "Species methylamine has 2 heavy atoms and 1 torsions. Using 75 random conformers.\n"
     ]
    },
    {
     "data": {
      "image/png": "[encoded data removed]",
      "text/plain": [
       "<Figure size 960x240 with 1 Axes>"
      ]
     },
     "metadata": {
      "needs_background": "light"
     },
     "output_type": "display_data"
    },
    {
     "name": "stdout",
     "output_type": "stream",
     "text": [
      "\n",
      "Hypothetical number of conformer combinations for methylamine: 1\n",
      "Lowest force field conformer for methylamine:\n",
      "C      -0.57422867   -0.01669771    0.01229213\n",
      "N       0.82084044    0.08279104   -0.37769346\n",
      "H      -1.05737005   -0.84067772   -0.52007494\n",
      "H      -1.10211468    0.90879867   -0.23383011\n",
      "H      -0.66133128   -0.19490562    1.08785111\n",
      "H       0.88047852    0.26966160   -1.37780789\n",
      "H       1.27889520   -0.81548722   -0.22940984\n",
      "\n"
     ]
    },
    {
     "data": {
      "application/3dmoljs_load.v0": "<div id=\"3dmolviewer_16622817418882523\"  style=\"position: relative; width: 400px; height: 400px\">\n        <p id=\"3dmolwarning_16622817418882523\" style=\"background-color:#ffcccc;color:black\">You appear to be running in JupyterLab (or JavaScript failed to load for some other reason).  You need to install the 3dmol extension: <br>\n        <tt>jupyter labextension install jupyterlab_3dmol</tt></p>\n        </div>\n<script>\n\nvar loadScriptAsync = function(uri){\n  return new Promise((resolve, reject) => {\n    var tag = document.createElement('script');\n    tag.src = uri;\n    tag.async = true;\n    tag.onload = () => {\n      resolve();\n    };\n  var firstScriptTag = document.getElementsByTagName('script')[0];\n  firstScriptTag.parentNode.insertBefore(tag, firstScriptTag);\n});\n};\n\nif(typeof $3Dmolpromise === 'undefined') {\n$3Dmolpromise = null;\n  $3Dmolpromise = loadScriptAsync('https://3dmol.org/build/3Dmol.js');\n}\n\nvar viewer_16622817418882523 = null;\nvar warn = document.getElementById(\"3dmolwarning_16622817418882523\");\nif(warn) {\n    warn.parentNode.removeChild(warn);\n}\n$3Dmolpromise.then(function() {\nviewer_16622817418882523 = $3Dmol.createViewer($(\"#3dmolviewer_16622817418882523\"),{backgroundColor:\"white\"});\nviewer_16622817418882523.zoomTo();\n\tviewer_16622817418882523.addModel(\"\\n     RDKit          3D\\n\\n  7  6  0  0  0  0  0  0  0  0999 V2000\\n   -0.5742   -0.0167    0.0123 C   0  0  0  0  0  0  0  0  0  0  0  0\\n    0.8208    0.0828   -0.3777 N   0  0  0  0  0  0  0  0  0  0  0  0\\n   -1.0574   -0.8407   -0.5201 H   0  0  0  0  0  0  0  0  0  0  0  0\\n   -1.1021    0.9088   -0.2338 H   0  0  0  0  0  0  0  0  0  0  0  0\\n   -0.6613   -0.1949    1.0879 H   0  0  0  0  0  0  0  0  0  0  0  0\\n    0.8805    0.2697   -1.3778 H   0  0  0  0  0  0  0  0  0  0  0  0\\n    1.2789   -0.8155   -0.2294 H   0  0  0  0  0  0  0  0  0  0  0  0\\n  1  2  1  0\\n  1  3  1  0\\n  1  4  1  0\\n  1  5  1  0\\n  2  6  1  0\\n  2  7  1  0\\nM  END\\n\",\"sdf\");\n\tviewer_16622817418882523.setStyle({\"stick\": {}});\n\tviewer_16622817418882523.zoomTo();\nviewer_16622817418882523.render();\n});\n</script>",
      "text/html": [
       "<div id=\"3dmolviewer_16622817418882523\"  style=\"position: relative; width: 400px; height: 400px\">\n",
       "        <p id=\"3dmolwarning_16622817418882523\" style=\"background-color:#ffcccc;color:black\">You appear to be running in JupyterLab (or JavaScript failed to load for some other reason).  You need to install the 3dmol extension: <br>\n",
       "        <tt>jupyter labextension install jupyterlab_3dmol</tt></p>\n",
       "        </div>\n",
       "<script>\n",
       "\n",
       "var loadScriptAsync = function(uri){\n",
       "  return new Promise((resolve, reject) => {\n",
       "    var tag = document.createElement('script');\n",
       "    tag.src = uri;\n",
       "    tag.async = true;\n",
       "    tag.onload = () => {\n",
       "      resolve();\n",
       "    };\n",
       "  var firstScriptTag = document.getElementsByTagName('script')[0];\n",
       "  firstScriptTag.parentNode.insertBefore(tag, firstScriptTag);\n",
       "});\n",
       "};\n",
       "\n",
       "if(typeof $3Dmolpromise === 'undefined') {\n",
       "$3Dmolpromise = null;\n",
       "  $3Dmolpromise = loadScriptAsync('https://3dmol.org/build/3Dmol.js');\n",
       "}\n",
       "\n",
       "var viewer_16622817418882523 = null;\n",
       "var warn = document.getElementById(\"3dmolwarning_16622817418882523\");\n",
       "if(warn) {\n",
       "    warn.parentNode.removeChild(warn);\n",
       "}\n",
       "$3Dmolpromise.then(function() {\n",
       "viewer_16622817418882523 = $3Dmol.createViewer($(\"#3dmolviewer_16622817418882523\"),{backgroundColor:\"white\"});\n",
       "viewer_16622817418882523.zoomTo();\n",
       "\tviewer_16622817418882523.addModel(\"\\n     RDKit          3D\\n\\n  7  6  0  0  0  0  0  0  0  0999 V2000\\n   -0.5742   -0.0167    0.0123 C   0  0  0  0  0  0  0  0  0  0  0  0\\n    0.8208    0.0828   -0.3777 N   0  0  0  0  0  0  0  0  0  0  0  0\\n   -1.0574   -0.8407   -0.5201 H   0  0  0  0  0  0  0  0  0  0  0  0\\n   -1.1021    0.9088   -0.2338 H   0  0  0  0  0  0  0  0  0  0  0  0\\n   -0.6613   -0.1949    1.0879 H   0  0  0  0  0  0  0  0  0  0  0  0\\n    0.8805    0.2697   -1.3778 H   0  0  0  0  0  0  0  0  0  0  0  0\\n    1.2789   -0.8155   -0.2294 H   0  0  0  0  0  0  0  0  0  0  0  0\\n  1  2  1  0\\n  1  3  1  0\\n  1  4  1  0\\n  1  5  1  0\\n  2  6  1  0\\n  2  7  1  0\\nM  END\\n\",\"sdf\");\n",
       "\tviewer_16622817418882523.setStyle({\"stick\": {}});\n",
       "\tviewer_16622817418882523.zoomTo();\n",
       "viewer_16622817418882523.render();\n",
       "});\n",
       "</script>"
      ]
     },
     "metadata": {},
     "output_type": "display_data"
    },
    {
     "name": "stdout",
     "output_type": "stream",
     "text": [
      "Only one conformer is available for species methylamine, using it as initial xyz.\n",
      "The only conformer for species methylamine was found to be isomorphic with the 2D graph representation CN\n",
      "\n",
      "Running incore job opt_a449 using psi4 for methylamine\n",
      "Generating conformers for propene\n",
      "Species propene has 3 heavy atoms and 1 torsions. Using 75 random conformers.\n"
     ]
    },
    {
     "data": {
      "image/png": "[encoded data removed]",
      "text/plain": [
       "<Figure size 960x240 with 1 Axes>"
      ]
     },
     "metadata": {
      "needs_background": "light"
     },
     "output_type": "display_data"
    },
    {
     "name": "stdout",
     "output_type": "stream",
     "text": [
      "\n",
      "Hypothetical number of conformer combinations for propene: 1\n",
      "Lowest force field conformer for propene:\n",
      "C       1.12541274   -0.30178448   -0.75102912\n",
      "C       0.28418580    0.46953740   -0.05160327\n",
      "C      -0.97653206   -0.02286113    0.57965576\n",
      "H       2.02834113    0.11473659   -1.18698379\n",
      "H       0.93638806   -1.35960766   -0.90528070\n",
      "H       0.51523668    1.52472080    0.07678566\n",
      "H      -0.94263634    0.14532241    1.66036931\n",
      "H      -1.08784013   -1.09675803    0.40152036\n",
      "H      -1.86239117    0.48297658    0.18273687\n",
      "\n"
     ]
    },
    {
     "data": {
      "application/3dmoljs_load.v0": "<div id=\"3dmolviewer_16622817721359718\"  style=\"position: relative; width: 400px; height: 400px\">\n        <p id=\"3dmolwarning_16622817721359718\" style=\"background-color:#ffcccc;color:black\">You appear to be running in JupyterLab (or JavaScript failed to load for some other reason).  You need to install the 3dmol extension: <br>\n        <tt>jupyter labextension install jupyterlab_3dmol</tt></p>\n        </div>\n<script>\n\nvar loadScriptAsync = function(uri){\n  return new Promise((resolve, reject) => {\n    var tag = document.createElement('script');\n    tag.src = uri;\n    tag.async = true;\n    tag.onload = () => {\n      resolve();\n    };\n  var firstScriptTag = document.getElementsByTagName('script')[0];\n  firstScriptTag.parentNode.insertBefore(tag, firstScriptTag);\n});\n};\n\nif(typeof $3Dmolpromise === 'undefined') {\n$3Dmolpromise = null;\n  $3Dmolpromise = loadScriptAsync('https://3dmol.org/build/3Dmol.js');\n}\n\nvar viewer_16622817721359718 = null;\nvar warn = document.getElementById(\"3dmolwarning_16622817721359718\");\nif(warn) {\n    warn.parentNode.removeChild(warn);\n}\n$3Dmolpromise.then(function() {\nviewer_16622817721359718 = $3Dmol.createViewer($(\"#3dmolviewer_16622817721359718\"),{backgroundColor:\"white\"});\nviewer_16622817721359718.zoomTo();\n\tviewer_16622817721359718.addModel(\"\\n     RDKit          3D\\n\\n  9  8  0  0  0  0  0  0  0  0999 V2000\\n    1.1254   -0.3018   -0.7510 C   0  0  0  0  0  0  0  0  0  0  0  0\\n    0.2842    0.4695   -0.0516 C   0  0  0  0  0  0  0  0  0  0  0  0\\n   -0.9765   -0.0229    0.5797 C   0  0  0  0  0  0  0  0  0  0  0  0\\n    2.0283    0.1147   -1.1870 H   0  0  0  0  0  0  0  0  0  0  0  0\\n    0.9364   -1.3596   -0.9053 H   0  0  0  0  0  0  0  0  0  0  0  0\\n    0.5152    1.5247    0.0768 H   0  0  0  0  0  0  0  0  0  0  0  0\\n   -0.9426    0.1453    1.6604 H   0  0  0  0  0  0  0  0  0  0  0  0\\n   -1.0878   -1.0968    0.4015 H   0  0  0  0  0  0  0  0  0  0  0  0\\n   -1.8624    0.4830    0.1827 H   0  0  0  0  0  0  0  0  0  0  0  0\\n  1  2  2  3\\n  1  4  1  0\\n  1  5  1  0\\n  2  3  1  0\\n  2  6  1  0\\n  3  7  1  0\\n  3  8  1  0\\n  3  9  1  0\\nM  END\\n\",\"sdf\");\n\tviewer_16622817721359718.setStyle({\"stick\": {}});\n\tviewer_16622817721359718.zoomTo();\nviewer_16622817721359718.render();\n});\n</script>",
      "text/html": [
       "<div id=\"3dmolviewer_16622817721359718\"  style=\"position: relative; width: 400px; height: 400px\">\n",
       "        <p id=\"3dmolwarning_16622817721359718\" style=\"background-color:#ffcccc;color:black\">You appear to be running in JupyterLab (or JavaScript failed to load for some other reason).  You need to install the 3dmol extension: <br>\n",
       "        <tt>jupyter labextension install jupyterlab_3dmol</tt></p>\n",
       "        </div>\n",
       "<script>\n",
       "\n",
       "var loadScriptAsync = function(uri){\n",
       "  return new Promise((resolve, reject) => {\n",
       "    var tag = document.createElement('script');\n",
       "    tag.src = uri;\n",
       "    tag.async = true;\n",
       "    tag.onload = () => {\n",
       "      resolve();\n",
       "    };\n",
       "  var firstScriptTag = document.getElementsByTagName('script')[0];\n",
       "  firstScriptTag.parentNode.insertBefore(tag, firstScriptTag);\n",
       "});\n",
       "};\n",
       "\n",
       "if(typeof $3Dmolpromise === 'undefined') {\n",
       "$3Dmolpromise = null;\n",
       "  $3Dmolpromise = loadScriptAsync('https://3dmol.org/build/3Dmol.js');\n",
       "}\n",
       "\n",
       "var viewer_16622817721359718 = null;\n",
       "var warn = document.getElementById(\"3dmolwarning_16622817721359718\");\n",
       "if(warn) {\n",
       "    warn.parentNode.removeChild(warn);\n",
       "}\n",
       "$3Dmolpromise.then(function() {\n",
       "viewer_16622817721359718 = $3Dmol.createViewer($(\"#3dmolviewer_16622817721359718\"),{backgroundColor:\"white\"});\n",
       "viewer_16622817721359718.zoomTo();\n",
       "\tviewer_16622817721359718.addModel(\"\\n     RDKit          3D\\n\\n  9  8  0  0  0  0  0  0  0  0999 V2000\\n    1.1254   -0.3018   -0.7510 C   0  0  0  0  0  0  0  0  0  0  0  0\\n    0.2842    0.4695   -0.0516 C   0  0  0  0  0  0  0  0  0  0  0  0\\n   -0.9765   -0.0229    0.5797 C   0  0  0  0  0  0  0  0  0  0  0  0\\n    2.0283    0.1147   -1.1870 H   0  0  0  0  0  0  0  0  0  0  0  0\\n    0.9364   -1.3596   -0.9053 H   0  0  0  0  0  0  0  0  0  0  0  0\\n    0.5152    1.5247    0.0768 H   0  0  0  0  0  0  0  0  0  0  0  0\\n   -0.9426    0.1453    1.6604 H   0  0  0  0  0  0  0  0  0  0  0  0\\n   -1.0878   -1.0968    0.4015 H   0  0  0  0  0  0  0  0  0  0  0  0\\n   -1.8624    0.4830    0.1827 H   0  0  0  0  0  0  0  0  0  0  0  0\\n  1  2  2  3\\n  1  4  1  0\\n  1  5  1  0\\n  2  3  1  0\\n  2  6  1  0\\n  3  7  1  0\\n  3  8  1  0\\n  3  9  1  0\\nM  END\\n\",\"sdf\");\n",
       "\tviewer_16622817721359718.setStyle({\"stick\": {}});\n",
       "\tviewer_16622817721359718.zoomTo();\n",
       "viewer_16622817721359718.render();\n",
       "});\n",
       "</script>"
      ]
     },
     "metadata": {},
     "output_type": "display_data"
    },
    {
     "name": "stdout",
     "output_type": "stream",
     "text": [
      "Only one conformer is available for species propene, using it as initial xyz.\n",
      "The only conformer for species propene was found to be isomorphic with the 2D graph representation C=CC\n",
      "\n",
      "Running incore job opt_a451 using psi4 for propene\n",
      "Generating conformers for hydrazine\n",
      "Species hydrazine has 2 heavy atoms and 1 torsions. Using 75 random conformers.\n"
     ]
    },
    {
     "data": {
      "image/png": "[encoded data removed]",
      "text/plain": [
       "<Figure size 960x240 with 1 Axes>"
      ]
     },
     "metadata": {
      "needs_background": "light"
     },
     "output_type": "display_data"
    },
    {
     "name": "stdout",
     "output_type": "stream",
     "text": [
      "\n",
      "Hypothetical number of conformer combinations for hydrazine: 5\n",
      "Lowest force field conformer for hydrazine:\n",
      "N      -0.66155503   -0.06221550   -0.27970796\n",
      "N       0.66268200    0.01399364    0.28358234\n",
      "H      -1.21902191    0.75887299   -0.01910485\n",
      "H      -1.18128002   -0.85616698    0.11067217\n",
      "H       1.18240629    0.80794665   -0.10679560\n",
      "H       1.22014947   -0.80709360    0.02297653\n",
      "\n"
     ]
    },
    {
     "data": {
      "application/3dmoljs_load.v0": "<div id=\"3dmolviewer_1662281802357289\"  style=\"position: relative; width: 400px; height: 400px\">\n        <p id=\"3dmolwarning_1662281802357289\" style=\"background-color:#ffcccc;color:black\">You appear to be running in JupyterLab (or JavaScript failed to load for some other reason).  You need to install the 3dmol extension: <br>\n        <tt>jupyter labextension install jupyterlab_3dmol</tt></p>\n        </div>\n<script>\n\nvar loadScriptAsync = function(uri){\n  return new Promise((resolve, reject) => {\n    var tag = document.createElement('script');\n    tag.src = uri;\n    tag.async = true;\n    tag.onload = () => {\n      resolve();\n    };\n  var firstScriptTag = document.getElementsByTagName('script')[0];\n  firstScriptTag.parentNode.insertBefore(tag, firstScriptTag);\n});\n};\n\nif(typeof $3Dmolpromise === 'undefined') {\n$3Dmolpromise = null;\n  $3Dmolpromise = loadScriptAsync('https://3dmol.org/build/3Dmol.js');\n}\n\nvar viewer_1662281802357289 = null;\nvar warn = document.getElementById(\"3dmolwarning_1662281802357289\");\nif(warn) {\n    warn.parentNode.removeChild(warn);\n}\n$3Dmolpromise.then(function() {\nviewer_1662281802357289 = $3Dmol.createViewer($(\"#3dmolviewer_1662281802357289\"),{backgroundColor:\"white\"});\nviewer_1662281802357289.zoomTo();\n\tviewer_1662281802357289.addModel(\"\\n     RDKit          3D\\n\\n  6  5  0  0  0  0  0  0  0  0999 V2000\\n   -0.6616   -0.0622   -0.2797 N   0  0  0  0  0  0  0  0  0  0  0  0\\n    0.6627    0.0140    0.2836 N   0  0  0  0  0  0  0  0  0  0  0  0\\n   -1.2190    0.7589   -0.0191 H   0  0  0  0  0  0  0  0  0  0  0  0\\n   -1.1813   -0.8562    0.1107 H   0  0  0  0  0  0  0  0  0  0  0  0\\n    1.1824    0.8079   -0.1068 H   0  0  0  0  0  0  0  0  0  0  0  0\\n    1.2201   -0.8071    0.0230 H   0  0  0  0  0  0  0  0  0  0  0  0\\n  1  2  1  0\\n  1  3  1  0\\n  1  4  1  0\\n  2  5  1  0\\n  2  6  1  0\\nM  END\\n\",\"sdf\");\n\tviewer_1662281802357289.setStyle({\"stick\": {}});\n\tviewer_1662281802357289.zoomTo();\nviewer_1662281802357289.render();\n});\n</script>",
      "text/html": [
       "<div id=\"3dmolviewer_1662281802357289\"  style=\"position: relative; width: 400px; height: 400px\">\n",
       "        <p id=\"3dmolwarning_1662281802357289\" style=\"background-color:#ffcccc;color:black\">You appear to be running in JupyterLab (or JavaScript failed to load for some other reason).  You need to install the 3dmol extension: <br>\n",
       "        <tt>jupyter labextension install jupyterlab_3dmol</tt></p>\n",
       "        </div>\n",
       "<script>\n",
       "\n",
       "var loadScriptAsync = function(uri){\n",
       "  return new Promise((resolve, reject) => {\n",
       "    var tag = document.createElement('script');\n",
       "    tag.src = uri;\n",
       "    tag.async = true;\n",
       "    tag.onload = () => {\n",
       "      resolve();\n",
       "    };\n",
       "  var firstScriptTag = document.getElementsByTagName('script')[0];\n",
       "  firstScriptTag.parentNode.insertBefore(tag, firstScriptTag);\n",
       "});\n",
       "};\n",
       "\n",
       "if(typeof $3Dmolpromise === 'undefined') {\n",
       "$3Dmolpromise = null;\n",
       "  $3Dmolpromise = loadScriptAsync('https://3dmol.org/build/3Dmol.js');\n",
       "}\n",
       "\n",
       "var viewer_1662281802357289 = null;\n",
       "var warn = document.getElementById(\"3dmolwarning_1662281802357289\");\n",
       "if(warn) {\n",
       "    warn.parentNode.removeChild(warn);\n",
       "}\n",
       "$3Dmolpromise.then(function() {\n",
       "viewer_1662281802357289 = $3Dmol.createViewer($(\"#3dmolviewer_1662281802357289\"),{backgroundColor:\"white\"});\n",
       "viewer_1662281802357289.zoomTo();\n",
       "\tviewer_1662281802357289.addModel(\"\\n     RDKit          3D\\n\\n  6  5  0  0  0  0  0  0  0  0999 V2000\\n   -0.6616   -0.0622   -0.2797 N   0  0  0  0  0  0  0  0  0  0  0  0\\n    0.6627    0.0140    0.2836 N   0  0  0  0  0  0  0  0  0  0  0  0\\n   -1.2190    0.7589   -0.0191 H   0  0  0  0  0  0  0  0  0  0  0  0\\n   -1.1813   -0.8562    0.1107 H   0  0  0  0  0  0  0  0  0  0  0  0\\n    1.1824    0.8079   -0.1068 H   0  0  0  0  0  0  0  0  0  0  0  0\\n    1.2201   -0.8071    0.0230 H   0  0  0  0  0  0  0  0  0  0  0  0\\n  1  2  1  0\\n  1  3  1  0\\n  1  4  1  0\\n  2  5  1  0\\n  2  6  1  0\\nM  END\\n\",\"sdf\");\n",
       "\tviewer_1662281802357289.setStyle({\"stick\": {}});\n",
       "\tviewer_1662281802357289.zoomTo();\n",
       "viewer_1662281802357289.render();\n",
       "});\n",
       "</script>"
      ]
     },
     "metadata": {},
     "output_type": "display_data"
    },
    {
     "name": "stdout",
     "output_type": "stream",
     "text": [
      "Running incore job conformer0 (a453) using psi4 for hydrazine\n",
      "Running incore job conformer1 (a455) using psi4 for hydrazine\n",
      "Running incore job conformer2 (a457) using psi4 for hydrazine\n",
      "Generating conformers for vinoxy\n",
      "Species vinoxy has 3 heavy atoms and 1 torsions. Using 75 random conformers.\n"
     ]
    },
    {
     "data": {
      "image/png": "[encoded data removed]",
      "text/plain": [
       "<Figure size 960x240 with 1 Axes>"
      ]
     },
     "metadata": {
      "needs_background": "light"
     },
     "output_type": "display_data"
    },
    {
     "name": "stdout",
     "output_type": "stream",
     "text": [
      "\n",
      "Hypothetical number of conformer combinations for vinoxy: 1\n",
      "Lowest force field conformer for vinoxy:\n",
      "C      -0.68324480   -0.04685539   -0.10883672\n",
      "C       0.63642204    0.05717653    0.10011041\n",
      "O       1.50082619   -0.82476680    0.32598015\n",
      "H      -1.27691852    0.84199331   -0.29048852\n",
      "H      -1.17606821   -1.00974165   -0.10030145\n",
      "H       0.99232452    1.08896899    0.06242974\n",
      "\n"
     ]
    },
    {
     "data": {
      "application/3dmoljs_load.v0": "<div id=\"3dmolviewer_1662281892807959\"  style=\"position: relative; width: 400px; height: 400px\">\n        <p id=\"3dmolwarning_1662281892807959\" style=\"background-color:#ffcccc;color:black\">You appear to be running in JupyterLab (or JavaScript failed to load for some other reason).  You need to install the 3dmol extension: <br>\n        <tt>jupyter labextension install jupyterlab_3dmol</tt></p>\n        </div>\n<script>\n\nvar loadScriptAsync = function(uri){\n  return new Promise((resolve, reject) => {\n    var tag = document.createElement('script');\n    tag.src = uri;\n    tag.async = true;\n    tag.onload = () => {\n      resolve();\n    };\n  var firstScriptTag = document.getElementsByTagName('script')[0];\n  firstScriptTag.parentNode.insertBefore(tag, firstScriptTag);\n});\n};\n\nif(typeof $3Dmolpromise === 'undefined') {\n$3Dmolpromise = null;\n  $3Dmolpromise = loadScriptAsync('https://3dmol.org/build/3Dmol.js');\n}\n\nvar viewer_1662281892807959 = null;\nvar warn = document.getElementById(\"3dmolwarning_1662281892807959\");\nif(warn) {\n    warn.parentNode.removeChild(warn);\n}\n$3Dmolpromise.then(function() {\nviewer_1662281892807959 = $3Dmol.createViewer($(\"#3dmolviewer_1662281892807959\"),{backgroundColor:\"white\"});\nviewer_1662281892807959.zoomTo();\n\tviewer_1662281892807959.addModel(\"\\n     RDKit          3D\\n\\n  6  5  0  0  0  0  0  0  0  0999 V2000\\n   -0.6832   -0.0469   -0.1088 C   0  0  0  0  0  0  0  0  0  0  0  0\\n    0.6364    0.0572    0.1001 C   0  0  0  0  0  0  0  0  0  0  0  0\\n    1.5008   -0.8248    0.3260 O   0  0  0  0  0  1  0  0  0  0  0  0\\n   -1.2769    0.8420   -0.2905 H   0  0  0  0  0  0  0  0  0  0  0  0\\n   -1.1761   -1.0097   -0.1003 H   0  0  0  0  0  0  0  0  0  0  0  0\\n    0.9923    1.0890    0.0624 H   0  0  0  0  0  0  0  0  0  0  0  0\\n  1  2  2  3\\n  1  4  1  0\\n  1  5  1  0\\n  2  3  1  0\\n  2  6  1  0\\nM  RAD  1   3   2\\nM  END\\n\",\"sdf\");\n\tviewer_1662281892807959.setStyle({\"stick\": {}});\n\tviewer_1662281892807959.zoomTo();\nviewer_1662281892807959.render();\n});\n</script>",
      "text/html": [
       "<div id=\"3dmolviewer_1662281892807959\"  style=\"position: relative; width: 400px; height: 400px\">\n",
       "        <p id=\"3dmolwarning_1662281892807959\" style=\"background-color:#ffcccc;color:black\">You appear to be running in JupyterLab (or JavaScript failed to load for some other reason).  You need to install the 3dmol extension: <br>\n",
       "        <tt>jupyter labextension install jupyterlab_3dmol</tt></p>\n",
       "        </div>\n",
       "<script>\n",
       "\n",
       "var loadScriptAsync = function(uri){\n",
       "  return new Promise((resolve, reject) => {\n",
       "    var tag = document.createElement('script');\n",
       "    tag.src = uri;\n",
       "    tag.async = true;\n",
       "    tag.onload = () => {\n",
       "      resolve();\n",
       "    };\n",
       "  var firstScriptTag = document.getElementsByTagName('script')[0];\n",
       "  firstScriptTag.parentNode.insertBefore(tag, firstScriptTag);\n",
       "});\n",
       "};\n",
       "\n",
       "if(typeof $3Dmolpromise === 'undefined') {\n",
       "$3Dmolpromise = null;\n",
       "  $3Dmolpromise = loadScriptAsync('https://3dmol.org/build/3Dmol.js');\n",
       "}\n",
       "\n",
       "var viewer_1662281892807959 = null;\n",
       "var warn = document.getElementById(\"3dmolwarning_1662281892807959\");\n",
       "if(warn) {\n",
       "    warn.parentNode.removeChild(warn);\n",
       "}\n",
       "$3Dmolpromise.then(function() {\n",
       "viewer_1662281892807959 = $3Dmol.createViewer($(\"#3dmolviewer_1662281892807959\"),{backgroundColor:\"white\"});\n",
       "viewer_1662281892807959.zoomTo();\n",
       "\tviewer_1662281892807959.addModel(\"\\n     RDKit          3D\\n\\n  6  5  0  0  0  0  0  0  0  0999 V2000\\n   -0.6832   -0.0469   -0.1088 C   0  0  0  0  0  0  0  0  0  0  0  0\\n    0.6364    0.0572    0.1001 C   0  0  0  0  0  0  0  0  0  0  0  0\\n    1.5008   -0.8248    0.3260 O   0  0  0  0  0  1  0  0  0  0  0  0\\n   -1.2769    0.8420   -0.2905 H   0  0  0  0  0  0  0  0  0  0  0  0\\n   -1.1761   -1.0097   -0.1003 H   0  0  0  0  0  0  0  0  0  0  0  0\\n    0.9923    1.0890    0.0624 H   0  0  0  0  0  0  0  0  0  0  0  0\\n  1  2  2  3\\n  1  4  1  0\\n  1  5  1  0\\n  2  3  1  0\\n  2  6  1  0\\nM  RAD  1   3   2\\nM  END\\n\",\"sdf\");\n",
       "\tviewer_1662281892807959.setStyle({\"stick\": {}});\n",
       "\tviewer_1662281892807959.zoomTo();\n",
       "viewer_1662281892807959.render();\n",
       "});\n",
       "</script>"
      ]
     },
     "metadata": {},
     "output_type": "display_data"
    },
    {
     "name": "stdout",
     "output_type": "stream",
     "text": [
      "Only one conformer is available for species vinoxy, using it as initial xyz.\n",
      "The only conformer for species vinoxy was found to be isomorphic with the 2D graph representation C=C[O]\n",
      "\n",
      "Running incore job opt_a459 using psi4 for vinoxy\n",
      "  Ending job conformer0 for OH (run time: 0:00:00)\n",
      "  Ending job opt_a449 for methylamine (run time: 0:00:30)\n"
     ]
    },
    {
     "ename": "InputError",
     "evalue": "Could not find file /home/kfir4444/code/ARC/Projects/ArcThermoDemo/calcs/Species/methylamine/opt_a449/output.out",
     "output_type": "error",
     "traceback": [
      "\u001b[0;31m---------------------------------------------------------------------------\u001b[0m",
      "\u001b[0;31mInputError\u001b[0m                                Traceback (most recent call last)",
      "\u001b[0;32m/tmp/ipykernel_257192/4085537.py\u001b[0m in \u001b[0;36m<module>\u001b[0;34m\u001b[0m\n\u001b[1;32m     25\u001b[0m               )\n\u001b[1;32m     26\u001b[0m \u001b[0;34m\u001b[0m\u001b[0m\n\u001b[0;32m---> 27\u001b[0;31m \u001b[0marc0\u001b[0m\u001b[0;34m.\u001b[0m\u001b[0mexecute\u001b[0m\u001b[0;34m(\u001b[0m\u001b[0;34m)\u001b[0m\u001b[0;34m\u001b[0m\u001b[0;34m\u001b[0m\u001b[0m\n\u001b[0m",
      "\u001b[0;32m~/code/ARC/arc/main.py\u001b[0m in \u001b[0;36mexecute\u001b[0;34m(self)\u001b[0m\n\u001b[1;32m    581\u001b[0m                                    \u001b[0mdont_gen_confs\u001b[0m\u001b[0;34m=\u001b[0m\u001b[0mself\u001b[0m\u001b[0;34m.\u001b[0m\u001b[0mdont_gen_confs\u001b[0m\u001b[0;34m,\u001b[0m\u001b[0;34m\u001b[0m\u001b[0;34m\u001b[0m\u001b[0m\n\u001b[1;32m    582\u001b[0m                                    \u001b[0mtrsh_ess_jobs\u001b[0m\u001b[0;34m=\u001b[0m\u001b[0mself\u001b[0m\u001b[0;34m.\u001b[0m\u001b[0mtrsh_ess_jobs\u001b[0m\u001b[0;34m,\u001b[0m\u001b[0;34m\u001b[0m\u001b[0;34m\u001b[0m\u001b[0m\n\u001b[0;32m--> 583\u001b[0;31m                                    \u001b[0mfine_only\u001b[0m\u001b[0;34m=\u001b[0m\u001b[0mself\u001b[0m\u001b[0;34m.\u001b[0m\u001b[0mfine_only\u001b[0m\u001b[0;34m,\u001b[0m\u001b[0;34m\u001b[0m\u001b[0;34m\u001b[0m\u001b[0m\n\u001b[0m\u001b[1;32m    584\u001b[0m                                    )\n\u001b[1;32m    585\u001b[0m \u001b[0;34m\u001b[0m\u001b[0m\n",
      "\u001b[0;32m~/code/ARC/arc/scheduler.py\u001b[0m in \u001b[0;36m__init__\u001b[0;34m(self, project, ess_settings, species_list, project_directory, composite_method, conformer_level, opt_level, freq_level, sp_level, scan_level, ts_guess_level, irc_level, orbitals_level, adaptive_levels, rmg_database, job_types, rxn_list, bath_gas, restart_dict, max_job_time, allow_nonisomorphic_2d, memory, testing, dont_gen_confs, n_confs, e_confs, fine_only, trsh_ess_jobs, kinetics_adapter, freq_scale_factor)\u001b[0m\n\u001b[1;32m    479\u001b[0m         \u001b[0mself\u001b[0m\u001b[0;34m.\u001b[0m\u001b[0mtimer\u001b[0m \u001b[0;34m=\u001b[0m \u001b[0;32mTrue\u001b[0m\u001b[0;34m\u001b[0m\u001b[0;34m\u001b[0m\u001b[0m\n\u001b[1;32m    480\u001b[0m         \u001b[0;32mif\u001b[0m \u001b[0;32mnot\u001b[0m \u001b[0mself\u001b[0m\u001b[0;34m.\u001b[0m\u001b[0mtesting\u001b[0m\u001b[0;34m:\u001b[0m\u001b[0;34m\u001b[0m\u001b[0;34m\u001b[0m\u001b[0m\n\u001b[0;32m--> 481\u001b[0;31m             \u001b[0mself\u001b[0m\u001b[0;34m.\u001b[0m\u001b[0mschedule_jobs\u001b[0m\u001b[0;34m(\u001b[0m\u001b[0;34m)\u001b[0m\u001b[0;34m\u001b[0m\u001b[0;34m\u001b[0m\u001b[0m\n\u001b[0m\u001b[1;32m    482\u001b[0m \u001b[0;34m\u001b[0m\u001b[0m\n\u001b[1;32m    483\u001b[0m     \u001b[0;32mdef\u001b[0m \u001b[0mschedule_jobs\u001b[0m\u001b[0;34m(\u001b[0m\u001b[0mself\u001b[0m\u001b[0;34m)\u001b[0m\u001b[0;34m:\u001b[0m\u001b[0;34m\u001b[0m\u001b[0;34m\u001b[0m\u001b[0m\n",
      "\u001b[0;32m~/code/ARC/arc/scheduler.py\u001b[0m in \u001b[0;36mschedule_jobs\u001b[0;34m(self)\u001b[0m\n\u001b[1;32m    566\u001b[0m                             \u001b[0msuccessful_server_termination\u001b[0m \u001b[0;34m=\u001b[0m \u001b[0mself\u001b[0m\u001b[0;34m.\u001b[0m\u001b[0mend_job\u001b[0m\u001b[0;34m(\u001b[0m\u001b[0mjob\u001b[0m\u001b[0;34m=\u001b[0m\u001b[0mjob\u001b[0m\u001b[0;34m,\u001b[0m \u001b[0mlabel\u001b[0m\u001b[0;34m=\u001b[0m\u001b[0mlabel\u001b[0m\u001b[0;34m,\u001b[0m \u001b[0mjob_name\u001b[0m\u001b[0;34m=\u001b[0m\u001b[0mjob_name\u001b[0m\u001b[0;34m)\u001b[0m\u001b[0;34m\u001b[0m\u001b[0;34m\u001b[0m\u001b[0m\n\u001b[1;32m    567\u001b[0m                             \u001b[0;32mif\u001b[0m \u001b[0msuccessful_server_termination\u001b[0m\u001b[0;34m:\u001b[0m\u001b[0;34m\u001b[0m\u001b[0;34m\u001b[0m\u001b[0m\n\u001b[0;32m--> 568\u001b[0;31m                                 \u001b[0msuccess\u001b[0m \u001b[0;34m=\u001b[0m \u001b[0mself\u001b[0m\u001b[0;34m.\u001b[0m\u001b[0mparse_opt_geo\u001b[0m\u001b[0;34m(\u001b[0m\u001b[0mlabel\u001b[0m\u001b[0;34m=\u001b[0m\u001b[0mlabel\u001b[0m\u001b[0;34m,\u001b[0m \u001b[0mjob\u001b[0m\u001b[0;34m=\u001b[0m\u001b[0mjob\u001b[0m\u001b[0;34m)\u001b[0m\u001b[0;34m\u001b[0m\u001b[0;34m\u001b[0m\u001b[0m\n\u001b[0m\u001b[1;32m    569\u001b[0m                                 \u001b[0;32mif\u001b[0m \u001b[0msuccess\u001b[0m\u001b[0;34m:\u001b[0m\u001b[0;34m\u001b[0m\u001b[0;34m\u001b[0m\u001b[0m\n\u001b[1;32m    570\u001b[0m                                     \u001b[0mself\u001b[0m\u001b[0;34m.\u001b[0m\u001b[0mspawn_post_opt_jobs\u001b[0m\u001b[0;34m(\u001b[0m\u001b[0mlabel\u001b[0m\u001b[0;34m=\u001b[0m\u001b[0mlabel\u001b[0m\u001b[0;34m,\u001b[0m \u001b[0mjob_name\u001b[0m\u001b[0;34m=\u001b[0m\u001b[0mjob_name\u001b[0m\u001b[0;34m)\u001b[0m\u001b[0;34m\u001b[0m\u001b[0;34m\u001b[0m\u001b[0m\n",
      "\u001b[0;32m~/code/ARC/arc/scheduler.py\u001b[0m in \u001b[0;36mparse_opt_geo\u001b[0;34m(self, label, job)\u001b[0m\n\u001b[1;32m   2185\u001b[0m         \u001b[0mlogger\u001b[0m\u001b[0;34m.\u001b[0m\u001b[0mdebug\u001b[0m\u001b[0;34m(\u001b[0m\u001b[0;34mf'parsing opt geo for {job.job_name}'\u001b[0m\u001b[0;34m)\u001b[0m\u001b[0;34m\u001b[0m\u001b[0;34m\u001b[0m\u001b[0m\n\u001b[1;32m   2186\u001b[0m         \u001b[0;32mif\u001b[0m \u001b[0mjob\u001b[0m\u001b[0;34m.\u001b[0m\u001b[0mjob_status\u001b[0m\u001b[0;34m[\u001b[0m\u001b[0;36m1\u001b[0m\u001b[0;34m]\u001b[0m\u001b[0;34m[\u001b[0m\u001b[0;34m'status'\u001b[0m\u001b[0;34m]\u001b[0m \u001b[0;34m==\u001b[0m \u001b[0;34m'done'\u001b[0m\u001b[0;34m:\u001b[0m\u001b[0;34m\u001b[0m\u001b[0;34m\u001b[0m\u001b[0m\n\u001b[0;32m-> 2187\u001b[0;31m             \u001b[0mopt_xyz\u001b[0m \u001b[0;34m=\u001b[0m \u001b[0mparser\u001b[0m\u001b[0;34m.\u001b[0m\u001b[0mparse_xyz_from_file\u001b[0m\u001b[0;34m(\u001b[0m\u001b[0mpath\u001b[0m\u001b[0;34m=\u001b[0m\u001b[0mjob\u001b[0m\u001b[0;34m.\u001b[0m\u001b[0mlocal_path_to_xyz\u001b[0m \u001b[0;32mor\u001b[0m \u001b[0mjob\u001b[0m\u001b[0;34m.\u001b[0m\u001b[0mlocal_path_to_output_file\u001b[0m\u001b[0;34m)\u001b[0m\u001b[0;34m\u001b[0m\u001b[0;34m\u001b[0m\u001b[0m\n\u001b[0m\u001b[1;32m   2188\u001b[0m             \u001b[0;32mif\u001b[0m \u001b[0;32mnot\u001b[0m \u001b[0mjob\u001b[0m\u001b[0;34m.\u001b[0m\u001b[0mfine\u001b[0m \u001b[0;32mand\u001b[0m \u001b[0mself\u001b[0m\u001b[0;34m.\u001b[0m\u001b[0mjob_types\u001b[0m\u001b[0;34m[\u001b[0m\u001b[0;34m'fine'\u001b[0m\u001b[0;34m]\u001b[0m\u001b[0;31m \u001b[0m\u001b[0;31m\\\u001b[0m\u001b[0;34m\u001b[0m\u001b[0;34m\u001b[0m\u001b[0m\n\u001b[1;32m   2189\u001b[0m                     \u001b[0;32mand\u001b[0m \u001b[0;32mnot\u001b[0m \u001b[0mjob\u001b[0m\u001b[0;34m.\u001b[0m\u001b[0mlevel\u001b[0m\u001b[0;34m.\u001b[0m\u001b[0mmethod_type\u001b[0m \u001b[0;34m==\u001b[0m \u001b[0;34m'wavefunction'\u001b[0m\u001b[0;31m \u001b[0m\u001b[0;31m\\\u001b[0m\u001b[0;34m\u001b[0m\u001b[0;34m\u001b[0m\u001b[0m\n",
      "\u001b[0;32m~/code/ARC/arc/parser.py\u001b[0m in \u001b[0;36mparse_xyz_from_file\u001b[0;34m(path)\u001b[0m\n\u001b[1;32m    735\u001b[0m     \"\"\"\n\u001b[1;32m    736\u001b[0m     \u001b[0;32mif\u001b[0m \u001b[0;32mnot\u001b[0m \u001b[0mos\u001b[0m\u001b[0;34m.\u001b[0m\u001b[0mpath\u001b[0m\u001b[0;34m.\u001b[0m\u001b[0misfile\u001b[0m\u001b[0;34m(\u001b[0m\u001b[0mpath\u001b[0m\u001b[0;34m)\u001b[0m\u001b[0;34m:\u001b[0m\u001b[0;34m\u001b[0m\u001b[0;34m\u001b[0m\u001b[0m\n\u001b[0;32m--> 737\u001b[0;31m         \u001b[0;32mraise\u001b[0m \u001b[0mInputError\u001b[0m\u001b[0;34m(\u001b[0m\u001b[0;34mf'Could not find file {path}'\u001b[0m\u001b[0;34m)\u001b[0m\u001b[0;34m\u001b[0m\u001b[0;34m\u001b[0m\u001b[0m\n\u001b[0m\u001b[1;32m    738\u001b[0m     \u001b[0;32mif\u001b[0m \u001b[0mpath\u001b[0m\u001b[0;34m.\u001b[0m\u001b[0mendswith\u001b[0m\u001b[0;34m(\u001b[0m\u001b[0;34m'.yml'\u001b[0m\u001b[0;34m)\u001b[0m\u001b[0;34m:\u001b[0m\u001b[0;34m\u001b[0m\u001b[0;34m\u001b[0m\u001b[0m\n\u001b[1;32m    739\u001b[0m         \u001b[0mcontent\u001b[0m \u001b[0;34m=\u001b[0m \u001b[0mread_yaml_file\u001b[0m\u001b[0;34m(\u001b[0m\u001b[0mpath\u001b[0m\u001b[0;34m)\u001b[0m\u001b[0;34m\u001b[0m\u001b[0;34m\u001b[0m\u001b[0m\n",
      "\u001b[0;31mInputError\u001b[0m: Could not find file /home/kfir4444/code/ARC/Projects/ArcThermoDemo/calcs/Species/methylamine/opt_a449/output.out"
     ]
    }
   ],
   "source": [
    "ess_settings = {'psi4': 'local'}\n",
    "\n",
    "job_types = {'conformers': True, 'opt': True, 'fine_grid': False, 'freq': True, 'bde': False,\n",
    "             'sp': True, 'rotors': False, 'irc': False}\n",
    "\n",
    "arc0 = arc.ARC(project='ArcThermoDemo',\n",
    "               species=species,\n",
    "               ess_settings=ess_settings,\n",
    "               conformer_level = {\"method\" : \"b3lyp\",\n",
    "                                  \"basis\" : \"cc-pVTZ\",\n",
    "                                  \"software\" : \"psi4\",},\n",
    "               opt_level = {\"method\" : \"b3lyp\",\n",
    "                            \"basis\" : \"cc-pVTZ\",\n",
    "                            \"software\" : \"psi4\",},\n",
    "              sp_level = {\"method\" : \"b3lyp\",\n",
    "                          \"basis\" : \"cc-pVTZ\",\n",
    "                          \"software\" : \"psi4\",},\n",
    "               freq_level = {\"method\" : \"b3lyp\",\n",
    "                             \"basis\" : \"cc-pVTZ\",\n",
    "                             \"software\" : \"psi4\",},\n",
    "               job_types=job_types,\n",
    "               freq_scale_factor=1.0,\n",
    "               bac_type=None,\n",
    "               arkane_level_of_theory ='CBS-QB3',\n",
    "              )\n",
    "\n",
    "arc0.execute()"
   ]
  },
  {
   "cell_type": "code",
   "execution_count": null,
   "metadata": {},
   "outputs": [],
   "source": []
  }
 ],
 "metadata": {
  "kernelspec": {
   "display_name": "Python 3 (ipykernel)",
   "language": "python",
   "name": "python3"
  },
  "language_info": {
   "codemirror_mode": {
    "name": "ipython",
    "version": 3
   },
   "file_extension": ".py",
   "mimetype": "text/x-python",
   "name": "python",
   "nbconvert_exporter": "python",
   "pygments_lexer": "ipython3",
   "version": "3.7.13"
  },
  "pycharm": {
   "stem_cell": {
    "cell_type": "raw",
    "metadata": {
     "collapsed": false
    },
    "source": []
   }
  }
 },
 "nbformat": 4,
 "nbformat_minor": 2
}
