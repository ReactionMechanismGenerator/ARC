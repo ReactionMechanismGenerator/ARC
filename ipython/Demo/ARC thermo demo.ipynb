{
 "cells": [
  {
   "cell_type": "markdown",
   "metadata": {},
   "source": [
    "# ARC thermo demo"
   ]
  },
  {
   "cell_type": "markdown",
   "metadata": {},
   "source": [
    "Here we calculate thermodynamic data for several species.\n",
    "\n",
    "This demo shows different methods to define an ARCSpecies object: (1) from an RMG `Species` object, (2) using xyz (we also give SMILES for the 2D graph bond orders used for BAC), (3) from SMILES, (4) from an RMG `Molecule` object, (5) from an RMG adjacency list."
   ]
  },
  {
   "cell_type": "markdown",
   "metadata": {},
   "source": [
    "### imports"
   ]
  },
  {
   "cell_type": "code",
   "execution_count": null,
   "metadata": {},
   "outputs": [],
   "source": [
    "from arc.molecule.molecule import Molecule\n",
    "from arc.species import ARCSpecies\n",
    "from IPython.display import display\n",
    "import arc\n",
    "import matplotlib.pyplot as plt\n",
    "%matplotlib notebook\n",
    "%matplotlib inline"
   ]
  },
  {
   "cell_type": "markdown",
   "metadata": {},
   "source": [
    "### Below are different methods to define species in ARC"
   ]
  },
  {
   "cell_type": "code",
   "execution_count": null,
   "metadata": {},
   "outputs": [],
   "source": [
    "# Method 1: ARCSpecies object by XYZ\n",
    "oh_xyz = \"\"\"O       0.00000000    0.00000000   -0.12002167\n",
    "H       0.00000000    0.00000000    0.85098324\"\"\"\n",
    "spc1 = ARCSpecies(label='OH', xyz=oh_xyz)\n",
    "\n",
    "# Method 2: ARCSpecies object by SMILES\n",
    "spc2 = ARCSpecies(label='methylamine', smiles='CN')\n",
    "\n",
    "# Method 3: ARCSpecies object by RMG Molecule object\n",
    "mol3 = Molecule().from_smiles(\"C=CC\")\n",
    "spc3 = ARCSpecies(label='propene', mol=mol3)\n",
    "\n",
    "# Method 4: ARCSpecies by AdjacencyList (to generate AdjLists, see https://rmg.mit.edu/molecule_search)\n",
    "hydrazine_adj = \"\"\"1 N u0 p1 c0 {2,S} {3,S} {4,S}\n",
    "2 N u0 p1 c0 {1,S} {5,S} {6,S}\n",
    "3 H u0 p0 c0 {1,S}\n",
    "4 H u0 p0 c0 {1,S}\n",
    "5 H u0 p0 c0 {2,S}\n",
    "6 H u0 p0 c0 {2,S}\"\"\"\n",
    "spc4 = ARCSpecies(label='hydrazine', adjlist=hydrazine_adj)\n",
    "\n",
    "# Last, collect all RMG Species objects and ARCSpecies objects in a list:\n",
    "species = [spc1, spc2, spc3, spc4]"
   ]
  },
  {
   "cell_type": "markdown",
   "metadata": {},
   "source": [
    "### Run ARC:"
   ]
  },
  {
   "cell_type": "code",
   "execution_count": null,
   "metadata": {
    "scrolled": false
   },
   "outputs": [],
   "source": [
    "ess_settings = {'gaussian': 'txe1'}\n",
    "\n",
    "job_types = {'conformers': True, 'opt': True, 'fine_grid': True, 'freq': True, 'bde': False,\n",
    "             'sp': True, 'rotors': True, 'irc': False}\n",
    "\n",
    "\n",
    "\n",
    "arc0 = arc.ARC(project='ArcThermoDemo',\n",
    "               species=species,\n",
    "               ess_settings=ess_settings,\n",
    "               job_types=job_types,\n",
    "               opt_level='wb97xd/def2tzvp',\n",
    "               sp_level='wb97xd/augccpvtz',\n",
    "              )\n",
    "\n",
    "arc0.execute()"
   ]
  },
  {
   "cell_type": "code",
   "execution_count": null,
   "metadata": {},
   "outputs": [],
   "source": []
  }
 ],
 "metadata": {
  "kernelspec": {
   "display_name": "Python 3",
   "language": "python",
   "name": "python3"
  },
  "language_info": {
   "codemirror_mode": {
    "name": "ipython",
    "version": 3
   },
   "file_extension": ".py",
   "mimetype": "text/x-python",
   "name": "python",
   "nbconvert_exporter": "python",
   "pygments_lexer": "ipython3",
   "version": "3.7.6"
  },
  "pycharm": {
   "stem_cell": {
    "cell_type": "raw",
    "metadata": {
     "collapsed": false
    },
    "source": []
   }
  }
 },
 "nbformat": 4,
 "nbformat_minor": 2
}
