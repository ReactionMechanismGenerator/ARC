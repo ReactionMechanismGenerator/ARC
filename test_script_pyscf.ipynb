{
 "cells": [
  {
   "cell_type": "code",
   "execution_count": 1,
   "metadata": {},
   "outputs": [
    {
     "name": "stderr",
     "output_type": "stream",
     "text": [
      "/home/calvin/mambaforge/envs/arc_env/lib/python3.7/site-packages/paramiko/transport.py:219: CryptographyDeprecationWarning: Blowfish has been deprecated\n",
      "  \"class\": algorithms.Blowfish,\n"
     ]
    }
   ],
   "source": [
    "\n",
    "import os\n",
    "import shutil\n",
    "import unittest\n",
    "\n",
    "from arc.common import ARC_PATH, almost_equal_lists, read_yaml_file\n",
    "from arc.job.adapters.pyscf import PYSCFAdapter\n",
    "from arc.level import Level\n",
    "from arc.species import ARCSpecies\n",
    "from arc.species.vectors import calculate_distance, calculate_angle, calculate_dihedral_angle\n",
    "from arc.utils.wip import work_in_progress\n",
    "\n"
   ]
  },
  {
   "cell_type": "code",
   "execution_count": 2,
   "metadata": {},
   "outputs": [],
   "source": [
    "\n",
    "etoh_xyz = \"\"\" C       -0.93790674    0.28066443    0.10572942\n",
    "                C        0.35659906   -0.44954997    0.05020174\n",
    "                O        0.36626530   -1.59397979   -0.38012632\n",
    "                H       -1.68923915   -0.33332195    0.61329151\n",
    "                H       -0.85532021    1.23909997    0.62578027\n",
    "                H       -1.30704889    0.46001151   -0.90948878\n",
    "                H        0.76281007   -0.50036590    1.06483009\n",
    "                H        1.04287051    0.12137561   -0.58236096\n",
    "                H        1.27820018   -1.93031032   -0.35203473\"\"\""
   ]
  },
  {
   "cell_type": "code",
   "execution_count": 3,
   "metadata": {},
   "outputs": [],
   "source": [
    "        pyscf_buildinput = PYSCFAdapter(execution_type='incore',\n",
    "                                    job_type='opt',\n",
    "                                    project='test_2',\n",
    "                                    project_directory=os.path.join(ARC_PATH, 'arc', 'testing', 'test_PYSCFAdapter'),\n",
    "                                        level=Level(software='pyscf',\n",
    "                                        method='b3lyp',\n",
    "                                        basis='def2-TZVP',),\n",
    "                                    species=[ARCSpecies(label='EtOH', smiles='CCO', xyz=etoh_xyz)],)\n"
   ]
  },
  {
   "cell_type": "code",
   "execution_count": 4,
   "metadata": {},
   "outputs": [],
   "source": [
    "pyscf_buildinput.write_input_file()\n"
   ]
  },
  {
   "cell_type": "code",
   "execution_count": 5,
   "metadata": {},
   "outputs": [],
   "source": [
    "import pandas as pd\n",
    "# use pandas to read the yml file\n",
    "df = pd.read_csv(os.path.join(ARC_PATH, 'arc', 'testing', 'test_PYSCFAdapter','calcs','Species','EtOH','opt_a10','input.yml'))"
   ]
  },
  {
   "cell_type": "code",
   "execution_count": 6,
   "metadata": {},
   "outputs": [
    {
     "data": {
      "text/plain": [
       "{'basis': 'def2-tzvp',\n",
       " 'charge': 0,\n",
       " 'is_ts': 'False',\n",
       " 'job_type': 'opt',\n",
       " 'restricted': 'False',\n",
       " 'spin': 0,\n",
       " 'xc_func': 'b3lyp',\n",
       " 'xyz': 'C      -0.93790674    0.28066443    0.10572942\\nC       0.35659906   -0.44954997    0.05020174\\nO       0.36626530   -1.59397979   -0.38012632\\nH      -1.68923915   -0.33332195    0.61329151\\nH      -0.85532021    1.23909997    0.62578027\\nH      -1.30704889    0.46001151   -0.90948878\\nH       0.76281007   -0.50036590    1.06483009\\nH       1.04287051    0.12137561   -0.58236096\\nH       1.27820018   -1.93031032   -0.35203473'}"
      ]
     },
     "execution_count": 6,
     "metadata": {},
     "output_type": "execute_result"
    }
   ],
   "source": [
    "# read the yml file as a dictionary\n",
    "input_dict = read_yaml_file(os.path.join(ARC_PATH, 'arc', 'testing', 'test_PYSCFAdapter','calcs','Species','EtOH','opt_a10','input.yml'))\n",
    "input_dict"
   ]
  },
  {
   "cell_type": "code",
   "execution_count": 1,
   "metadata": {},
   "outputs": [
    {
     "ename": "ModuleNotFoundError",
     "evalue": "No module named 'pyscf'",
     "output_type": "error",
     "traceback": [
      "\u001b[0;31m---------------------------------------------------------------------------\u001b[0m",
      "\u001b[0;31mModuleNotFoundError\u001b[0m                       Traceback (most recent call last)",
      "\u001b[0;32m/tmp/ipykernel_808543/241274031.py\u001b[0m in \u001b[0;36m<module>\u001b[0;34m\u001b[0m\n\u001b[1;32m     13\u001b[0m \u001b[0;32mimport\u001b[0m \u001b[0myaml\u001b[0m\u001b[0;34m\u001b[0m\u001b[0;34m\u001b[0m\u001b[0m\n\u001b[1;32m     14\u001b[0m \u001b[0;32mimport\u001b[0m \u001b[0margparse\u001b[0m\u001b[0;34m\u001b[0m\u001b[0;34m\u001b[0m\u001b[0m\n\u001b[0;32m---> 15\u001b[0;31m \u001b[0;32mimport\u001b[0m \u001b[0mpyscf\u001b[0m\u001b[0;34m\u001b[0m\u001b[0;34m\u001b[0m\u001b[0m\n\u001b[0m\u001b[1;32m     16\u001b[0m \u001b[0;32mfrom\u001b[0m \u001b[0mpyscf\u001b[0m \u001b[0;32mimport\u001b[0m \u001b[0mgto\u001b[0m\u001b[0;34m,\u001b[0m \u001b[0mscf\u001b[0m\u001b[0;34m\u001b[0m\u001b[0;34m\u001b[0m\u001b[0m\n\u001b[1;32m     17\u001b[0m \u001b[0;34m\u001b[0m\u001b[0m\n",
      "\u001b[0;31mModuleNotFoundError\u001b[0m: No module named 'pyscf'"
     ]
    }
   ],
   "source": [
    "#!/usr/bin/env python3\n",
    "# encoding: utf-8\n",
    "\n",
    "\"\"\"\n",
    "A standalone script to run PySCF with the xyz data outputted from ARC.\n",
    "Should be run under the pyscf_env.\n",
    "\"\"\"\n",
    "\n",
    "# Parse the input.yml file\n",
    "\n",
    "import os\n",
    "import sys\n",
    "import yaml\n",
    "import argparse\n",
    "import pyscf\n",
    "from pyscf import gto, scf\n",
    "\n",
    "class PYSCFScript:\n",
    "    \n",
    "    def __init__(self, input_file):\n",
    "        self.input_file = input_file\n",
    "        self.input_dict = self.read_input_file()\n",
    "        self.job_type = self.get_job_type()\n",
    "        self.mol = self.get_mol()\n",
    "        self.method = self.get_method()\n",
    "        self.basis = self.get_basis()\n",
    "        self.charge = self.get_charge()\n",
    "        self.spin = self.get_spin()\n",
    "        self.restricted = self.get_restricted()\n",
    "        self.run()\n",
    "    def read_input_file(self):\n",
    "        with open(self.input_file, 'r') as f:\n",
    "            input_dict = yaml.load(f)\n",
    "        return input_dict\n",
    "    def get_job_type(self):\n",
    "        job_type = self.input_dict['job_type']\n",
    "        return job_type\n",
    "    def get_mol(self):\n",
    "        mol = self.input_dict['molecule']\n",
    "        return mol\n",
    "    def get_method(self):\n",
    "        method = self.input_dict['xc_func']\n",
    "        return method\n",
    "    def get_basis(self):\n",
    "        basis = self.input_dict['basis']\n",
    "        return basis\n",
    "    def get_charge(self):\n",
    "        charge = self.input_dict['charge']\n",
    "        return charge\n",
    "    def get_spin(self):\n",
    "        spin = self.input_dict['spin']\n",
    "        return spin\n",
    "    def get_restricted(self):\n",
    "        restricted = self.input_dict['restricted']\n",
    "        return restricted\n",
    "    def run(self):\n",
    "\n",
    "        mol = gto.Mole()\n",
    "        mol.atom = self.mol\n",
    "        mol.basis = self.basis\n",
    "        mol.charge = self.charge\n",
    "        mol.spin = self.spin\n",
    "        mol.build()\n",
    "        \n",
    "        if restricted:\n",
    "            mf = dft.RKS(mol)\n",
    "        else:\n",
    "            mf = dft.UKS(mol)\n",
    "        mf.xc = self.method\n",
    "        \n",
    "        # TODO: Check if TS\n",
    "        if self.is_ts and self.job_type == 'opt':\n",
    "            from pyscf.qsdopt.qsd_optimizer import QSD\n",
    "            optimizer = QSD(mf, stationary_point='TS')\n",
    "            \n",
    "\n",
    "            # hess_update_freq: Frequency for numerical reevaluation of hessian. = 0 evaluates the numerical hessian in the first iteration and is updated with an BFGS rule, unless approaching a trap region, where it is reevaluated. (Default: 0)\n",
    "\n",
    "            # numhess_method: Method for evaluating numerical hessian. Forward and central differences are available with “forward” and “central”, respectively. (Default: “forward”)\n",
    "\n",
    "            # max_iter: Maximum number of optimization steps. (Default: 100)\n",
    "\n",
    "            # step: Maximum norm between two optimization steps. (Default: 0.1)\n",
    "\n",
    "            # hmin: Minimum distance between current geometry and stationary point of the quadratic form to consider convergence reached. (Default: 1e-6)\n",
    "\n",
    "            # gthres: Gradient norm to consider convergence. (Default: 1e-5)\n",
    "\n",
    "            optimizer.kernel(hess_update_freq=0, numhess_method='forward', max_iter=100, step=0.1, hmin=1e-6, gthres=1e-5)\n",
    "        \n",
    "        if self.job_type == 'opt' and not self.is_ts:\n",
    "            from pyscf.geomopt.geometric_solver import optimize\n",
    "            conv_params = { # These are the default settings\n",
    "                                'convergence_energy': 1e-6,  # Eh\n",
    "                                'convergence_grms': 3e-4,    # Eh/Bohr\n",
    "                                'convergence_gmax': 4.5e-4,  # Eh/Bohr\n",
    "                                'convergence_drms': 1.2e-3,  # Angstrom\n",
    "                                'convergence_dmax': 1.8e-3,  # Angstrom\n",
    "                            }\n",
    "            mol_eq = optimize(mf, maxsteps=100, **conv_params) # TODO: Need to define maxsteps as a TRSH parameter\n",
    "            mf.kernel()\n",
    "            print('SCF energy of {0} is {1}.'.format(self.method, mf.e_tot))\n",
    "            \n",
    "        if self.job_type == 'freq':\n",
    "            #npip install git+https://github.com/pyscf/properties\n",
    "            from pyscf.prop.freq import rks            \n",
    "            w, modes = rks.Freq(mf).kernel()            \n",
    "            print('Frequencies (cm-1):')\n",
    "        \n",
    "        # if self.job_type == 'scan':\n",
    "        #     #https://github.com/pyscf/pyscf/blob/14d88828cd1f18f1e5358da1445355bde55322a1/examples/scf/30-scan_pes.py#L16\n",
    "        #     # Requires manual development for the code. Not feasible at the moment.\n",
    "        #     scan_results = []\n",
    "        #     for value in np.arange(self.start, self.end, self.step_size):\n",
    "        #         upd\n",
    "        if self.job_type == 'sp':\n",
    "            mf.kernel()\n",
    "            print('The single-point DFT energy is:', energy)\n",
    "            \n",
    "        print('SCF energy of {0} is {1}.'.format(self.method, mf.e_tot))"
   ]
  },
  {
   "cell_type": "code",
   "execution_count": null,
   "metadata": {},
   "outputs": [],
   "source": []
  },
  {
   "cell_type": "code",
   "execution_count": null,
   "metadata": {},
   "outputs": [],
   "source": []
  }
 ],
 "metadata": {
  "kernelspec": {
   "display_name": "arc_env",
   "language": "python",
   "name": "python3"
  },
  "language_info": {
   "codemirror_mode": {
    "name": "ipython",
    "version": 3
   },
   "file_extension": ".py",
   "mimetype": "text/x-python",
   "name": "python",
   "nbconvert_exporter": "python",
   "pygments_lexer": "ipython3",
   "version": "3.7.16"
  }
 },
 "nbformat": 4,
 "nbformat_minor": 2
}
